{
 "cells": [
  {
   "cell_type": "markdown",
   "id": "5ceca339",
   "metadata": {
    "slideshow": {
     "slide_type": "slide"
    },
    "tags": []
   },
   "source": [
    "# SEN163A - Fundamentals of Data Analytics\n",
    "## Assignment 3 - Newspaper data web scraping\n",
    "### Dr. Ir. Jacopo De Stefani - [J.deStefani@tudelft.nl](mailto:J.deStefani@tudelft.nl)\n",
    "### Joao Pizani Flor, M.Sc. - [J.p.pizaniflor@tudelft.nl](mailto:J.p.pizaniflor@tudelft.nl)"
   ]
  },
  {
   "cell_type": "markdown",
   "id": "94a6f3d3",
   "metadata": {
    "slideshow": {
     "slide_type": "slide"
    },
    "tags": []
   },
   "source": [
    "# Review\n",
    "\n",
    "- Web Server\n",
    "- HTML Page\n"
   ]
  },
  {
   "cell_type": "markdown",
   "id": "5ec98aee",
   "metadata": {
    "slideshow": {
     "slide_type": "slide"
    },
    "tags": []
   },
   "source": [
    "## Web Server\n",
    "\n",
    "![WebServerWorkflow](WebServerWorkflow.png)\n",
    "\n",
    "**Quick reference:** https://www.quackit.com/web_servers/tutorial/how_web_servers_work.cfm"
   ]
  },
  {
   "cell_type": "markdown",
   "id": "94e922a4",
   "metadata": {
    "tags": []
   },
   "source": [
    "## HTML Page\n",
    "\n",
    "<img src=\"BasicHTMLPage.png\" alt=\"Basic HTML Page Structure\" style=\"width: 800px;\"/>\n",
    "\n",
    "**Source:** https://devpost.com/software/mike-dastic-basic-html-structure\n",
    "\n",
    "<img src=\"HTMLPageStructure.png\" alt=\"Advanced HTML Page Structure\" style=\"width: 800px;\"/>\n",
    "\n",
    "**Source:** https://stackoverflow.com/questions/51609208/html5-page-structure-section-and-article-correct-placement\n"
   ]
  },
  {
   "cell_type": "markdown",
   "id": "21a6f0cc",
   "metadata": {},
   "source": [
    "<img src=\"HTML5vsHTML4.png\" alt=\"HTML4 vs HTML5\" style=\"width: 800px;\"/>\n",
    "\n",
    "**Source:** https://dotnetinter.livejournal.com/78240.html?\n",
    "\n",
    "**Quick reference:** https://blog.stackpath.com/autonomous-system-number/"
   ]
  },
  {
   "cell_type": "markdown",
   "id": "9f2c69f0",
   "metadata": {},
   "source": [
    "# Scraping\n",
    "\n",
    "1. Exploring the target webpage\n",
    "2. Loading relevant libraries\n",
    "3. While `! reached end page`:\n",
    "    Scrape!"
   ]
  },
  {
   "cell_type": "markdown",
   "id": "7ab019c2",
   "metadata": {},
   "source": [
    "# Exploring the target webpage\n",
    "\n",
    "Inspect the page: https://jdestefani.github.io/SEN163A-TabularRazorArchives/"
   ]
  },
  {
   "cell_type": "markdown",
   "id": "c87f854a",
   "metadata": {},
   "source": [
    "# Loading relevant libraries\n",
    "\n",
    "## Beautiful Soup"
   ]
  },
  {
   "cell_type": "code",
   "execution_count": 1,
   "id": "bcc05c27",
   "metadata": {},
   "outputs": [],
   "source": [
    "from bs4 import BeautifulSoup"
   ]
  },
  {
   "cell_type": "code",
   "execution_count": 2,
   "id": "977b19d6",
   "metadata": {},
   "outputs": [
    {
     "name": "stderr",
     "output_type": "stream",
     "text": [
      "C:\\Users\\jdestefani\\AppData\\Local\\Programs\\Python\\Python310\\lib\\site-packages\\bs4\\__init__.py:431: MarkupResemblesLocatorWarning: \"https://jdestefani.github.io/SEN163A-TabularRazorArchives/\" looks like a URL. Beautiful Soup is not an HTTP client. You should probably use an HTTP client like requests to get the document behind the URL, and feed that document to Beautiful Soup.\n",
      "  warnings.warn(\n"
     ]
    }
   ],
   "source": [
    "index_page = BeautifulSoup(\"https://jdestefani.github.io/SEN163A-TabularRazorArchives/\")"
   ]
  },
  {
   "cell_type": "markdown",
   "id": "1e00b1bf",
   "metadata": {},
   "source": [
    "## Adding request library to perform HTTP requests"
   ]
  },
  {
   "cell_type": "code",
   "execution_count": 3,
   "id": "29ce69d6",
   "metadata": {},
   "outputs": [],
   "source": [
    "import requests\n",
    "source_page = \"https://jdestefani.github.io/SEN163A-TabularRazorArchives/\"\n",
    "response = requests.get(source_page)\n",
    "index_page_html = response.text"
   ]
  },
  {
   "cell_type": "code",
   "execution_count": 4,
   "id": "8553e035",
   "metadata": {},
   "outputs": [
    {
     "data": {
      "text/plain": [
       "'<head>\\n<title>\\nArticles\\n</title>\\n</head>\\n<body>\\n<h1>All articles</h1>\\n<br><br>\\n\\n\\n<h2>Articles year 2012</h2>\\n<br>\\n<div class=\"yearlink\"> <a href=\"./2012.html\">Articles in 2012</a> </div>\\n<h2>Articles year 2013</h2>\\n<br>\\n<div class=\"yearlink\"> <a href=\"./2013.html\">Articles in 2013</a> </div>\\n<h2>Articles year 2014</h2>\\n<br>\\n<div class=\"yearlink\"> <a href=\"./2014.html\">Articles in 2014</a> </div>\\n<h2>Articles year 2015</h2>\\n<br>\\n<div class=\"yearlink\"> <a href=\"./2015.html\">Articles in 2015</a> </div>\\n<h2>Articles year 2016</h2>\\n<br>\\n<div class=\"yearlink\"> <a href=\"./2016.html\">Articles in 2016</a> </div>\\n<h2>Articles year 2017</h2>\\n<br>\\n<div class=\"yearlink\"> <a href=\"./2017.html\">Articles in 2017</a> </div>\\n<h2>Articles year 2018</h2>\\n<br>\\n<div class=\"yearlink\"> <a href=\"./2018.html\">Articles in 2018</a> </div>\\n<h2>Articles year 2019</h2>\\n<br>\\n<div class=\"yearlink\"> <a href=\"./2019.html\">Articles in 2019</a> </div>\\n'"
      ]
     },
     "execution_count": 4,
     "metadata": {},
     "output_type": "execute_result"
    }
   ],
   "source": [
    "index_page_html"
   ]
  },
  {
   "cell_type": "markdown",
   "id": "9bd3396f",
   "metadata": {},
   "source": [
    "# Top-level parsing"
   ]
  },
  {
   "cell_type": "code",
   "execution_count": 5,
   "id": "e0cf1c8d",
   "metadata": {},
   "outputs": [],
   "source": [
    "index_page = BeautifulSoup(index_page_html)"
   ]
  },
  {
   "cell_type": "code",
   "execution_count": 6,
   "id": "de647324",
   "metadata": {},
   "outputs": [
    {
     "name": "stdout",
     "output_type": "stream",
     "text": [
      "<html>\n",
      " <head>\n",
      "  <title>\n",
      "   Articles\n",
      "  </title>\n",
      " </head>\n",
      " <body>\n",
      "  <h1>\n",
      "   All articles\n",
      "  </h1>\n",
      "  <br/>\n",
      "  <br/>\n",
      "  <h2>\n",
      "   Articles year 2012\n",
      "  </h2>\n",
      "  <br/>\n",
      "  <div class=\"yearlink\">\n",
      "   <a href=\"./2012.html\">\n",
      "    Articles in 2012\n",
      "   </a>\n",
      "  </div>\n",
      "  <h2>\n",
      "   Articles year 2013\n",
      "  </h2>\n",
      "  <br/>\n",
      "  <div class=\"yearlink\">\n",
      "   <a href=\"./2013.html\">\n",
      "    Articles in 2013\n",
      "   </a>\n",
      "  </div>\n",
      "  <h2>\n",
      "   Articles year 2014\n",
      "  </h2>\n",
      "  <br/>\n",
      "  <div class=\"yearlink\">\n",
      "   <a href=\"./2014.html\">\n",
      "    Articles in 2014\n",
      "   </a>\n",
      "  </div>\n",
      "  <h2>\n",
      "   Articles year 2015\n",
      "  </h2>\n",
      "  <br/>\n",
      "  <div class=\"yearlink\">\n",
      "   <a href=\"./2015.html\">\n",
      "    Articles in 2015\n",
      "   </a>\n",
      "  </div>\n",
      "  <h2>\n",
      "   Articles year 2016\n",
      "  </h2>\n",
      "  <br/>\n",
      "  <div class=\"yearlink\">\n",
      "   <a href=\"./2016.html\">\n",
      "    Articles in 2016\n",
      "   </a>\n",
      "  </div>\n",
      "  <h2>\n",
      "   Articles year 2017\n",
      "  </h2>\n",
      "  <br/>\n",
      "  <div class=\"yearlink\">\n",
      "   <a href=\"./2017.html\">\n",
      "    Articles in 2017\n",
      "   </a>\n",
      "  </div>\n",
      "  <h2>\n",
      "   Articles year 2018\n",
      "  </h2>\n",
      "  <br/>\n",
      "  <div class=\"yearlink\">\n",
      "   <a href=\"./2018.html\">\n",
      "    Articles in 2018\n",
      "   </a>\n",
      "  </div>\n",
      "  <h2>\n",
      "   Articles year 2019\n",
      "  </h2>\n",
      "  <br/>\n",
      "  <div class=\"yearlink\">\n",
      "   <a href=\"./2019.html\">\n",
      "    Articles in 2019\n",
      "   </a>\n",
      "  </div>\n",
      " </body>\n",
      "</html>\n"
     ]
    }
   ],
   "source": [
    "print(index_page.prettify())"
   ]
  },
  {
   "cell_type": "code",
   "execution_count": 7,
   "id": "5d03d076",
   "metadata": {},
   "outputs": [
    {
     "name": "stdout",
     "output_type": "stream",
     "text": [
      "Found link: <a href=\"./2012.html\">Articles in 2012</a>\n",
      "Found link: <a href=\"./2013.html\">Articles in 2013</a>\n",
      "Found link: <a href=\"./2014.html\">Articles in 2014</a>\n",
      "Found link: <a href=\"./2015.html\">Articles in 2015</a>\n",
      "Found link: <a href=\"./2016.html\">Articles in 2016</a>\n",
      "Found link: <a href=\"./2017.html\">Articles in 2017</a>\n",
      "Found link: <a href=\"./2018.html\">Articles in 2018</a>\n",
      "Found link: <a href=\"./2019.html\">Articles in 2019</a>\n"
     ]
    }
   ],
   "source": [
    "for link in index_page.find_all('a', href=True):\n",
    "    print(\"Found link: \" +str(link))"
   ]
  },
  {
   "cell_type": "code",
   "execution_count": 8,
   "id": "7bc8f864",
   "metadata": {},
   "outputs": [
    {
     "data": {
      "text/plain": [
       "'./2019.html'"
      ]
     },
     "execution_count": 8,
     "metadata": {},
     "output_type": "execute_result"
    }
   ],
   "source": [
    "link.get('href')"
   ]
  },
  {
   "cell_type": "markdown",
   "id": "886145c3",
   "metadata": {},
   "source": [
    "# Intermediate level parsing\n",
    "\n",
    "## Adding Urlib to manage URL more easily"
   ]
  },
  {
   "cell_type": "code",
   "execution_count": 9,
   "id": "f4903738",
   "metadata": {},
   "outputs": [],
   "source": [
    "from urllib.parse import urljoin"
   ]
  },
  {
   "cell_type": "code",
   "execution_count": 10,
   "id": "e0404584",
   "metadata": {},
   "outputs": [
    {
     "data": {
      "text/plain": [
       "'https://jdestefani.github.io/SEN163A-TabularRazorArchives/2019.html'"
      ]
     },
     "execution_count": 10,
     "metadata": {},
     "output_type": "execute_result"
    }
   ],
   "source": [
    "urljoin(source_page,link.get('href'))"
   ]
  },
  {
   "cell_type": "markdown",
   "id": "cd34f8f1",
   "metadata": {},
   "source": [
    "## HTML Request + Beautiful Soup Loop"
   ]
  },
  {
   "cell_type": "code",
   "execution_count": 11,
   "id": "d129b0fe",
   "metadata": {},
   "outputs": [
    {
     "name": "stdout",
     "output_type": "stream",
     "text": [
      "<html>\n",
      " <head>\n",
      "  <title>\n",
      "   Articles in 2012\n",
      "  </title>\n",
      " </head>\n",
      " <body>\n",
      "  <h1>\n",
      "   2012\n",
      "  </h1>\n",
      "  <br/>\n",
      "  <br/>\n",
      "  <div class=\"monthlink\">\n",
      "   <a href=\"./2012-1.html\">\n",
      "    Month 1 in 2012\n",
      "   </a>\n",
      "  </div>\n",
      "  <div class=\"monthlink\">\n",
      "   <a href=\"./2012-2.html\">\n",
      "    Month 2 in 2012\n",
      "   </a>\n",
      "  </div>\n",
      "  <div class=\"monthlink\">\n",
      "   <a href=\"./2012-3.html\">\n",
      "    Month 3 in 2012\n",
      "   </a>\n",
      "  </div>\n",
      "  <div class=\"monthlink\">\n",
      "   <a href=\"./2012-4.html\">\n",
      "    Month 4 in 2012\n",
      "   </a>\n",
      "  </div>\n",
      "  <div class=\"monthlink\">\n",
      "   <a href=\"./2012-5.html\">\n",
      "    Month 5 in 2012\n",
      "   </a>\n",
      "  </div>\n",
      "  <div class=\"monthlink\">\n",
      "   <a href=\"./2012-6.html\">\n",
      "    Month 6 in 2012\n",
      "   </a>\n",
      "  </div>\n",
      "  <div class=\"monthlink\">\n",
      "   <a href=\"./2012-7.html\">\n",
      "    Month 7 in 2012\n",
      "   </a>\n",
      "  </div>\n",
      "  <div class=\"monthlink\">\n",
      "   <a href=\"./2012-8.html\">\n",
      "    Month 8 in 2012\n",
      "   </a>\n",
      "  </div>\n",
      "  <div class=\"monthlink\">\n",
      "   <a href=\"./2012-9.html\">\n",
      "    Month 9 in 2012\n",
      "   </a>\n",
      "  </div>\n",
      "  <div class=\"monthlink\">\n",
      "   <a href=\"./2012-10.html\">\n",
      "    Month 10 in 2012\n",
      "   </a>\n",
      "  </div>\n",
      "  <div class=\"monthlink\">\n",
      "   <a href=\"./2012-11.html\">\n",
      "    Month 11 in 2012\n",
      "   </a>\n",
      "  </div>\n",
      "  <div class=\"monthlink\">\n",
      "   <a href=\"./2012-12.html\">\n",
      "    Month 12 in 2012\n",
      "   </a>\n",
      "  </div>\n",
      " </body>\n",
      "</html>\n",
      "<html>\n",
      " <head>\n",
      "  <title>\n",
      "   Articles in 2013\n",
      "  </title>\n",
      " </head>\n",
      " <body>\n",
      "  <h1>\n",
      "   2013\n",
      "  </h1>\n",
      "  <br/>\n",
      "  <br/>\n",
      "  <div class=\"monthlink\">\n",
      "   <a href=\"./2013-1.html\">\n",
      "    Month 1 in 2013\n",
      "   </a>\n",
      "  </div>\n",
      "  <div class=\"monthlink\">\n",
      "   <a href=\"./2013-2.html\">\n",
      "    Month 2 in 2013\n",
      "   </a>\n",
      "  </div>\n",
      "  <div class=\"monthlink\">\n",
      "   <a href=\"./2013-3.html\">\n",
      "    Month 3 in 2013\n",
      "   </a>\n",
      "  </div>\n",
      "  <div class=\"monthlink\">\n",
      "   <a href=\"./2013-4.html\">\n",
      "    Month 4 in 2013\n",
      "   </a>\n",
      "  </div>\n",
      "  <div class=\"monthlink\">\n",
      "   <a href=\"./2013-5.html\">\n",
      "    Month 5 in 2013\n",
      "   </a>\n",
      "  </div>\n",
      "  <div class=\"monthlink\">\n",
      "   <a href=\"./2013-6.html\">\n",
      "    Month 6 in 2013\n",
      "   </a>\n",
      "  </div>\n",
      "  <div class=\"monthlink\">\n",
      "   <a href=\"./2013-7.html\">\n",
      "    Month 7 in 2013\n",
      "   </a>\n",
      "  </div>\n",
      "  <div class=\"monthlink\">\n",
      "   <a href=\"./2013-8.html\">\n",
      "    Month 8 in 2013\n",
      "   </a>\n",
      "  </div>\n",
      "  <div class=\"monthlink\">\n",
      "   <a href=\"./2013-9.html\">\n",
      "    Month 9 in 2013\n",
      "   </a>\n",
      "  </div>\n",
      "  <div class=\"monthlink\">\n",
      "   <a href=\"./2013-10.html\">\n",
      "    Month 10 in 2013\n",
      "   </a>\n",
      "  </div>\n",
      "  <div class=\"monthlink\">\n",
      "   <a href=\"./2013-11.html\">\n",
      "    Month 11 in 2013\n",
      "   </a>\n",
      "  </div>\n",
      "  <div class=\"monthlink\">\n",
      "   <a href=\"./2013-12.html\">\n",
      "    Month 12 in 2013\n",
      "   </a>\n",
      "  </div>\n",
      " </body>\n",
      "</html>\n"
     ]
    }
   ],
   "source": [
    "link_list = index_page.find_all('a', href=True)\n",
    "\n",
    "for link in link_list[0:2] :\n",
    "    response = requests.get(urljoin(source_page,link.get('href')))\n",
    "    current_page_html = response.text\n",
    "    current_page = BeautifulSoup(current_page_html)\n",
    "    print(current_page.prettify())"
   ]
  },
  {
   "cell_type": "markdown",
   "id": "d874b97b",
   "metadata": {},
   "source": [
    "# Bottom-level parsing"
   ]
  },
  {
   "cell_type": "code",
   "execution_count": 12,
   "id": "86116f70",
   "metadata": {},
   "outputs": [],
   "source": [
    "leaf_page_URL = \"https://jdestefani.github.io/SEN163A-TabularRazorArchives/01/12/2012/eius-etincidunt-consectetur-eius.html\"\n",
    "response = requests.get(leaf_page_URL)\n",
    "leaf_page_HTML = response.text\n",
    "leaf_page = BeautifulSoup(leaf_page_HTML)"
   ]
  },
  {
   "cell_type": "code",
   "execution_count": 13,
   "id": "33f50cf4",
   "metadata": {},
   "outputs": [
    {
     "name": "stdout",
     "output_type": "stream",
     "text": [
      "<html>\n",
      " <head>\n",
      "  <title>\n",
      "   Eius etincidunt consectetur eius\n",
      "  </title>\n",
      " </head>\n",
      " <body>\n",
      "  <h1>\n",
      "   Eius etincidunt consectetur eius\n",
      "  </h1>\n",
      "  <i>\n",
      "   <div class=\"author\">\n",
      "    Bebe Riva\n",
      "   </div>\n",
      "   -\n",
      "   <div class=\"date\">\n",
      "    2012-12-01\n",
      "   </div>\n",
      "   -\n",
      "   <div class=\"time\">\n",
      "    17:14\n",
      "   </div>\n",
      "  </i>\n",
      "  <p>\n",
      "   Aliquam quaerat eius sed est. Magnam velit velit quiquia. Amet numquam amet etincidunt sed non ipsum. Consectetur numquam labore dolorem amet modi. Sed aliquam dolorem quaerat sed quiquia tempora est. Labore amet voluptatem adipisci non modi.\n",
      "  </p>\n",
      "  <p>\n",
      "   Quisquam consectetur numquam tempora. Modi consectetur dolor velit quiquia ut. Eius adipisci dolorem dolor magnam. Dolor dolorem modi voluptatem magnam ut. Eius neque non ipsum etincidunt etincidunt. Eius eius sit non. Neque quaerat magnam quiquia sit voluptatem dolor. Tempora dolorem sed amet labore porro.\n",
      "  </p>\n",
      "  <p>\n",
      "   Dolor magnam amet dolorem magnam modi est modi. Porro tempora dolorem neque numquam dolor. Velit eius voluptatem sit ipsum adipisci. Dolor quisquam ut aliquam neque. Velit modi etincidunt amet velit modi tempora tempora. Numquam modi est labore modi. Modi quiquia amet modi sed velit consectetur ipsum. Etincidunt quisquam voluptatem ut dolorem neque quisquam quaerat. Quiquia quaerat dolore magnam.\n",
      "  </p>\n",
      " </body>\n",
      "</html>\n"
     ]
    }
   ],
   "source": [
    "print(leaf_page.prettify())"
   ]
  },
  {
   "cell_type": "code",
   "execution_count": 14,
   "id": "0b03f937",
   "metadata": {},
   "outputs": [
    {
     "data": {
      "text/plain": [
       "[<div class=\"author\">Bebe Riva</div>,\n",
       " <div class=\"date\">2012-12-01</div>,\n",
       " <div class=\"time\">17:14</div>]"
      ]
     },
     "execution_count": 14,
     "metadata": {},
     "output_type": "execute_result"
    }
   ],
   "source": [
    "leaf_page.find_all('div')"
   ]
  },
  {
   "cell_type": "code",
   "execution_count": 15,
   "id": "a5a799f1",
   "metadata": {},
   "outputs": [
    {
     "name": "stdout",
     "output_type": "stream",
     "text": [
      "<div class=\"author\">Bebe Riva</div>\n",
      "<div class=\"date\">2012-12-01</div>\n",
      "<div class=\"time\">17:14</div>\n"
     ]
    }
   ],
   "source": [
    "for div_element in leaf_page.find_all('div'):\n",
    "    print(div_element)"
   ]
  },
  {
   "cell_type": "code",
   "execution_count": 16,
   "id": "8a994a04",
   "metadata": {},
   "outputs": [
    {
     "data": {
      "text/plain": [
       "'17:14'"
      ]
     },
     "execution_count": 16,
     "metadata": {},
     "output_type": "execute_result"
    }
   ],
   "source": [
    "div_element.get_text()"
   ]
  },
  {
   "cell_type": "code",
   "execution_count": 17,
   "id": "33b52169",
   "metadata": {},
   "outputs": [
    {
     "name": "stdout",
     "output_type": "stream",
     "text": [
      "<div class=\"author\">Bebe Riva</div>\n",
      "<div class=\"date\">2012-12-01</div>\n",
      "<div class=\"time\">17:14</div>\n"
     ]
    }
   ],
   "source": [
    "post_data_list = [] \n",
    "\n",
    "for div_element in leaf_page.find_all('div'):\n",
    "    if div_element.get('class') == ['author']:\n",
    "        author_name = div_element.get_text()\n",
    "    if div_element.get('class') == ['date']:\n",
    "        post_date = div_element.get_text()\n",
    "    if div_element.get('class') == ['time']:\n",
    "        post_time = div_element.get_text()\n",
    "    print(div_element)\n",
    "\n",
    "post_data_list.append((author_name,post_date,post_time))"
   ]
  },
  {
   "cell_type": "code",
   "execution_count": 18,
   "id": "2195148b",
   "metadata": {},
   "outputs": [
    {
     "data": {
      "text/plain": [
       "[('Bebe Riva', '2012-12-01', '17:14')]"
      ]
     },
     "execution_count": 18,
     "metadata": {},
     "output_type": "execute_result"
    }
   ],
   "source": [
    "post_data_list"
   ]
  },
  {
   "cell_type": "markdown",
   "id": "b02e907d",
   "metadata": {},
   "source": [
    "In a more compact format, as suggested by one of your colleagues:"
   ]
  },
  {
   "cell_type": "code",
   "execution_count": 19,
   "id": "82245b90",
   "metadata": {},
   "outputs": [
    {
     "data": {
      "text/plain": [
       "[<div class=\"author\">Bebe Riva</div>]"
      ]
     },
     "execution_count": 19,
     "metadata": {},
     "output_type": "execute_result"
    }
   ],
   "source": [
    "leaf_page.find_all('div',class_='author')"
   ]
  },
  {
   "cell_type": "code",
   "execution_count": 20,
   "id": "bcf05cc3",
   "metadata": {},
   "outputs": [
    {
     "data": {
      "text/plain": [
       "<div class=\"author\">Bebe Riva</div>"
      ]
     },
     "execution_count": 20,
     "metadata": {},
     "output_type": "execute_result"
    }
   ],
   "source": [
    "leaf_page.find_all('div',class_='author')[0]"
   ]
  },
  {
   "cell_type": "code",
   "execution_count": 21,
   "id": "ef8c2014",
   "metadata": {},
   "outputs": [
    {
     "data": {
      "text/plain": [
       "'Bebe Riva'"
      ]
     },
     "execution_count": 21,
     "metadata": {},
     "output_type": "execute_result"
    }
   ],
   "source": [
    "leaf_page.find_all('div',class_='author')[0].get_text()"
   ]
  }
 ],
 "metadata": {
  "kernelspec": {
   "display_name": "Python 3 (ipykernel)",
   "language": "python",
   "name": "python3"
  },
  "language_info": {
   "codemirror_mode": {
    "name": "ipython",
    "version": 3
   },
   "file_extension": ".py",
   "mimetype": "text/x-python",
   "name": "python",
   "nbconvert_exporter": "python",
   "pygments_lexer": "ipython3",
   "version": "3.9.6"
  }
 },
 "nbformat": 4,
 "nbformat_minor": 5
}
