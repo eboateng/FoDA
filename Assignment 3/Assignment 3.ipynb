{
 "cells": [
  {
   "cell_type": "markdown",
   "id": "c64ef1ea",
   "metadata": {},
   "source": [
    "# SEN163A - Fundamentals of Data Analytics\n",
    "# Assignment 3 - Large-scale Internet Data Analysis\n",
    "### Ir. Jacopo De Stefani - [J.deStefani@tudelft.nl](mailto:J.deStefani@tudelft.nl)\n",
    "### Joao Pizani Flor, M.Sc. - [J.p.pizaniflor@tudelft.nl](mailto:J.p.pizaniflor@tudelft.nl)\n",
    "\n",
    "### 25-03-2022\n",
    "## Group 2\n",
    "- Emmanuel M Boateng - '5617642'\n",
    "- Joost Oortwijn - '4593472'\n",
    "- Philip Busscher - ''4611993''\n",
    "- Floris Kool - ''4975243''\n"
   ]
  },
  {
   "cell_type": "markdown",
   "id": "836be4c5",
   "metadata": {},
   "source": [
    "# Introduction\n",
    "short description of the assignment"
   ]
  },
  {
   "cell_type": "markdown",
   "id": "80b11383",
   "metadata": {},
   "source": [
    "# 1. Dataset description\n",
    "\n",
    "Short description of the 4 datasets used"
   ]
  },
  {
   "cell_type": "markdown",
   "id": "5297a1da",
   "metadata": {},
   "source": [
    "## 1.1 Opening the data"
   ]
  },
  {
   "cell_type": "code",
   "execution_count": 3,
   "id": "5572e52c",
   "metadata": {},
   "outputs": [],
   "source": [
    "#import ..."
   ]
  },
  {
   "cell_type": "code",
   "execution_count": 4,
   "id": "d01661b3",
   "metadata": {},
   "outputs": [],
   "source": [
    "#Opening dataset(s)"
   ]
  },
  {
   "cell_type": "markdown",
   "id": "dfcacbce",
   "metadata": {},
   "source": [
    "More detailed description of data if needed (Can also be after opening each dataset)"
   ]
  },
  {
   "cell_type": "markdown",
   "id": "d84fe2a5",
   "metadata": {},
   "source": [
    "## 1.2 Limitations in data\n",
    "\n",
    "Evaluate if there are limitations in the provided datasets (AS and probe data set). If you find limitations, describe these and conjecture possible reasons, supported with data.\n",
    "\n",
    "..."
   ]
  },
  {
   "cell_type": "code",
   "execution_count": 9,
   "id": "38607033",
   "metadata": {},
   "outputs": [],
   "source": [
    "#Code needed to prove limitations"
   ]
  },
  {
   "cell_type": "markdown",
   "id": "aa210396",
   "metadata": {},
   "source": [
    "Some list of limitations in text"
   ]
  },
  {
   "cell_type": "markdown",
   "id": "2780875f",
   "metadata": {},
   "source": [
    "# 2 Analysis\n",
    "\n",
    "Short description of what is going to be analyzed"
   ]
  },
  {
   "cell_type": "markdown",
   "id": "2149166e",
   "metadata": {},
   "source": [
    "## 2.1 Couple among employees (Question a)\n",
    "\n",
    "Are there couples among the employees. If so, who? Are they still together?\n"
   ]
  },
  {
   "cell_type": "code",
   "execution_count": 1,
   "id": "48fa71c6",
   "metadata": {},
   "outputs": [],
   "source": [
    "#Code for question a"
   ]
  },
  {
   "cell_type": "markdown",
   "id": "e3ba3574",
   "metadata": {},
   "source": [
    "Description of results"
   ]
  },
  {
   "cell_type": "markdown",
   "id": "5bd1fad7",
   "metadata": {},
   "source": [
    "## 2.2 Children (Question b)\n",
    "Did any of the employees have a child? If so, who?"
   ]
  },
  {
   "cell_type": "code",
   "execution_count": 2,
   "id": "1189bdd8",
   "metadata": {},
   "outputs": [],
   "source": [
    "#Code for question b"
   ]
  },
  {
   "cell_type": "markdown",
   "id": "fa94a150",
   "metadata": {},
   "source": [
    "Description of results"
   ]
  },
  {
   "cell_type": "markdown",
   "id": "62c35061",
   "metadata": {},
   "source": [
    "## 2.3 Holidays (Question c)\n",
    "If you would be looking to work for Tabularazor Inc., how many holidays can you expect to get per\n",
    "year?\n"
   ]
  },
  {
   "cell_type": "code",
   "execution_count": null,
   "id": "15b9a491",
   "metadata": {},
   "outputs": [],
   "source": [
    "#Code for question c"
   ]
  },
  {
   "cell_type": "markdown",
   "id": "c85255bb",
   "metadata": {},
   "source": [
    "Description of results"
   ]
  },
  {
   "cell_type": "markdown",
   "id": "0a0c0182",
   "metadata": {},
   "source": [
    "# 3 Conclusion"
   ]
  },
  {
   "cell_type": "markdown",
   "id": "34e30812",
   "metadata": {},
   "source": [
    "Add code if needed"
   ]
  },
  {
   "cell_type": "code",
   "execution_count": null,
   "id": "68613360",
   "metadata": {},
   "outputs": [],
   "source": []
  }
 ],
 "metadata": {
  "kernelspec": {
   "display_name": "Python 3 (ipykernel)",
   "language": "python",
   "name": "python3"
  },
  "language_info": {
   "codemirror_mode": {
    "name": "ipython",
    "version": 3
   },
   "file_extension": ".py",
   "mimetype": "text/x-python",
   "name": "python",
   "nbconvert_exporter": "python",
   "pygments_lexer": "ipython3",
   "version": "3.10.2"
  }
 },
 "nbformat": 4,
 "nbformat_minor": 5
}
