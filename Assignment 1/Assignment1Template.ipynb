{
 "cells": [
  {
   "cell_type": "markdown",
   "id": "fb670c48-29db-487a-920a-d306a7c61d5b",
   "metadata": {},
   "source": [
    "# SEN163A - Fundamentals of Data Analytics\n",
    "# Assignment 1 - Data consistency\n",
    "### Ir. Jacopo De Stefani - [J.deStefani@tudelft.nl](mailto:J.deStefani@tudelft.nl)\n",
    "### Joao Pizani Flor, M.Sc. - [J.p.pizaniflor@tudelft.nl](mailto:J.p.pizaniflor@tudelft.nl)\n",
    "\n",
    "## Group X\n",
    "- Student 1 - ''Student ID1''\n",
    "- Student 2 - ''Student ID2''\n",
    "- Student 3 - ''Student ID3''\n",
    "- Student 4 - ''Student ID4''"
   ]
  },
  {
   "cell_type": "markdown",
   "id": "304458c0-4223-4ad8-8ded-389a6df84624",
   "metadata": {},
   "source": [
    "## Evaluation criteria\n",
    "The final grade for this assignment will be calculated based on the following criteria:\n",
    "\n",
    "- $\\textbf{Quality of the report}$ - 35\\%\n",
    "    - Reasonable formatting of the document and used citation appropriately\n",
    "    - Use of proper English (typos, grammar)\n",
    "    - Code script deliverable\n",
    "    - Code quality\n",
    "    - Problem Description\n",
    "    - Dataset Description\n",
    "    - Limitations\n",
    "    - Conclusion/Action recommendations\n",
    "\n",
    "- $\\textbf{Identification of the problems in the database}$ - 65\\%\n"
   ]
  },
  {
   "cell_type": "markdown",
   "id": "1edf4a7c-8bce-4008-9f90-254f3e46ce14",
   "metadata": {},
   "source": [
    "# Introduction "
   ]
  },
  {
   "cell_type": "markdown",
   "id": "3b570b52-af01-431b-bd95-5200c4f9ec3c",
   "metadata": {
    "tags": []
   },
   "source": [
    "### Example text cell with formula\n",
    "\n",
    "Bullet list:\n",
    "\n",
    "- Item 1\n",
    "- Item 2\n",
    "\n",
    "Numbered list:\n",
    "\n",
    "1. Item 1\n",
    "2. Item 2\n"
   ]
  },
  {
   "cell_type": "markdown",
   "id": "37aabd7f-638c-445b-ae92-2d43d7dc25d3",
   "metadata": {},
   "source": [
    "#### Example of simple equation\n",
    "\\begin{equation}\n",
    "e = mc^2\n",
    "\\end{equation}\n",
    "\n",
    "#### Example of matrix equation - Cross product formula:\n",
    "\n",
    "\\begin{equation*}\n",
    "\\mathbf{V}_1 \\times \\mathbf{V}_2 =  \\begin{vmatrix}\n",
    "\\mathbf{i} & \\mathbf{j} & \\mathbf{k} \\\\\n",
    "\\frac{\\partial X}{\\partial u} &  \\frac{\\partial Y}{\\partial u} & 0 \\\\\n",
    "\\frac{\\partial X}{\\partial v} &  \\frac{\\partial Y}{\\partial v} & 0\n",
    "\\end{vmatrix}\n",
    "\\end{equation*}\n",
    "\n",
    "#### Example of multiline equation - The Lorenz Equations:\n",
    "\n",
    "\\begin{align}\n",
    "\\dot{x} & = \\sigma(y-x) \\\\\n",
    "\\dot{y} & = \\rho x - y - xz \\\\\n",
    "\\dot{z} & = -\\beta z + xy\n",
    "\\end{align}\n",
    "\n",
    "#### Example of Markdown Table:\n",
    "\n",
    "| This | is   |\n",
    "|------|------|\n",
    "|   a  | table|\n"
   ]
  },
  {
   "cell_type": "markdown",
   "id": "efb327b2-c9cc-4a05-af7c-84e9e0cb7fe7",
   "metadata": {},
   "source": [
    "# Dataset Description"
   ]
  },
  {
   "cell_type": "code",
   "execution_count": null,
   "id": "3dc5087d-e010-4703-ae09-b1effbce84b7",
   "metadata": {},
   "outputs": [],
   "source": [
    "### Your code goes here"
   ]
  },
  {
   "cell_type": "markdown",
   "id": "5af4a248-6722-4ca1-8b03-6e6e9667681c",
   "metadata": {},
   "source": [
    "# Dataset Consistency"
   ]
  },
  {
   "cell_type": "code",
   "execution_count": null,
   "id": "f34ea6d3-12fc-403e-bae3-b9492833aaac",
   "metadata": {},
   "outputs": [],
   "source": [
    "### Your code goes here"
   ]
  },
  {
   "cell_type": "markdown",
   "id": "e9ff1e37-0319-42e6-9676-428328eac983",
   "metadata": {},
   "source": [
    "# Fraud Identification"
   ]
  },
  {
   "cell_type": "code",
   "execution_count": null,
   "id": "de5757f9-67af-4c12-82e9-432f492cafcf",
   "metadata": {},
   "outputs": [],
   "source": [
    "### Your code goes here"
   ]
  },
  {
   "cell_type": "markdown",
   "id": "95f5a366-4c3f-46e7-9232-1e8ffbe772e8",
   "metadata": {},
   "source": [
    "# Conclusion"
   ]
  }
 ],
 "metadata": {
  "kernelspec": {
   "display_name": "Python 3 (ipykernel)",
   "language": "python",
   "name": "python3"
  },
  "language_info": {
   "codemirror_mode": {
    "name": "ipython",
    "version": 3
   },
   "file_extension": ".py",
   "mimetype": "text/x-python",
   "name": "python",
   "nbconvert_exporter": "python",
   "pygments_lexer": "ipython3",
   "version": "3.9.6"
  }
 },
 "nbformat": 4,
 "nbformat_minor": 5
}
