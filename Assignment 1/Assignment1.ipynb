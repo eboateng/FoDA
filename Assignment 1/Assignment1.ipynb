{
 "cells": [
  {
   "cell_type": "markdown",
   "id": "1345aa55",
   "metadata": {},
   "source": [
    "# SEN163A - Fundamentals of Data Analytics\n",
    "# Assignment 1 - Data consistency\n",
    "### Ir. Jacopo De Stefani - [J.deStefani@tudelft.nl](mailto:J.deStefani@tudelft.nl)\n",
    "### Joao Pizani Flor, M.Sc. - [J.p.pizaniflor@tudelft.nl](mailto:J.p.pizaniflor@tudelft.nl)\n",
    "\n",
    "## Group X\n",
    "- Emmanuel M Boateng - '5617642'\n",
    "- Joost Oortwijn - '4593472'\n",
    "- Philip Busscher - ''Student ID3''\n",
    "- Floris Kool - ''Student ID4''"
   ]
  },
  {
   "cell_type": "markdown",
   "id": "a9ea585b",
   "metadata": {},
   "source": [
    "## Evaluation criteria\n",
    "The final grade for this assignment will be calculated based on the following criteria:\n",
    "\n",
    "- $\\textbf{Quality of the report}$ - 35\\%\n",
    "    - Reasonable formatting of the document and used citation appropriately\n",
    "    - Use of proper English (typos, grammar)\n",
    "    - Code script deliverable\n",
    "    - Code quality\n",
    "    - Problem Description\n",
    "    - Dataset Description\n",
    "    - Limitations\n",
    "    - Conclusion/Action recommendations\n",
    "\n",
    "- $\\textbf{Identification of the problems in the database}$ - 65\\%\n"
   ]
  },
  {
   "cell_type": "markdown",
   "id": "4f28d85d",
   "metadata": {},
   "source": [
    "# Introduction "
   ]
  },
  {
   "cell_type": "markdown",
   "id": "2499edba",
   "metadata": {
    "tags": []
   },
   "source": [
    "### Example text cell with formula\n",
    "\n",
    "Bullet list:\n",
    "\n",
    "- Item 1\n",
    "- Item 2\n",
    "\n",
    "Numbered list:\n",
    "\n",
    "1. Item 1\n",
    "2. Item 2\n"
   ]
  },
  {
   "cell_type": "markdown",
   "id": "f0772da7",
   "metadata": {},
   "source": [
    "# 1. Dataset Description"
   ]
  },
  {
   "cell_type": "markdown",
   "id": "2e91144b",
   "metadata": {},
   "source": [
    "First we will describe the data set. By doing so, we try to identify the inconsistencies in the data set and possible fraudulent activities. We will do so by doing some basic data description prints and plots of the data. "
   ]
  },
  {
   "cell_type": "code",
   "execution_count": 1,
   "id": "21db0423",
   "metadata": {},
   "outputs": [
    {
     "name": "stdout",
     "output_type": "stream",
     "text": [
      "[('transaction_data',)]\n",
      "(0, 'id', 'integer', 0, None, 1)\n",
      "(1, 'timestamp', 'integer', 1, None, 0)\n",
      "(2, 'type', 'text', 1, None, 0)\n",
      "(3, 'amount', 'text', 1, None, 0)\n",
      "(4, 'nameOrig', 'text', 1, None, 0)\n",
      "(5, 'oldbalanceOrig', 'text', 1, None, 0)\n",
      "(6, 'newbalanceOrig', 'text', 1, None, 0)\n",
      "(7, 'nameDest', 'text', 1, None, 0)\n",
      "(8, 'oldbalanceDest', 'text', 1, None, 0)\n",
      "(9, 'newbalanceDest', 'text', 1, None, 0)\n"
     ]
    }
   ],
   "source": [
    "### Read and load the database\n",
    "\n",
    "import pandas as pd\n",
    "import matplotlib as plt\n",
    "import sqlite3 as sq3\n",
    "import numpy as np\n",
    "\n",
    "dbfile = 'transaction_data.db' # path to the file \n",
    "\n",
    "conn = sq3.connect(dbfile)  # Create a SQL connection to our SQLite database\n",
    "curs = conn.cursor()\n",
    "\n",
    "##Check the tables in the database\n",
    "table_lst = [a for a in curs.execute(\"SELECT name FROM sqlite_master WHERE type = 'table'\").fetchall()]\n",
    "print(table_lst) # here is you table list\n",
    "\n",
    "##get the table info \n",
    "for row in curs.execute('PRAGMA table_info(transaction_data)'):    \n",
    "    print(row)\n",
    "\n",
    "##read the SQL data and print the first five lines\n",
    "df = pd.read_sql_query(\"SELECT * FROM transaction_data\", conn) \n",
    "##df.head()\n",
    "\n",
    "##create a list of all columns \n",
    "col_names = []\n",
    "for row in curs.execute('PRAGMA table_info(transaction_data)'):\n",
    "    names = row[1]\n",
    "    col_names.append(names)\n",
    "\n"
   ]
  },
  {
   "cell_type": "code",
   "execution_count": 2,
   "id": "5c488e44",
   "metadata": {},
   "outputs": [
    {
     "name": "stdout",
     "output_type": "stream",
     "text": [
      "\n",
      "DataFrame Shape : (7734834, 10)\n",
      "\n",
      "Number of data points : 7734834\n",
      "\n",
      "Number of data variables : 10\n",
      "          amount  timestamp  newbalanceOrig  newbalanceDest\n",
      "min         0.00          1   -9.244552e+07   -4.234680e+06\n",
      "max  92445516.64        743    7.742894e+07    3.574408e+08\n",
      "\n",
      "Mean amount transferred : 147953.14010523\n",
      "\n",
      "No.of. origin accounts : 6353308\n",
      "\n",
      "No.of. destination accounts : 2722364\n"
     ]
    },
    {
     "data": {
      "image/png": "[encoded data removed]",
      "text/plain": [
       "<Figure size 720x432 with 1 Axes>"
      ]
     },
     "metadata": {
      "needs_background": "light"
     },
     "output_type": "display_data"
    }
   ],
   "source": [
    "## Get the data description\n",
    "\n",
    "##convert data types of columns from string to numeric\n",
    "convert_list =[\"amount\", \n",
    "               \"oldbalanceOrig\", \n",
    "               \"newbalanceOrig\", \n",
    "               \"oldbalanceDest\", \n",
    "               \"newbalanceDest\"]\n",
    "\n",
    "## convert the str columns of convert_list to numeric\n",
    "df[convert_list] = df[convert_list].apply(pd.to_numeric)\n",
    "\n",
    "\n",
    "data_shape = df.shape\n",
    "print('\\nDataFrame Shape :', data_shape)\n",
    "print('\\nNumber of data points :', data_shape[0])\n",
    "print('\\nNumber of data variables :', data_shape[1])\n",
    "\n",
    "\n",
    "df_MinMax = df[['amount','timestamp', 'newbalanceOrig', 'newbalanceDest']].agg(['min','max'])\n",
    "print (df_MinMax)\n",
    "\n",
    "chnk_sz = 7\n",
    "data_chunks = np.array_split(df, chnk_sz)\n",
    "\n",
    "df_meanAmount = df['amount'].mean()\n",
    "print('\\nMean amount transferred :', df_meanAmount)\n",
    "\n",
    "##some info about the dataset (already done with sqlite \n",
    "##df.info(verbose=True, buf=None, max_cols=True, memory_usage=None, show_counts=True)\n",
    "\n",
    "## Plotting some data. Not so informative. TBD: Perhaps filter and plot based on amounts\n",
    "df.plot(x='amount', y='timestamp', kind='scatter',\n",
    "        figsize=(10,6),\n",
    "        title='Amounts transferred over timestamps')\n",
    "\n",
    "orig_n = len(pd.unique(df['nameOrig']))\n",
    "dest_n = len(pd.unique(df['nameDest']))\n",
    "\n",
    "\n",
    "print(\"\\nNo.of. origin accounts :\", orig_n)\n",
    "print(\"\\nNo.of. destination accounts :\", dest_n)\n",
    "\n",
    "##df.plot(y=['amount'])\n",
    "\n",
    "##TBD count timestamp with most # of transactions\n"
   ]
  },
  {
   "cell_type": "markdown",
   "id": "87131ad9",
   "metadata": {},
   "source": [
    "### Discussion results data description\n",
    "\n",
    "Noteable results: \n",
    "\n",
    "1. Especially when looking at the graph above, *Amounts transferred over timestamps*, it stands out that around time stamp 300 significantlly higher amounts of money is transferred. Therefore it is interesting to study this inconsitency more indepth in the inconsitency chapter 2 below. \n",
    "2. When looking at the maximal and mininimal amount transferred, it is interesting to see that there are amounts transferred with a value of 0.00. Also the max value of 92 milion transferred stands out due to it's size. These two values will be researched more in chapter 3. \n",
    "3. When looking at the minimum values of *newbalanceOrig* and *newbalanceDest*, it stands out that there accounts with large negative balances. This could suggest there is fraudulent activity and will be discussed in chapter 3. "
   ]
  },
  {
   "cell_type": "markdown",
   "id": "01f91feb",
   "metadata": {},
   "source": [
    "## 1.1 Value counts of origin and destination accounts"
   ]
  },
  {
   "cell_type": "code",
   "execution_count": 3,
   "id": "3170469c",
   "metadata": {},
   "outputs": [
    {
     "data": {
      "text/plain": [
       "C1286084959    20\n",
       "C1727860160     4\n",
       "C1345668381     4\n",
       "C773245049      4\n",
       "C220401108      4\n",
       "C1276100527     4\n",
       "C1832548028     4\n",
       "C1760438154     4\n",
       "C770528136      4\n",
       "C2006144147     4\n",
       "Name: nameOrig, dtype: int64"
      ]
     },
     "execution_count": 3,
     "metadata": {},
     "output_type": "execute_result"
    }
   ],
   "source": [
    "df['nameOrig'].value_counts()[:10]"
   ]
  },
  {
   "cell_type": "code",
   "execution_count": 101,
   "id": "01d90636",
   "metadata": {},
   "outputs": [
    {
     "data": {
      "text/plain": [
       "Text(0, 0.5, 'Account name')"
      ]
     },
     "execution_count": 101,
     "metadata": {},
     "output_type": "execute_result"
    },
    {
     "data": {
      "image/png": "[encoded data removed]",
      "text/plain": [
       "<Figure size 720x432 with 1 Axes>"
      ]
     },
     "metadata": {
      "needs_background": "light"
     },
     "output_type": "display_data"
    }
   ],
   "source": [
    "ax = df['nameOrig'].value_counts()[:10].sort_values().plot(kind = 'barh',figsize=(10,6),title='Most used orgin accounts')\n",
    "ax.set_xlabel(\"Number of times as orgin account\")\n",
    "ax.set_ylabel(\"Account name\")"
   ]
  },
  {
   "cell_type": "code",
   "execution_count": 5,
   "id": "fb4f90d3",
   "metadata": {},
   "outputs": [
    {
     "data": {
      "text/plain": [
       "C52983754      1372194\n",
       "C1286084959        113\n",
       "C985934102         109\n",
       "C665576141         105\n",
       "C2083562754        102\n",
       "C1590550415        101\n",
       "C248609774         101\n",
       "C1789550256         99\n",
       "C451111351          99\n",
       "C1360767589         98\n",
       "Name: nameDest, dtype: int64"
      ]
     },
     "execution_count": 5,
     "metadata": {},
     "output_type": "execute_result"
    }
   ],
   "source": [
    "df['nameDest'].value_counts()[:10]"
   ]
  },
  {
   "cell_type": "code",
   "execution_count": 102,
   "id": "c5e64b50",
   "metadata": {},
   "outputs": [
    {
     "data": {
      "text/plain": [
       "Text(0, 0.5, 'Account name')"
      ]
     },
     "execution_count": 102,
     "metadata": {},
     "output_type": "execute_result"
    },
    {
     "data": {
      "image/png": "[encoded data removed]",
      "text/plain": [
       "<Figure size 720x432 with 1 Axes>"
      ]
     },
     "metadata": {
      "needs_background": "light"
     },
     "output_type": "display_data"
    }
   ],
   "source": [
    "ax = df['nameOrig'].value_counts()[:10].sort_values().plot(kind = 'barh',figsize=(10,6),title='Most used orgin accounts')\n",
    "ax.set_xlabel(\"Number of times as destination account\")\n",
    "ax.set_ylabel(\"Account name\")"
   ]
  },
  {
   "cell_type": "markdown",
   "id": "35644ed3",
   "metadata": {},
   "source": [
    "### Discussion value counts origin and destination accounts\n",
    "\n",
    "\n",
    "When looking at the graph above, *most used destination accounts*, it can be seen that almost 1.4 milion transfers (of a total of 7 milion tranfers) is to the same destination account. This could indicate potential fraud and will be looked at more in depth in chapter 3."
   ]
  },
  {
   "cell_type": "markdown",
   "id": "577ac385",
   "metadata": {},
   "source": [
    "# 2. Dataset Consistency"
   ]
  },
  {
   "cell_type": "code",
   "execution_count": 8,
   "id": "6f504dfa",
   "metadata": {},
   "outputs": [
    {
     "name": "stdout",
     "output_type": "stream",
     "text": [
      "Data is without duplicates\n"
     ]
    }
   ],
   "source": [
    "### Your code goes here\n",
    "\n",
    "##splitting data based on timestamps\n",
    "grouped = df.groupby(df.timestamp)\n",
    "\n",
    "##get a specific timestamp group \n",
    "timestamp = 15\n",
    "ts_1 = grouped.get_group(timestamp)\n",
    "ts_1.head()\n",
    "\n",
    "######\n",
    "#splitting data into chunks (for future assignments)\n",
    "#import numpy as np\n",
    "#chnk_sz = 3\n",
    "#np.array_split(df, chnk_sz)\n",
    "######\n",
    "\n",
    "##Check for duplicates in each time stamp\n",
    "ts_idx = [] \n",
    "for ts in range(1,len(grouped)):\n",
    "    g = grouped.get_group(ts)\n",
    "    g_len = len(g)\n",
    "    unq_rows = g.drop_duplicates()\n",
    "    new_g_len = len(unq_rows)\n",
    "    if new_g_len != g_len:\n",
    "        ts_idx.append(ts)\n",
    "        print(\"g_len: \", g_len, \"unique rows: \", new_g_len)\n",
    "\n",
    "if len(ts_idx) > 0:\n",
    "    print(\"Duplicates exist in timestamps\", *ts_idx)\n",
    "else:\n",
    "    print(\"Data is without duplicates\", *ts_idx)\n",
    "\n",
    "\n",
    "# create a function out of this later\n",
    "#for items in range(len(grouped.get_group(2))):\n",
    "#    group_obj = grouped.get_group(2)\n",
    "#    if group_obj.iloc[items,3] == group_obj.iloc[items,6] :\n",
    "#        print(\"id\",group_obj.iloc[items,3] \"same orig: \",group_obj.iloc[items,3], \"and dest: \",group_obj.iloc[items,6])\n",
    "#"
   ]
  },
  {
   "cell_type": "markdown",
   "id": "3a2b2441",
   "metadata": {},
   "source": [
    "## 2.1 Inconsitencies in balances\n",
    "When looking at the the first rows of the dataframe we found inconsistencies in the balances. Balances were not as expected when looking at the amounts transferred, the new origin balance values and the old balance values of the destination accounts. Therefore these inconsisentcies will be checked for the rest of the data."
   ]
  },
  {
   "cell_type": "code",
   "execution_count": 71,
   "id": "469704c6",
   "metadata": {},
   "outputs": [],
   "source": [
    "# As the dataset contains a lot of data, we will start by only looking at a part of the complete dataset\n",
    "g = grouped.get_group(19)"
   ]
  },
  {
   "cell_type": "code",
   "execution_count": 72,
   "id": "13ed16ef",
   "metadata": {},
   "outputs": [
    {
     "data": {
      "text/html": [
       "<div>\n",
       "<style scoped>\n",
       "    .dataframe tbody tr th:only-of-type {\n",
       "        vertical-align: middle;\n",
       "    }\n",
       "\n",
       "    .dataframe tbody tr th {\n",
       "        vertical-align: top;\n",
       "    }\n",
       "\n",
       "    .dataframe thead th {\n",
       "        text-align: right;\n",
       "    }\n",
       "</style>\n",
       "<table border=\"1\" class=\"dataframe\">\n",
       "  <thead>\n",
       "    <tr style=\"text-align: right;\">\n",
       "      <th></th>\n",
       "      <th>index</th>\n",
       "      <th>id</th>\n",
       "      <th>timestamp</th>\n",
       "      <th>type</th>\n",
       "      <th>amount</th>\n",
       "      <th>nameOrig</th>\n",
       "      <th>oldbalanceOrig</th>\n",
       "      <th>newbalanceOrig</th>\n",
       "      <th>nameDest</th>\n",
       "      <th>oldbalanceDest</th>\n",
       "      <th>newbalanceDest</th>\n",
       "      <th>sumDest</th>\n",
       "      <th>diffOrig</th>\n",
       "      <th>New_balance_checkOrig</th>\n",
       "      <th>New_balance_checkDest</th>\n",
       "    </tr>\n",
       "  </thead>\n",
       "  <tbody>\n",
       "    <tr>\n",
       "      <th>0</th>\n",
       "      <td>535906</td>\n",
       "      <td>535907</td>\n",
       "      <td>19</td>\n",
       "      <td>TRANSFER</td>\n",
       "      <td>98858.40</td>\n",
       "      <td>C1958895751</td>\n",
       "      <td>646.00</td>\n",
       "      <td>-98212.400</td>\n",
       "      <td>C1074822163</td>\n",
       "      <td>1149634.425</td>\n",
       "      <td>1248492.825</td>\n",
       "      <td>1248492.825</td>\n",
       "      <td>-98212.40</td>\n",
       "      <td>-98212.40</td>\n",
       "      <td>1248492.825</td>\n",
       "    </tr>\n",
       "    <tr>\n",
       "      <th>1</th>\n",
       "      <td>535907</td>\n",
       "      <td>535908</td>\n",
       "      <td>19</td>\n",
       "      <td>TRANSFER</td>\n",
       "      <td>221309.75</td>\n",
       "      <td>C1923061167</td>\n",
       "      <td>100398.00</td>\n",
       "      <td>-120911.750</td>\n",
       "      <td>C26253754</td>\n",
       "      <td>595951.055</td>\n",
       "      <td>817260.805</td>\n",
       "      <td>817260.805</td>\n",
       "      <td>-120911.75</td>\n",
       "      <td>-120911.75</td>\n",
       "      <td>817260.805</td>\n",
       "    </tr>\n",
       "    <tr>\n",
       "      <th>2</th>\n",
       "      <td>535908</td>\n",
       "      <td>535909</td>\n",
       "      <td>19</td>\n",
       "      <td>TRANSFER</td>\n",
       "      <td>1154.55</td>\n",
       "      <td>C1223072336</td>\n",
       "      <td>321707.75</td>\n",
       "      <td>320553.200</td>\n",
       "      <td>M1972185551</td>\n",
       "      <td>0.000</td>\n",
       "      <td>1154.550</td>\n",
       "      <td>1154.550</td>\n",
       "      <td>320553.20</td>\n",
       "      <td>320553.20</td>\n",
       "      <td>1154.550</td>\n",
       "    </tr>\n",
       "    <tr>\n",
       "      <th>3</th>\n",
       "      <td>535909</td>\n",
       "      <td>535910</td>\n",
       "      <td>19</td>\n",
       "      <td>TRANSFER</td>\n",
       "      <td>49210.97</td>\n",
       "      <td>C304920993</td>\n",
       "      <td>302402.00</td>\n",
       "      <td>253191.030</td>\n",
       "      <td>C986267724</td>\n",
       "      <td>80967.000</td>\n",
       "      <td>130177.970</td>\n",
       "      <td>130177.970</td>\n",
       "      <td>253191.03</td>\n",
       "      <td>253191.03</td>\n",
       "      <td>130177.970</td>\n",
       "    </tr>\n",
       "    <tr>\n",
       "      <th>4</th>\n",
       "      <td>535910</td>\n",
       "      <td>535911</td>\n",
       "      <td>19</td>\n",
       "      <td>TRANSFER</td>\n",
       "      <td>229374.31</td>\n",
       "      <td>C470836390</td>\n",
       "      <td>146129.00</td>\n",
       "      <td>-83245.310</td>\n",
       "      <td>C231037736</td>\n",
       "      <td>3426242.645</td>\n",
       "      <td>3655616.955</td>\n",
       "      <td>3655616.955</td>\n",
       "      <td>-83245.31</td>\n",
       "      <td>-83245.31</td>\n",
       "      <td>3655616.955</td>\n",
       "    </tr>\n",
       "    <tr>\n",
       "      <th>...</th>\n",
       "      <td>...</td>\n",
       "      <td>...</td>\n",
       "      <td>...</td>\n",
       "      <td>...</td>\n",
       "      <td>...</td>\n",
       "      <td>...</td>\n",
       "      <td>...</td>\n",
       "      <td>...</td>\n",
       "      <td>...</td>\n",
       "      <td>...</td>\n",
       "      <td>...</td>\n",
       "      <td>...</td>\n",
       "      <td>...</td>\n",
       "      <td>...</td>\n",
       "      <td>...</td>\n",
       "    </tr>\n",
       "    <tr>\n",
       "      <th>62546</th>\n",
       "      <td>598452</td>\n",
       "      <td>598453</td>\n",
       "      <td>19</td>\n",
       "      <td>TRANSFER</td>\n",
       "      <td>152929.53</td>\n",
       "      <td>C2143849139</td>\n",
       "      <td>4834599.49</td>\n",
       "      <td>4681669.955</td>\n",
       "      <td>C1599238057</td>\n",
       "      <td>359156.985</td>\n",
       "      <td>512086.510</td>\n",
       "      <td>512086.515</td>\n",
       "      <td>4681669.96</td>\n",
       "      <td>4681669.96</td>\n",
       "      <td>512086.515</td>\n",
       "    </tr>\n",
       "    <tr>\n",
       "      <th>62547</th>\n",
       "      <td>598453</td>\n",
       "      <td>598454</td>\n",
       "      <td>19</td>\n",
       "      <td>TRANSFER</td>\n",
       "      <td>140278.15</td>\n",
       "      <td>C593351836</td>\n",
       "      <td>4987529.02</td>\n",
       "      <td>4847250.870</td>\n",
       "      <td>C1255404581</td>\n",
       "      <td>1348292.605</td>\n",
       "      <td>1488570.755</td>\n",
       "      <td>1488570.755</td>\n",
       "      <td>4847250.87</td>\n",
       "      <td>4847250.87</td>\n",
       "      <td>1488570.755</td>\n",
       "    </tr>\n",
       "    <tr>\n",
       "      <th>62548</th>\n",
       "      <td>598454</td>\n",
       "      <td>598455</td>\n",
       "      <td>19</td>\n",
       "      <td>TRANSFER</td>\n",
       "      <td>366027.57</td>\n",
       "      <td>C212001870</td>\n",
       "      <td>30930.00</td>\n",
       "      <td>-335097.570</td>\n",
       "      <td>C1226766963</td>\n",
       "      <td>394336.290</td>\n",
       "      <td>760363.860</td>\n",
       "      <td>760363.860</td>\n",
       "      <td>-335097.57</td>\n",
       "      <td>-335097.57</td>\n",
       "      <td>760363.860</td>\n",
       "    </tr>\n",
       "    <tr>\n",
       "      <th>62549</th>\n",
       "      <td>598455</td>\n",
       "      <td>598456</td>\n",
       "      <td>19</td>\n",
       "      <td>TRANSFER</td>\n",
       "      <td>10962.09</td>\n",
       "      <td>C1334924129</td>\n",
       "      <td>337170.09</td>\n",
       "      <td>326208.000</td>\n",
       "      <td>M1958200626</td>\n",
       "      <td>0.000</td>\n",
       "      <td>10962.090</td>\n",
       "      <td>10962.090</td>\n",
       "      <td>326208.00</td>\n",
       "      <td>326208.00</td>\n",
       "      <td>10962.090</td>\n",
       "    </tr>\n",
       "    <tr>\n",
       "      <th>62550</th>\n",
       "      <td>598456</td>\n",
       "      <td>598457</td>\n",
       "      <td>19</td>\n",
       "      <td>TRANSFER</td>\n",
       "      <td>12946.94</td>\n",
       "      <td>C956499468</td>\n",
       "      <td>326208.00</td>\n",
       "      <td>313261.060</td>\n",
       "      <td>M580392438</td>\n",
       "      <td>0.000</td>\n",
       "      <td>12946.940</td>\n",
       "      <td>12946.940</td>\n",
       "      <td>313261.06</td>\n",
       "      <td>313261.06</td>\n",
       "      <td>12946.940</td>\n",
       "    </tr>\n",
       "  </tbody>\n",
       "</table>\n",
       "<p>62551 rows × 15 columns</p>\n",
       "</div>"
      ],
      "text/plain": [
       "        index      id  timestamp      type     amount     nameOrig  \\\n",
       "0      535906  535907         19  TRANSFER   98858.40  C1958895751   \n",
       "1      535907  535908         19  TRANSFER  221309.75  C1923061167   \n",
       "2      535908  535909         19  TRANSFER    1154.55  C1223072336   \n",
       "3      535909  535910         19  TRANSFER   49210.97   C304920993   \n",
       "4      535910  535911         19  TRANSFER  229374.31   C470836390   \n",
       "...       ...     ...        ...       ...        ...          ...   \n",
       "62546  598452  598453         19  TRANSFER  152929.53  C2143849139   \n",
       "62547  598453  598454         19  TRANSFER  140278.15   C593351836   \n",
       "62548  598454  598455         19  TRANSFER  366027.57   C212001870   \n",
       "62549  598455  598456         19  TRANSFER   10962.09  C1334924129   \n",
       "62550  598456  598457         19  TRANSFER   12946.94   C956499468   \n",
       "\n",
       "       oldbalanceOrig  newbalanceOrig     nameDest  oldbalanceDest  \\\n",
       "0              646.00      -98212.400  C1074822163     1149634.425   \n",
       "1           100398.00     -120911.750    C26253754      595951.055   \n",
       "2           321707.75      320553.200  M1972185551           0.000   \n",
       "3           302402.00      253191.030   C986267724       80967.000   \n",
       "4           146129.00      -83245.310   C231037736     3426242.645   \n",
       "...               ...             ...          ...             ...   \n",
       "62546      4834599.49     4681669.955  C1599238057      359156.985   \n",
       "62547      4987529.02     4847250.870  C1255404581     1348292.605   \n",
       "62548        30930.00     -335097.570  C1226766963      394336.290   \n",
       "62549       337170.09      326208.000  M1958200626           0.000   \n",
       "62550       326208.00      313261.060   M580392438           0.000   \n",
       "\n",
       "       newbalanceDest      sumDest    diffOrig  New_balance_checkOrig  \\\n",
       "0         1248492.825  1248492.825   -98212.40              -98212.40   \n",
       "1          817260.805   817260.805  -120911.75             -120911.75   \n",
       "2            1154.550     1154.550   320553.20              320553.20   \n",
       "3          130177.970   130177.970   253191.03              253191.03   \n",
       "4         3655616.955  3655616.955   -83245.31              -83245.31   \n",
       "...               ...          ...         ...                    ...   \n",
       "62546      512086.510   512086.515  4681669.96             4681669.96   \n",
       "62547     1488570.755  1488570.755  4847250.87             4847250.87   \n",
       "62548      760363.860   760363.860  -335097.57             -335097.57   \n",
       "62549       10962.090    10962.090   326208.00              326208.00   \n",
       "62550       12946.940    12946.940   313261.06              313261.06   \n",
       "\n",
       "       New_balance_checkDest  \n",
       "0                1248492.825  \n",
       "1                 817260.805  \n",
       "2                   1154.550  \n",
       "3                 130177.970  \n",
       "4                3655616.955  \n",
       "...                      ...  \n",
       "62546             512086.515  \n",
       "62547            1488570.755  \n",
       "62548             760363.860  \n",
       "62549              10962.090  \n",
       "62550              12946.940  \n",
       "\n",
       "[62551 rows x 15 columns]"
      ]
     },
     "execution_count": 72,
     "metadata": {},
     "output_type": "execute_result"
    }
   ],
   "source": [
    "# Create new coluns with the expected new balances based on the ammounts transferred\n",
    "pd.set_option('mode.chained_assignment', None)\n",
    "g['New_balance_checkOrig'] = g['oldbalanceOrig']-g['amount']\n",
    "g['New_balance_checkDest'] = g['oldbalanceDest']+g['amount']\n",
    "g = g.reset_index()"
   ]
  },
  {
   "cell_type": "code",
   "execution_count": 73,
   "id": "8c56c853",
   "metadata": {},
   "outputs": [],
   "source": [
    "#g_test = g['newbalanceOrig','newbalanceDest','New_balance_checkOrig','New_balance_checkDest']\n",
    "pd.set_option('mode.chained_assignment', None)\n",
    "\n",
    "for i in range(len(g)):\n",
    "    if g.loc[i,'newbalanceOrig'] != g.loc[i,'New_balance_checkOrig']:\n",
    "        newOrig = g.loc[i,'newbalanceOrig']\n",
    "        checkOrig =  g.loc[i,'New_balance_checkOrig']\n",
    "        differenceOrig = abs(checkOrig-newOrig)\n",
    "        if differenceOrig > 0.001:\n",
    "            g['difference orig'] = differenceOrig\n",
    "            #print('Difference found in origin balance -> row : ', i, ' ,difference : ', differenceOrig)\n",
    "            \n",
    "for i in range(len(g)):        \n",
    "    if g.loc[i,'newbalanceDest'] != g.loc[i,'New_balance_checkDest']:\n",
    "        newDest =g.loc[i,'newbalanceDest']\n",
    "        checkDest=g.loc[i,'New_balance_checkDest']\n",
    "        differenceDest =  abs(newDest-checkDest)\n",
    "        if differenceDest > 0.001:\n",
    "            g['difference dest'] = differenceDest\n",
    "          #  print('Difference found in destination balance -> row : ', i, ' ,difference : ', differenceDest)\n"
   ]
  },
  {
   "cell_type": "code",
   "execution_count": 74,
   "id": "67350a37",
   "metadata": {},
   "outputs": [
    {
     "data": {
      "text/plain": [
       "False"
      ]
     },
     "execution_count": 74,
     "metadata": {},
     "output_type": "execute_result"
    }
   ],
   "source": [
    "# check if there differences above 0.01\n",
    "(g['difference orig'] > 0.01).any()"
   ]
  },
  {
   "cell_type": "code",
   "execution_count": 75,
   "id": "29274aa8",
   "metadata": {},
   "outputs": [
    {
     "data": {
      "text/plain": [
       "True    62551\n",
       "Name: difference orig, dtype: int64"
      ]
     },
     "execution_count": 75,
     "metadata": {},
     "output_type": "execute_result"
    }
   ],
   "source": [
    "# Number of differences in expected origin balances and actual orgin balances\n",
    "(g['difference orig'] > 0).value_counts()"
   ]
  },
  {
   "cell_type": "code",
   "execution_count": 76,
   "id": "fad2cbf5",
   "metadata": {},
   "outputs": [
    {
     "data": {
      "text/plain": [
       "False"
      ]
     },
     "execution_count": 76,
     "metadata": {},
     "output_type": "execute_result"
    }
   ],
   "source": [
    "# check if there differences above 0.01\n",
    "(g['difference dest'] > 0.01).any()"
   ]
  },
  {
   "cell_type": "code",
   "execution_count": 78,
   "id": "cb028f1a",
   "metadata": {},
   "outputs": [
    {
     "data": {
      "text/plain": [
       "True    62551\n",
       "Name: difference dest, dtype: int64"
      ]
     },
     "execution_count": 78,
     "metadata": {},
     "output_type": "execute_result"
    }
   ],
   "source": [
    "# Number of differences in expected destination balances and destinationbalances\n",
    "(g['difference dest'] > 0).value_counts()"
   ]
  },
  {
   "cell_type": "markdown",
   "id": "3c014582",
   "metadata": {},
   "source": [
    "### Discussion value counts origin and destination accounts\n",
    "\n",
    "It stands out that there are a lot of differences in expected balances and actual balance. But, the differences are always below 0.01. Due to the number of found inconsistencies and the low amount of differences we do not expect this to be fraudulent but a small error (possibly a round-off) in the data set. "
   ]
  },
  {
   "cell_type": "markdown",
   "id": "135123db",
   "metadata": {},
   "source": [
    "# 3. Fraud Identification"
   ]
  },
  {
   "cell_type": "code",
   "execution_count": null,
   "id": "cabbbe4f",
   "metadata": {},
   "outputs": [],
   "source": [
    "### Your code goes here\n",
    "\n",
    "##create functions to loop through groups\n",
    "##Consider tweaking the absolute tolerance(atol) argument \n",
    "def inconsitentNewBalance(group_obj):\n",
    "    for index, row in group_obj.iterrows():\n",
    "        if np.isclose(row['sumDest'], row['newbalanceDest'], atol=1e-03):\n",
    "            row['FraudType'] = \"Legitimate\"  ## Modify from this line here to create some statistics\n",
    "        else:\n",
    "            row['FraudType'] = \"invalidDestBalance\"\n",
    "            \n",
    "\n",
    "def inconsitentOldBalance(group_obj):\n",
    "    for index, row in group_obj.iterrows():\n",
    "        if np.isclose(row['diffOrig'], row['oldbalanceOrig'], atol=1e-03):\n",
    "            row['FraudType'] = \"Legitimate\" ## Modify from this line here to add some statistics\n",
    "        else:\n",
    "            row['FraudType'] = \"invalidOrigBalance\"\n",
    "\n",
    "#sum up the columns \n",
    "df['sumDest'] = df.loc[: , ['amount', 'oldbalanceDest']].sum(axis=1)\n",
    "df['diffOrig'] = df['oldbalanceOrig'] - df['amount']\n",
    "#df.head()\n",
    "\n",
    "#grouped = df.groupby(df.timestamp)\n",
    "\n",
    "##test fraudulent activity balance inconsitency\n",
    "#g = grouped.get_group(301)\n",
    "#for index, row in g.iterrows():\n",
    "#    if np.isclose(row['sumDest'], row['newbalanceDest'], atol=1e-02):\n",
    "#        row['FraudType'] = \"Legitimate\"  ## change from this line here to create some statistics\n",
    "#    else:\n",
    "#        row['FraudType'] = \"invalidDestBalance\"\n",
    "#        print(row)\n",
    "\n",
    "##group data by transfer amount (possibly add timestamp grouping as well)\n",
    "#transferSum = df.groupby(df.amount)\n",
    "#transferSum.groups\n",
    "#for index, row in transferSum.iterrows():\n",
    "#    ids = row[\"amount\"]\n",
    "#    print(ids)\n",
    "    #row[ids.astype(int).isin(ids[ids.duplicated()])].sort(\"amount\")"
   ]
  },
  {
   "cell_type": "markdown",
   "id": "6ba15498",
   "metadata": {},
   "source": [
    "## 3.1 Analyzing transfers to C52983754 (highest value count of 1.4 million times)"
   ]
  },
  {
   "cell_type": "code",
   "execution_count": 44,
   "id": "84f79bf8",
   "metadata": {},
   "outputs": [],
   "source": [
    "# creating a df with only the transfers to C52983754\n",
    "df_C52983754 = df[(df['nameDest'] == 'C52983754')]"
   ]
  },
  {
   "cell_type": "code",
   "execution_count": 46,
   "id": "3f2fec6e",
   "metadata": {},
   "outputs": [
    {
     "name": "stdout",
     "output_type": "stream",
     "text": [
      "the max amount transferred to C52983754 is :  0.01\n",
      "the min amount transferred to C52983754 is :  0.01\n",
      "the mean amount transferred to C52983754 is :  0.010000000000184448\n",
      "the sum of money (total) transferred to C52983754 is :  13721.94000000001\n"
     ]
    }
   ],
   "source": [
    "print('the max amount transferred to C52983754 is : ' , df_C52983754[\"amount\"].max())\n",
    "print('the min amount transferred to C52983754 is : ' , df_C52983754[\"amount\"].min())\n",
    "print('the mean amount transferred to C52983754 is : ' , df_C52983754[\"amount\"].mean())\n",
    "print('the sum of money (total) transferred to C52983754 is : ' , df_C52983754[\"amount\"].sum())"
   ]
  },
  {
   "cell_type": "markdown",
   "id": "571fc156",
   "metadata": {},
   "source": [
    "## Discussion of results\n",
    "\n",
    "We have found that there were only transfers of 0.01 euro to the C52983754. In total, due to the high volume of transfers, this accounts for an ammount of around 14k. Because of the high volume of transfers and high total sum of transferred money, we percieve this account, C52983754, as fraudulent. "
   ]
  },
  {
   "cell_type": "markdown",
   "id": "d3dcf931",
   "metadata": {},
   "source": [
    "## 3.2 Maximal and minimal values transferred"
   ]
  },
  {
   "cell_type": "markdown",
   "id": "54c7d4fa",
   "metadata": {},
   "source": [
    "### Transfers with an amount of 0"
   ]
  },
  {
   "cell_type": "code",
   "execution_count": 89,
   "id": "6c808991",
   "metadata": {},
   "outputs": [
    {
     "name": "stdout",
     "output_type": "stream",
     "text": [
      "Number of transfers with an amout of 0 :  16\n"
     ]
    }
   ],
   "source": [
    "# New dataframe with transfers of 0 and count number transfers\n",
    "df_minamount = df[(df['amount'] == 0)]\n",
    "print('Number of transfers with an amout of 0 : ',len(df_minamount))"
   ]
  },
  {
   "cell_type": "markdown",
   "id": "462d7985",
   "metadata": {},
   "source": [
    "As there are a minimal number of transfers with an amount of 0 we will not further look into these 16 transfers."
   ]
  },
  {
   "cell_type": "markdown",
   "id": "60a05531",
   "metadata": {},
   "source": [
    "### Transfers with an amount higher than 20 million"
   ]
  },
  {
   "cell_type": "code",
   "execution_count": 98,
   "id": "3e3db732",
   "metadata": {},
   "outputs": [
    {
     "name": "stdout",
     "output_type": "stream",
     "text": [
      "Number of transfers with an amount of 20 milion or higher :  828\n"
     ]
    }
   ],
   "source": [
    "# New df with only transfers of 20 milion or higher\n",
    "df_maxamount = df[(df['amount'] > 20000000)]\n",
    "print('Number of transfers with an amount of 20 milion or higher : ',len(df_maxamount))"
   ]
  },
  {
   "cell_type": "code",
   "execution_count": 113,
   "id": "f0a46e3f",
   "metadata": {},
   "outputs": [
    {
     "data": {
      "text/plain": [
       "True    828\n",
       "Name: newbalanceOrig, dtype: int64"
      ]
     },
     "execution_count": 113,
     "metadata": {},
     "output_type": "execute_result"
    }
   ],
   "source": [
    "(df_maxamount['newbalanceOrig'] < 0).value_counts()"
   ]
  },
  {
   "cell_type": "code",
   "execution_count": 114,
   "id": "d4117c40",
   "metadata": {},
   "outputs": [
    {
     "data": {
      "text/plain": [
       "Text(0, 0.5, 'Time stamp')"
      ]
     },
     "execution_count": 114,
     "metadata": {},
     "output_type": "execute_result"
    },
    {
     "data": {
      "image/png": "[encoded data removed]",
      "text/plain": [
       "<Figure size 720x864 with 1 Axes>"
      ]
     },
     "metadata": {
      "needs_background": "light"
     },
     "output_type": "display_data"
    }
   ],
   "source": [
    "ax = df_maxamount['timestamp'].value_counts().sort_index().plot(kind = 'barh',figsize=(10,12),title='Number of transfers higher than 20 million per timestamp')\n",
    "ax.set_xlabel(\"Number of transfers higher than 20 million\")\n",
    "ax.set_ylabel(\"Time stamp\")"
   ]
  },
  {
   "cell_type": "markdown",
   "id": "ac65c88a",
   "metadata": {},
   "source": [
    "All the transfers of amounts higher than 20 million results in negative balances for the orgin account. These negative balances will be researched below in chapter 3.3. Also, all these transfers happen arround the same time stamp (between 262 and 327). "
   ]
  },
  {
   "cell_type": "markdown",
   "id": "680a319d",
   "metadata": {},
   "source": [
    "## 3.3 Negative balances"
   ]
  },
  {
   "cell_type": "code",
   "execution_count": 96,
   "id": "382f401b",
   "metadata": {},
   "outputs": [
    {
     "name": "stdout",
     "output_type": "stream",
     "text": [
      "Number of negative orgin accounts balances after transfer:  4536677\n"
     ]
    }
   ],
   "source": [
    "df_negativebalance = df[(df['newbalanceOrig'] < 0)]\n",
    "print('Number of negative orgin account balances after transfer: ', len(df_negativebalance))"
   ]
  },
  {
   "cell_type": "code",
   "execution_count": 91,
   "id": "47f88d8f",
   "metadata": {},
   "outputs": [
    {
     "data": {
      "text/plain": [
       "<AxesSubplot:title={'center':'Negative orgin accounts balances after transfer over timestamps'}, xlabel='newbalanceOrig', ylabel='timestamp'>"
      ]
     },
     "execution_count": 91,
     "metadata": {},
     "output_type": "execute_result"
    },
    {
     "data": {
      "image/png": "[encoded data removed]",
      "text/plain": [
       "<Figure size 720x432 with 1 Axes>"
      ]
     },
     "metadata": {
      "needs_background": "light"
     },
     "output_type": "display_data"
    }
   ],
   "source": [
    "df_negativebalance.plot(x='newbalanceOrig', y='timestamp', kind='scatter',\n",
    "        figsize=(10,6),\n",
    "        title='Negative orgin account balances after transfer over timestamps')"
   ]
  },
  {
   "cell_type": "code",
   "execution_count": 95,
   "id": "f23ae3c1",
   "metadata": {},
   "outputs": [
    {
     "name": "stdout",
     "output_type": "stream",
     "text": [
      "Number of negative destination accounts balances before transfer:  927\n"
     ]
    }
   ],
   "source": [
    "df_negativebalance2 = df[(df['oldbalanceDest'] < 0)]\n",
    "print('Number of negative destination account balances before transfer: ', len(df_negativebalance2))"
   ]
  },
  {
   "cell_type": "code",
   "execution_count": 115,
   "id": "6e3fce65",
   "metadata": {},
   "outputs": [
    {
     "data": {
      "text/plain": [
       "<AxesSubplot:title={'center':'Negative destination account balances after transfer over timestamps'}, xlabel='oldbalanceDest', ylabel='timestamp'>"
      ]
     },
     "execution_count": 115,
     "metadata": {},
     "output_type": "execute_result"
    },
    {
     "data": {
      "image/png": "[encoded data removed]",
      "text/plain": [
       "<Figure size 720x432 with 1 Axes>"
      ]
     },
     "metadata": {
      "needs_background": "light"
     },
     "output_type": "display_data"
    }
   ],
   "source": [
    "df_negativebalance2.plot(x='oldbalanceDest', y='timestamp', kind='scatter',\n",
    "        figsize=(10,6),\n",
    "        title='Negative destination account balances after transfer over timestamps')"
   ]
  },
  {
   "cell_type": "markdown",
   "id": "9631af45",
   "metadata": {},
   "source": [
    "### Discussion of results (negative balances)"
   ]
  },
  {
   "cell_type": "markdown",
   "id": "8d29edb6",
   "metadata": {},
   "source": [
    "# Conclusion"
   ]
  },
  {
   "cell_type": "code",
   "execution_count": null,
   "id": "9879334f",
   "metadata": {},
   "outputs": [],
   "source": []
  }
 ],
 "metadata": {
  "kernelspec": {
   "display_name": "Python 3 (ipykernel)",
   "language": "python",
   "name": "python3"
  },
  "language_info": {
   "codemirror_mode": {
    "name": "ipython",
    "version": 3
   },
   "file_extension": ".py",
   "mimetype": "text/x-python",
   "name": "python",
   "nbconvert_exporter": "python",
   "pygments_lexer": "ipython3",
   "version": "3.10.2"
  }
 },
 "nbformat": 4,
 "nbformat_minor": 5
}
