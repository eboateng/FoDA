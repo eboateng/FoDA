{
 "cells": [
  {
   "cell_type": "markdown",
   "id": "ab215076",
   "metadata": {},
   "source": [
    "# SEN163A - Fundamentals of Data Analytics\n",
    "## Assignment 1 - Fraud detection\n",
    "### Dr. Ir. Jacopo De Stefani - [J.deStefani@tudelft.nl](mailto:J.deStefani@tudelft.nl)\n",
    "### Joao Pizani Flor, M.Sc. - [J.p.pizaniflor@tudelft.nl](mailto:J.p.pizaniflor@tudelft.nl)\n",
    "\n",
    "# General imports"
   ]
  },
  {
   "cell_type": "code",
   "execution_count": 1,
   "id": "9af009db",
   "metadata": {},
   "outputs": [],
   "source": [
    "import sqlite3\n",
    "import pandas as pd\n",
    "import matplotlib as plt"
   ]
  },
  {
   "cell_type": "code",
   "execution_count": 2,
   "id": "ee8f909e",
   "metadata": {},
   "outputs": [],
   "source": [
    "# Read data directly from SQLITE DB"
   ]
  },
  {
   "cell_type": "code",
   "execution_count": 3,
   "id": "c7e82378",
   "metadata": {},
   "outputs": [],
   "source": [
    "# Open sqlite3 connection\n",
    "connection = sqlite3.connect('./transaction_data.db')\n",
    "\n",
    "#cur = con.cursor()\n",
    "df = pd.read_sql_query(\"SELECT * FROM transaction_data;\",connection)\n",
    "\n",
    "## Commit and close sqlite3 connection\n",
    "connection.commit()\n",
    "connection.close()\n"
   ]
  },
  {
   "cell_type": "code",
   "execution_count": 4,
   "id": "2328fb52",
   "metadata": {},
   "outputs": [
    {
     "data": {
      "text/html": [
       "<div>\n",
       "<style scoped>\n",
       "    .dataframe tbody tr th:only-of-type {\n",
       "        vertical-align: middle;\n",
       "    }\n",
       "\n",
       "    .dataframe tbody tr th {\n",
       "        vertical-align: top;\n",
       "    }\n",
       "\n",
       "    .dataframe thead th {\n",
       "        text-align: right;\n",
       "    }\n",
       "</style>\n",
       "<table border=\"1\" class=\"dataframe\">\n",
       "  <thead>\n",
       "    <tr style=\"text-align: right;\">\n",
       "      <th></th>\n",
       "      <th>id</th>\n",
       "      <th>timestamp</th>\n",
       "      <th>type</th>\n",
       "      <th>amount</th>\n",
       "      <th>nameOrig</th>\n",
       "      <th>oldbalanceOrig</th>\n",
       "      <th>newbalanceOrig</th>\n",
       "      <th>nameDest</th>\n",
       "      <th>oldbalanceDest</th>\n",
       "      <th>newbalanceDest</th>\n",
       "    </tr>\n",
       "  </thead>\n",
       "  <tbody>\n",
       "    <tr>\n",
       "      <th>0</th>\n",
       "      <td>1</td>\n",
       "      <td>1</td>\n",
       "      <td>TRANSFER</td>\n",
       "      <td>0.01</td>\n",
       "      <td>C1231006815</td>\n",
       "      <td>170136.0</td>\n",
       "      <td>170135.990</td>\n",
       "      <td>C52983754</td>\n",
       "      <td>0.010</td>\n",
       "      <td>0.020</td>\n",
       "    </tr>\n",
       "    <tr>\n",
       "      <th>1</th>\n",
       "      <td>2</td>\n",
       "      <td>1</td>\n",
       "      <td>TRANSFER</td>\n",
       "      <td>9839.640</td>\n",
       "      <td>C1231006815</td>\n",
       "      <td>170136.000</td>\n",
       "      <td>160296.360</td>\n",
       "      <td>M1979787155</td>\n",
       "      <td>0.000</td>\n",
       "      <td>9839.630</td>\n",
       "    </tr>\n",
       "    <tr>\n",
       "      <th>2</th>\n",
       "      <td>3</td>\n",
       "      <td>1</td>\n",
       "      <td>TRANSFER</td>\n",
       "      <td>1864.280</td>\n",
       "      <td>C1666544295</td>\n",
       "      <td>21249.000</td>\n",
       "      <td>19384.720</td>\n",
       "      <td>M2044282225</td>\n",
       "      <td>0.000</td>\n",
       "      <td>1864.280</td>\n",
       "    </tr>\n",
       "    <tr>\n",
       "      <th>3</th>\n",
       "      <td>4</td>\n",
       "      <td>1</td>\n",
       "      <td>TRANSFER</td>\n",
       "      <td>181.000</td>\n",
       "      <td>C1305486145</td>\n",
       "      <td>181.000</td>\n",
       "      <td>0.000</td>\n",
       "      <td>C553264065</td>\n",
       "      <td>0.000</td>\n",
       "      <td>181.000</td>\n",
       "    </tr>\n",
       "    <tr>\n",
       "      <th>4</th>\n",
       "      <td>5</td>\n",
       "      <td>1</td>\n",
       "      <td>TRANSFER</td>\n",
       "      <td>181.000</td>\n",
       "      <td>C840083671</td>\n",
       "      <td>181.000</td>\n",
       "      <td>0.000</td>\n",
       "      <td>C38997010</td>\n",
       "      <td>21182.000</td>\n",
       "      <td>21363.000</td>\n",
       "    </tr>\n",
       "  </tbody>\n",
       "</table>\n",
       "</div>"
      ],
      "text/plain": [
       "   id  timestamp      type    amount     nameOrig oldbalanceOrig  \\\n",
       "0   1          1  TRANSFER      0.01  C1231006815       170136.0   \n",
       "1   2          1  TRANSFER  9839.640  C1231006815     170136.000   \n",
       "2   3          1  TRANSFER  1864.280  C1666544295      21249.000   \n",
       "3   4          1  TRANSFER   181.000  C1305486145        181.000   \n",
       "4   5          1  TRANSFER   181.000   C840083671        181.000   \n",
       "\n",
       "  newbalanceOrig     nameDest oldbalanceDest newbalanceDest  \n",
       "0     170135.990    C52983754          0.010          0.020  \n",
       "1     160296.360  M1979787155          0.000       9839.630  \n",
       "2      19384.720  M2044282225          0.000       1864.280  \n",
       "3          0.000   C553264065          0.000        181.000  \n",
       "4          0.000    C38997010      21182.000      21363.000  "
      ]
     },
     "execution_count": 4,
     "metadata": {},
     "output_type": "execute_result"
    }
   ],
   "source": [
    "df.head()"
   ]
  },
  {
   "cell_type": "code",
   "execution_count": 5,
   "id": "0a70b20b",
   "metadata": {},
   "outputs": [
    {
     "data": {
      "text/plain": [
       "(7734834, 10)"
      ]
     },
     "execution_count": 5,
     "metadata": {},
     "output_type": "execute_result"
    }
   ],
   "source": [
    "df.shape"
   ]
  },
  {
   "cell_type": "code",
   "execution_count": 6,
   "id": "45a78d13",
   "metadata": {},
   "outputs": [
    {
     "name": "stdout",
     "output_type": "stream",
     "text": [
      "<class 'pandas.core.frame.DataFrame'>\n",
      "RangeIndex: 7734834 entries, 0 to 7734833\n",
      "Data columns (total 10 columns):\n",
      " #   Column          Dtype \n",
      "---  ------          ----- \n",
      " 0   id              int64 \n",
      " 1   timestamp       int64 \n",
      " 2   type            object\n",
      " 3   amount          object\n",
      " 4   nameOrig        object\n",
      " 5   oldbalanceOrig  object\n",
      " 6   newbalanceOrig  object\n",
      " 7   nameDest        object\n",
      " 8   oldbalanceDest  object\n",
      " 9   newbalanceDest  object\n",
      "dtypes: int64(2), object(8)\n",
      "memory usage: 590.1+ MB\n"
     ]
    }
   ],
   "source": [
    "df.info()"
   ]
  },
  {
   "cell_type": "code",
   "execution_count": 7,
   "id": "21a2de6c",
   "metadata": {},
   "outputs": [],
   "source": [
    "df = df.astype({\"amount\": float, \n",
    "           \"oldbalanceOrig\": float,\n",
    "           \"newbalanceOrig\": float,\n",
    "           \"oldbalanceDest\": float,\n",
    "           \"newbalanceDest\": float,\n",
    "            })"
   ]
  },
  {
   "cell_type": "code",
   "execution_count": 8,
   "id": "0b05d9d5",
   "metadata": {},
   "outputs": [],
   "source": [
    "df['timestamp'] = df.timestamp.astype('category')\n",
    "df['nameOrig'] = df.nameOrig.astype('category')\n",
    "df['nameDest'] = df.nameDest.astype('category')"
   ]
  },
  {
   "cell_type": "code",
   "execution_count": 9,
   "id": "f4ec45fe",
   "metadata": {},
   "outputs": [
    {
     "name": "stdout",
     "output_type": "stream",
     "text": [
      "<class 'pandas.core.frame.DataFrame'>\n",
      "RangeIndex: 7734834 entries, 0 to 7734833\n",
      "Data columns (total 10 columns):\n",
      " #   Column          Dtype   \n",
      "---  ------          -----   \n",
      " 0   id              int64   \n",
      " 1   timestamp       category\n",
      " 2   type            object  \n",
      " 3   amount          float64 \n",
      " 4   nameOrig        category\n",
      " 5   oldbalanceOrig  float64 \n",
      " 6   newbalanceOrig  float64 \n",
      " 7   nameDest        category\n",
      " 8   oldbalanceDest  float64 \n",
      " 9   newbalanceDest  float64 \n",
      "dtypes: category(3), float64(5), int64(1), object(1)\n",
      "memory usage: 749.6+ MB\n"
     ]
    }
   ],
   "source": [
    "df.info()"
   ]
  },
  {
   "cell_type": "markdown",
   "id": "e68439b6",
   "metadata": {},
   "source": [
    "## What happens if a transaction occurs regularly?\n",
    "\n",
    "- The money gets removed from the **Origin** $\\rightarrow new_{\\text{Orig}} = old_{\\text{Orig}} - amount$ or $old_{\\text{Orig}} - new_{\\text{Orig}} = amount$\n",
    "    - Is this always true?\n",
    "- The money gets added to the **Destintation** $\\rightarrow new_{\\text{Dest}} = old_{\\text{Dest}} + amount$ or $new_{\\text{Dest}} - old_{\\text{Dest}} = amount$\n",
    "    - Is this always true?"
   ]
  },
  {
   "cell_type": "code",
   "execution_count": 10,
   "id": "4089f18c",
   "metadata": {
    "tags": []
   },
   "outputs": [],
   "source": [
    "n_transactions = df.shape[0]"
   ]
  },
  {
   "cell_type": "markdown",
   "id": "b6a2c667",
   "metadata": {},
   "source": [
    "### Let's check on the first line"
   ]
  },
  {
   "cell_type": "code",
   "execution_count": 11,
   "id": "cf252863",
   "metadata": {},
   "outputs": [
    {
     "data": {
      "text/html": [
       "<div>\n",
       "<style scoped>\n",
       "    .dataframe tbody tr th:only-of-type {\n",
       "        vertical-align: middle;\n",
       "    }\n",
       "\n",
       "    .dataframe tbody tr th {\n",
       "        vertical-align: top;\n",
       "    }\n",
       "\n",
       "    .dataframe thead th {\n",
       "        text-align: right;\n",
       "    }\n",
       "</style>\n",
       "<table border=\"1\" class=\"dataframe\">\n",
       "  <thead>\n",
       "    <tr style=\"text-align: right;\">\n",
       "      <th></th>\n",
       "      <th>id</th>\n",
       "      <th>timestamp</th>\n",
       "      <th>type</th>\n",
       "      <th>amount</th>\n",
       "      <th>nameOrig</th>\n",
       "      <th>oldbalanceOrig</th>\n",
       "      <th>newbalanceOrig</th>\n",
       "      <th>nameDest</th>\n",
       "      <th>oldbalanceDest</th>\n",
       "      <th>newbalanceDest</th>\n",
       "    </tr>\n",
       "  </thead>\n",
       "  <tbody>\n",
       "    <tr>\n",
       "      <th>0</th>\n",
       "      <td>1</td>\n",
       "      <td>1</td>\n",
       "      <td>TRANSFER</td>\n",
       "      <td>0.01</td>\n",
       "      <td>C1231006815</td>\n",
       "      <td>170136.0</td>\n",
       "      <td>170135.99</td>\n",
       "      <td>C52983754</td>\n",
       "      <td>0.01</td>\n",
       "      <td>0.02</td>\n",
       "    </tr>\n",
       "  </tbody>\n",
       "</table>\n",
       "</div>"
      ],
      "text/plain": [
       "   id timestamp      type  amount     nameOrig  oldbalanceOrig  \\\n",
       "0   1         1  TRANSFER    0.01  C1231006815        170136.0   \n",
       "\n",
       "   newbalanceOrig   nameDest  oldbalanceDest  newbalanceDest  \n",
       "0       170135.99  C52983754            0.01            0.02  "
      ]
     },
     "execution_count": 11,
     "metadata": {},
     "output_type": "execute_result"
    }
   ],
   "source": [
    "first_line = df.head(1)\n",
    "first_line"
   ]
  },
  {
   "cell_type": "markdown",
   "id": "8d8734d1",
   "metadata": {},
   "source": [
    "#### First approach\n",
    "**Wrong** - Checking on equality with a float will produce wrong results even if the values are equal."
   ]
  },
  {
   "cell_type": "code",
   "execution_count": 12,
   "id": "2c058e22",
   "metadata": {},
   "outputs": [
    {
     "data": {
      "text/plain": [
       "0    False\n",
       "dtype: bool"
      ]
     },
     "execution_count": 12,
     "metadata": {},
     "output_type": "execute_result"
    }
   ],
   "source": [
    "(first_line['oldbalanceOrig'] - first_line['newbalanceOrig']) == first_line['amount']"
   ]
  },
  {
   "cell_type": "markdown",
   "id": "c1789326",
   "metadata": {},
   "source": [
    "#### Second approach\n",
    "**Wrong** - Checking if the difference of the values is equal to zero will produce wrong results even if the values are equal."
   ]
  },
  {
   "cell_type": "code",
   "execution_count": 13,
   "id": "d4aad16e",
   "metadata": {},
   "outputs": [
    {
     "data": {
      "text/plain": [
       "0    False\n",
       "dtype: bool"
      ]
     },
     "execution_count": 13,
     "metadata": {},
     "output_type": "execute_result"
    }
   ],
   "source": [
    "((first_line['oldbalanceOrig'] - first_line['newbalanceOrig']) - first_line['amount']) == 0"
   ]
  },
  {
   "cell_type": "markdown",
   "id": "e90a8388",
   "metadata": {},
   "source": [
    "If we check the difference, it is very close to 0 ($10^{-12}$) but not exactly zero."
   ]
  },
  {
   "cell_type": "code",
   "execution_count": 14,
   "id": "940fa31a",
   "metadata": {},
   "outputs": [
    {
     "data": {
      "text/plain": [
       "0    9.313226e-12\n",
       "dtype: float64"
      ]
     },
     "execution_count": 14,
     "metadata": {},
     "output_type": "execute_result"
    }
   ],
   "source": [
    "((first_line['oldbalanceOrig'] - first_line['newbalanceOrig']) - first_line['amount'])"
   ]
  },
  {
   "cell_type": "markdown",
   "id": "aa8503b1",
   "metadata": {},
   "source": [
    "#### Third approach\n",
    "**Correct?** - Checking if the difference of the values is smaller than a certain threshold (`epsilon`) might produce good results."
   ]
  },
  {
   "cell_type": "code",
   "execution_count": 15,
   "id": "42c1310f",
   "metadata": {},
   "outputs": [],
   "source": [
    "epsilon = 0.1"
   ]
  },
  {
   "cell_type": "code",
   "execution_count": 16,
   "id": "85974671",
   "metadata": {},
   "outputs": [
    {
     "data": {
      "text/plain": [
       "0    True\n",
       "dtype: bool"
      ]
     },
     "execution_count": 16,
     "metadata": {},
     "output_type": "execute_result"
    }
   ],
   "source": [
    "((first_line['oldbalanceOrig'] - first_line['newbalanceOrig']) - first_line['amount']) < epsilon"
   ]
  },
  {
   "cell_type": "markdown",
   "id": "83fada28",
   "metadata": {},
   "source": [
    "Let's have a look at the distribution of the differences between `df['oldbalanceOrig'] - df['newbalanceOrig']` and `df['amount']` in the whole dataset"
   ]
  },
  {
   "cell_type": "code",
   "execution_count": 17,
   "id": "f78010f6",
   "metadata": {},
   "outputs": [],
   "source": [
    "difference_series = (df['oldbalanceOrig'] - df['newbalanceOrig']) - df['amount']"
   ]
  },
  {
   "cell_type": "markdown",
   "id": "1fffe8da",
   "metadata": {},
   "source": [
    "We define a set of bins, and using groupby, we check how many values belong to each bin."
   ]
  },
  {
   "cell_type": "code",
   "execution_count": 18,
   "id": "a13f6813",
   "metadata": {},
   "outputs": [],
   "source": [
    "decimal_bins = [-0.0005,0.0,0.0005,0.001, 0.005, 0.01, 0.05, 0.1, 0.5, 1.0, 5.0, 10.0, 50.0, 100.0]"
   ]
  },
  {
   "cell_type": "code",
   "execution_count": 19,
   "id": "3d0c1be1",
   "metadata": {},
   "outputs": [
    {
     "data": {
      "text/plain": [
       "(-0.0005, 0.0]     4598752\n",
       "(0.0, 0.0005]      1136096\n",
       "(0.0005, 0.001]          0\n",
       "(0.001, 0.005]      695387\n",
       "(0.005, 0.01]      1304599\n",
       "(0.01, 0.05]             0\n",
       "(0.05, 0.1]              0\n",
       "(0.1, 0.5]               0\n",
       "(0.5, 1.0]               0\n",
       "(1.0, 5.0]               0\n",
       "(5.0, 10.0]              0\n",
       "(10.0, 50.0]             0\n",
       "(50.0, 100.0]            0\n",
       "dtype: int64"
      ]
     },
     "execution_count": 19,
     "metadata": {},
     "output_type": "execute_result"
    }
   ],
   "source": [
    "difference_series.groupby(pd.cut(difference_series,decimal_bins)).count()"
   ]
  },
  {
   "cell_type": "markdown",
   "id": "1ad8b0a9",
   "metadata": {},
   "source": [
    "The majority of this differences are in the bin `(-0.0005, 0.0]`, corresponding to the values equal to zero. However, all the values different than zero are smaller than 0.01 (1 cent), hence the value of `epsilon` used for the comparisons necessarily needs to be smaller than 0.01."
   ]
  }
 ],
 "metadata": {
  "kernelspec": {
   "display_name": "Python 3 (ipykernel)",
   "language": "python",
   "name": "python3"
  },
  "language_info": {
   "codemirror_mode": {
    "name": "ipython",
    "version": 3
   },
   "file_extension": ".py",
   "mimetype": "text/x-python",
   "name": "python",
   "nbconvert_exporter": "python",
   "pygments_lexer": "ipython3",
   "version": "3.9.6"
  }
 },
 "nbformat": 4,
 "nbformat_minor": 5
}
