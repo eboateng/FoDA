{
 "cells": [
  {
   "cell_type": "markdown",
   "id": "fb670c48-29db-487a-920a-d306a7c61d5b",
   "metadata": {},
   "source": [
    "# SEN163A - Fundamentals of Data Analytics\n",
    "# Assignment 1 - Data consistency\n",
    "### Ir. Jacopo De Stefani - [J.deStefani@tudelft.nl](mailto:J.deStefani@tudelft.nl)\n",
    "### Joao Pizani Flor, M.Sc. - [J.p.pizaniflor@tudelft.nl](mailto:J.p.pizaniflor@tudelft.nl)\n",
    "\n",
    "## Group X\n",
    "- Student 1 - ''Student ID1''\n",
    "- Student 2 - ''Student ID2''\n",
    "- Student 3 - ''Student ID3''\n",
    "- Student 4 - ''Student ID4''"
   ]
  },
  {
   "cell_type": "markdown",
   "id": "304458c0-4223-4ad8-8ded-389a6df84624",
   "metadata": {},
   "source": [
    "## Evaluation criteria\n",
    "The final grade for this assignment will be calculated based on the following criteria:\n",
    "\n",
    "- $\\textbf{Quality of the report}$ - 35\\%\n",
    "    - Reasonable formatting of the document and used citation appropriately\n",
    "    - Use of proper English (typos, grammar)\n",
    "    - Code script deliverable\n",
    "    - Code quality\n",
    "    - Problem Description\n",
    "    - Dataset Description\n",
    "    - Limitations\n",
    "    - Conclusion/Action recommendations\n",
    "\n",
    "- $\\textbf{Identification of the problems in the database}$ - 65\\%\n"
   ]
  },
  {
   "cell_type": "markdown",
   "id": "1edf4a7c-8bce-4008-9f90-254f3e46ce14",
   "metadata": {},
   "source": [
    "# Introduction "
   ]
  },
  {
   "cell_type": "markdown",
   "id": "3b570b52-af01-431b-bd95-5200c4f9ec3c",
   "metadata": {
    "tags": []
   },
   "source": [
    "### Example text cell with formula\n",
    "\n",
    "Bullet list:\n",
    "\n",
    "- Item 1\n",
    "- Item 2\n",
    "\n",
    "Numbered list:\n",
    "\n",
    "1. Item 1\n",
    "2. Item 2\n"
   ]
  },
  {
   "cell_type": "markdown",
   "id": "37aabd7f-638c-445b-ae92-2d43d7dc25d3",
   "metadata": {},
   "source": [
    "#### Example of simple equation\n",
    "\\begin{equation}\n",
    "e = mc^2\n",
    "\\end{equation}\n",
    "\n",
    "#### Example of matrix equation - Cross product formula:\n",
    "\n",
    "\\begin{equation*}\n",
    "\\mathbf{V}_1 \\times \\mathbf{V}_2 =  \\begin{vmatrix}\n",
    "\\mathbf{i} & \\mathbf{j} & \\mathbf{k} \\\\\n",
    "\\frac{\\partial X}{\\partial u} &  \\frac{\\partial Y}{\\partial u} & 0 \\\\\n",
    "\\frac{\\partial X}{\\partial v} &  \\frac{\\partial Y}{\\partial v} & 0\n",
    "\\end{vmatrix}\n",
    "\\end{equation*}\n",
    "\n",
    "#### Example of multiline equation - The Lorenz Equations:\n",
    "\n",
    "\\begin{align}\n",
    "\\dot{x} & = \\sigma(y-x) \\\\\n",
    "\\dot{y} & = \\rho x - y - xz \\\\\n",
    "\\dot{z} & = -\\beta z + xy\n",
    "\\end{align}\n",
    "\n",
    "#### Example of Markdown Table:\n",
    "\n",
    "| This | is   |\n",
    "|------|------|\n",
    "|   a  | table|\n"
   ]
  },
  {
   "cell_type": "markdown",
   "id": "efb327b2-c9cc-4a05-af7c-84e9e0cb7fe7",
   "metadata": {},
   "source": [
    "# Dataset Description"
   ]
  },
  {
   "cell_type": "code",
   "execution_count": 5,
   "id": "3dc5087d-e010-4703-ae09-b1effbce84b7",
   "metadata": {},
   "outputs": [
    {
     "name": "stdout",
     "output_type": "stream",
     "text": [
      "[('transaction_data',)]\n",
      "(0, 'id', 'integer', 0, None, 1)\n",
      "(1, 'timestamp', 'integer', 1, None, 0)\n",
      "(2, 'type', 'text', 1, None, 0)\n",
      "(3, 'amount', 'text', 1, None, 0)\n",
      "(4, 'nameOrig', 'text', 1, None, 0)\n",
      "(5, 'oldbalanceOrig', 'text', 1, None, 0)\n",
      "(6, 'newbalanceOrig', 'text', 1, None, 0)\n",
      "(7, 'nameDest', 'text', 1, None, 0)\n",
      "(8, 'oldbalanceDest', 'text', 1, None, 0)\n",
      "(9, 'newbalanceDest', 'text', 1, None, 0)\n",
      "   id  timestamp      type    amount     nameOrig oldbalanceOrig  \\\n",
      "0   1          1  TRANSFER      0.01  C1231006815       170136.0   \n",
      "1   2          1  TRANSFER  9839.640  C1231006815     170136.000   \n",
      "2   3          1  TRANSFER  1864.280  C1666544295      21249.000   \n",
      "3   4          1  TRANSFER   181.000  C1305486145        181.000   \n",
      "4   5          1  TRANSFER   181.000   C840083671        181.000   \n",
      "\n",
      "  newbalanceOrig     nameDest oldbalanceDest newbalanceDest  \n",
      "0     170135.990    C52983754          0.010          0.020  \n",
      "1     160296.360  M1979787155          0.000       9839.630  \n",
      "2      19384.720  M2044282225          0.000       1864.280  \n",
      "3          0.000   C553264065          0.000        181.000  \n",
      "4          0.000    C38997010      21182.000      21363.000  \n"
     ]
    }
   ],
   "source": [
    "### Read and load the database\n",
    "\n",
    "import pandas as pd\n",
    "import matplotlib as plt\n",
    "import sqlite3 as sq3\n",
    "\n",
    "dbfile = 'transaction_data.db' # path to the file \n",
    "\n",
    "conn = sq3.connect(dbfile)  # Create a SQL connection to our SQLite database\n",
    "curs = conn.cursor()\n",
    "\n",
    "#Check the tables in the database\n",
    "table_lst = [a for a in curs.execute(\"SELECT name FROM sqlite_master WHERE type = 'table'\").fetchall()]\n",
    "print(table_lst) # here is you table list\n",
    "\n",
    "#get the table info \n",
    "for row in curs.execute('PRAGMA table_info(transaction_data)'):    \n",
    "    print(row)\n",
    "\n",
    "#read the SQL data and print the first five lines\n",
    "df = pd.read_sql_query(\"SELECT * FROM transaction_data\", conn) \n",
    "print(df.head())"
   ]
  },
  {
   "cell_type": "code",
   "execution_count": 6,
   "id": "98d8bf4a-43ab-4687-b6f1-847795d0fb58",
   "metadata": {},
   "outputs": [
    {
     "name": "stdout",
     "output_type": "stream",
     "text": [
      "\n",
      "DataFrame Shape : (7734834, 10)\n",
      "\n",
      "Number of rows : 7734834\n",
      "\n",
      "Number of columns : 10\n",
      "        amount  timestamp newbalanceOrig newbalanceDest\n",
      "min      0.000          1         -0.005         -0.005\n",
      "max  99999.810        743    9999999.995    9999999.995\n"
     ]
    }
   ],
   "source": [
    "# Get the data description\n",
    "\n",
    "data_shape = df.shape\n",
    "print('\\nDataFrame Shape :', data_shape)\n",
    "print('\\nNumber of rows :', data_shape[0])\n",
    "print('\\nNumber of columns :', data_shape[1])\n",
    "\n",
    "df_MinMax = df[['amount','timestamp', 'newbalanceOrig', 'newbalanceDest']].agg(['min','max'])\n",
    "print (df_MinMax)"
   ]
  },
  {
   "cell_type": "markdown",
   "id": "1e2d32ae",
   "metadata": {},
   "source": [
    "# Dataset Consistency"
   ]
  },
  {
   "cell_type": "code",
   "execution_count": null,
   "id": "f34ea6d3-12fc-403e-bae3-b9492833aaac",
   "metadata": {},
   "outputs": [],
   "source": [
    "### Your code goes here\n"
   ]
  },
  {
   "cell_type": "markdown",
   "id": "70d145ff",
   "metadata": {},
   "source": [
    "# Fraud Identification"
   ]
  },
  {
   "cell_type": "code",
   "execution_count": null,
   "id": "de5757f9-67af-4c12-82e9-432f492cafcf",
   "metadata": {},
   "outputs": [],
   "source": [
    "### Your code goes here"
   ]
  },
  {
   "cell_type": "markdown",
   "id": "95f5a366-4c3f-46e7-9232-1e8ffbe772e8",
   "metadata": {},
   "source": [
    "# Conclusion"
   ]
  }
 ],
 "metadata": {
  "kernelspec": {
   "display_name": "Python 3 (ipykernel)",
   "language": "python",
   "name": "python3"
  },
  "language_info": {
   "codemirror_mode": {
    "name": "ipython",
    "version": 3
   },
   "file_extension": ".py",
   "mimetype": "text/x-python",
   "name": "python",
   "nbconvert_exporter": "python",
   "pygments_lexer": "ipython3",
   "version": "3.9.6"
  }
 },
 "nbformat": 4,
 "nbformat_minor": 5
}
