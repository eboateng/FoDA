{
 "cells": [
  {
   "cell_type": "markdown",
   "id": "69ba7bba-ec25-4900-a06d-2de85a69be6e",
   "metadata": {},
   "source": [
    "# Time measurement - Example"
   ]
  },
  {
   "cell_type": "code",
   "execution_count": 1,
   "id": "7b597363-b4d4-4ebd-bf82-9fef092360af",
   "metadata": {},
   "outputs": [],
   "source": [
    "import time"
   ]
  },
  {
   "cell_type": "markdown",
   "id": "ce2b66f3-41e0-4c36-9e96-96a0b3ee2518",
   "metadata": {},
   "source": [
    "`time.time()` method of Time module is used to get the time in seconds since epoch. The handling of leap seconds is platform dependent.\n",
    "\n",
    "**Note:** The epoch is the point where the time starts, and is platform dependent. On Windows and most Unix systems, the epoch is January 1, 1970, 00:00:00 (UTC) and leap seconds are not counted towards the time in seconds since the epoch. To check what the epoch is on a given platform we can use time.gmtime(0)."
   ]
  },
  {
   "cell_type": "code",
   "execution_count": 2,
   "id": "6b924c90-97b8-458e-9714-cd89dc7279b8",
   "metadata": {},
   "outputs": [
    {
     "data": {
      "text/plain": [
       "1646413417.060915"
      ]
     },
     "execution_count": 2,
     "metadata": {},
     "output_type": "execute_result"
    }
   ],
   "source": [
    "time.time()"
   ]
  },
  {
   "cell_type": "code",
   "execution_count": 3,
   "id": "a1a422b7-5a45-415e-bdfc-508ed4930d44",
   "metadata": {},
   "outputs": [
    {
     "data": {
      "text/plain": [
       "1646413417.0742526"
      ]
     },
     "execution_count": 3,
     "metadata": {},
     "output_type": "execute_result"
    }
   ],
   "source": [
    "time.time()"
   ]
  },
  {
   "cell_type": "markdown",
   "id": "4e56fe69-f0ac-418e-95cb-033c398cc560",
   "metadata": {},
   "source": [
    "The following is an example of measuring the duration of the loop:\n",
    "\n",
    "```python\n",
    "for i in range(10000000):\n",
    "        j = j + 1\n",
    "```\n",
    "\n",
    "by repeating it `n_repetitions` times (here 10 times) and saving the results in the `duration_list` variable."
   ]
  },
  {
   "cell_type": "code",
   "execution_count": 4,
   "id": "9969f127-15d5-46e0-989a-7875b7ac139e",
   "metadata": {},
   "outputs": [
    {
     "name": "stdout",
     "output_type": "stream",
     "text": [
      "Time took: 0.83 s\n",
      "Time took: 0.73 s\n",
      "Time took: 0.85 s\n",
      "Time took: 0.66 s\n",
      "Time took: 0.88 s\n",
      "Time took: 0.8 s\n",
      "Time took: 0.86 s\n",
      "Time took: 0.71 s\n",
      "Time took: 0.75 s\n",
      "Time took: 0.79 s\n"
     ]
    }
   ],
   "source": [
    "n_repetitions = 10\n",
    "duration_list = []\n",
    "\n",
    "for k in range(n_repetitions):\n",
    "    start_time = time.time()\n",
    "    j=0\n",
    "    for i in range(10000000):\n",
    "        j = j + 1\n",
    "\n",
    "    end_time = time.time()\n",
    "    duration = round(end_time - start_time,2)\n",
    "    print(\"Time took: \" + str(duration) + \" s\")\n",
    "    duration_list.append(duration)"
   ]
  },
  {
   "cell_type": "code",
   "execution_count": 5,
   "id": "c7f0eb9d-d677-41ad-9829-813b4b604f24",
   "metadata": {},
   "outputs": [
    {
     "data": {
      "text/plain": [
       "[0.83, 0.73, 0.85, 0.66, 0.88, 0.8, 0.86, 0.71, 0.75, 0.79]"
      ]
     },
     "execution_count": 5,
     "metadata": {},
     "output_type": "execute_result"
    }
   ],
   "source": [
    "duration_list"
   ]
  },
  {
   "cell_type": "markdown",
   "id": "fa155d0c-adbf-449d-b434-c6aa2d48d673",
   "metadata": {},
   "source": [
    "With the individual results in the `duration_list` variable (see above) we can compute the average computation time across 10 runs with the expression below."
   ]
  },
  {
   "cell_type": "code",
   "execution_count": 6,
   "id": "599e722b-089b-4e2f-9e9b-6e46b8e4bfbb",
   "metadata": {},
   "outputs": [
    {
     "data": {
      "text/plain": [
       "0.79"
      ]
     },
     "execution_count": 6,
     "metadata": {},
     "output_type": "execute_result"
    }
   ],
   "source": [
    "round(sum(duration_list)/len(duration_list),2)"
   ]
  },
  {
   "cell_type": "markdown",
   "id": "be9cbaf7-9646-423f-8708-d29ef08d29cd",
   "metadata": {},
   "source": [
    "## How to apply this time measurement approach to Assignment 2?\n",
    "\n",
    "The following example reads the first 100k lines from the bz2 compressed ping file, and print the computation time required to do so."
   ]
  },
  {
   "cell_type": "code",
   "execution_count": 7,
   "id": "4db71385-fc4d-4b63-9462-6985542480f5",
   "metadata": {},
   "outputs": [],
   "source": [
    "import bz2\n",
    "import json"
   ]
  },
  {
   "cell_type": "code",
   "execution_count": 8,
   "id": "0eae5ba0-a4d4-4b8a-957c-a8572a5730a5",
   "metadata": {},
   "outputs": [
    {
     "name": "stdout",
     "output_type": "stream",
     "text": [
      "\n",
      "bz2 file:\n",
      "Loading 100k lines took: 2.37 seconds\n"
     ]
    }
   ],
   "source": [
    "bz2Filename = './data/ping-2022-02-13T2300.bz2'\n",
    "bz2File     = bz2.open(bz2Filename, 'rt') \n",
    "\n",
    "#read first 100000 lines to estimate total loading time\n",
    "count = 0;\n",
    "st    = time.time()\n",
    "for line in bz2File:\n",
    "    #print(line)\n",
    "    decoded_line = json.loads(line)\n",
    "    #print(decoded_line)\n",
    "    count = count + 1\n",
    "    if count>100000: break\n",
    "\n",
    "#print time and estimate total time            \n",
    "dur         = round(time.time() - st,2)\n",
    "#estTotTime  = round( (dur/100000)*nrOfLines )\n",
    "print(\"\\nbz2 file:\" )\n",
    "print(\"Loading 100k lines took: \"  + str(dur) + \" seconds\")\n",
    "#print(\"Estimated loading time of entire bz2 file: \"  + str(estTotTime) + \\\n",
    "#      \" seconds\" )\n",
    "\n",
    "#finally close bz2File\n",
    "bz2File.close()"
   ]
  },
  {
   "cell_type": "markdown",
   "id": "a532768c-0c0a-4492-a7f6-de4cde68c444",
   "metadata": {},
   "source": [
    "## What is the faster way to read a pickle file? Pandas vs Pickle\n",
    "\n",
    "The following example compares the computation times required to open a pickle file using the `pandas` module vs using the `pickle` module."
   ]
  },
  {
   "cell_type": "code",
   "execution_count": 9,
   "id": "f071dc23-e265-453a-a661-d0806823438c",
   "metadata": {},
   "outputs": [],
   "source": [
    "import pickle\n",
    "import pandas"
   ]
  },
  {
   "cell_type": "code",
   "execution_count": 10,
   "id": "86a15930-fd61-4ae2-bfd3-eb5ee7393adf",
   "metadata": {},
   "outputs": [],
   "source": [
    "start_time = time.time()\n",
    "\n",
    "with open('data/AS_dataset.pkl', 'rb') as file:\n",
    "\t\n",
    "\t# Call load method to deserialze\n",
    "\tAS_df = pickle.load(file)    \n",
    "\n",
    "end_time = time.time()\n",
    "duration = round(end_time - start_time,2)"
   ]
  },
  {
   "cell_type": "code",
   "execution_count": 11,
   "id": "f0278cfe-fdf5-4eaa-b39a-5e2d1b8d6790",
   "metadata": {},
   "outputs": [
    {
     "name": "stdout",
     "output_type": "stream",
     "text": [
      "0.03\n"
     ]
    }
   ],
   "source": [
    "print(duration)"
   ]
  },
  {
   "cell_type": "code",
   "execution_count": 12,
   "id": "edbe24ef-d6c5-49f0-b133-0f13518a6f77",
   "metadata": {},
   "outputs": [],
   "source": [
    "start_time = time.time()\n",
    "\n",
    "pandas.read_pickle(\"data/AS_dataset.pkl\")  \n",
    "\n",
    "end_time = time.time()\n",
    "duration = round(end_time - start_time,2)"
   ]
  },
  {
   "cell_type": "code",
   "execution_count": 13,
   "id": "a19bac0b-1b4c-40cf-ba17-716d81f0cc4a",
   "metadata": {},
   "outputs": [
    {
     "name": "stdout",
     "output_type": "stream",
     "text": [
      "0.04\n"
     ]
    }
   ],
   "source": [
    "print(duration)"
   ]
  }
 ],
 "metadata": {
  "kernelspec": {
   "display_name": "Python 3 (ipykernel)",
   "language": "python",
   "name": "python3"
  },
  "language_info": {
   "codemirror_mode": {
    "name": "ipython",
    "version": 3
   },
   "file_extension": ".py",
   "mimetype": "text/x-python",
   "name": "python",
   "nbconvert_exporter": "python",
   "pygments_lexer": "ipython3",
   "version": "3.10.2"
  }
 },
 "nbformat": 4,
 "nbformat_minor": 5
}
