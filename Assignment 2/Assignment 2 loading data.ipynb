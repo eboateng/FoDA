{
 "cells": [
  {
   "cell_type": "markdown",
   "id": "4faf3694",
   "metadata": {},
   "source": [
    "# AS dataset"
   ]
  },
  {
   "cell_type": "code",
   "execution_count": 2,
   "id": "69c93169",
   "metadata": {},
   "outputs": [],
   "source": [
    "import pickle\n",
    "\n",
    "with open('data/AS_dataset.pkl', 'rb') as file:\n",
    "    \n",
    "    AS_df = pickle.load(file)"
   ]
  },
  {
   "cell_type": "code",
   "execution_count": 6,
   "id": "8d78638f",
   "metadata": {},
   "outputs": [
    {
     "data": {
      "text/plain": [
       "(60122, 5)"
      ]
     },
     "execution_count": 6,
     "metadata": {},
     "output_type": "execute_result"
    }
   ],
   "source": [
    "AS_df.shape"
   ]
  },
  {
   "cell_type": "code",
   "execution_count": 4,
   "id": "e8432748",
   "metadata": {},
   "outputs": [
    {
     "data": {
      "text/html": [
       "<div>\n",
       "<style scoped>\n",
       "    .dataframe tbody tr th:only-of-type {\n",
       "        vertical-align: middle;\n",
       "    }\n",
       "\n",
       "    .dataframe tbody tr th {\n",
       "        vertical-align: top;\n",
       "    }\n",
       "\n",
       "    .dataframe thead th {\n",
       "        text-align: right;\n",
       "    }\n",
       "</style>\n",
       "<table border=\"1\" class=\"dataframe\">\n",
       "  <thead>\n",
       "    <tr style=\"text-align: right;\">\n",
       "      <th></th>\n",
       "      <th>ASN</th>\n",
       "      <th>Country</th>\n",
       "      <th>Name</th>\n",
       "      <th>NumIPs</th>\n",
       "      <th>type</th>\n",
       "    </tr>\n",
       "  </thead>\n",
       "  <tbody>\n",
       "    <tr>\n",
       "      <th>0</th>\n",
       "      <td>AS55330</td>\n",
       "      <td>AF</td>\n",
       "      <td>AFGHANTELECOM GOVERNMENT COMMUNICATION NETWORK</td>\n",
       "      <td>50,432</td>\n",
       "      <td>hosting</td>\n",
       "    </tr>\n",
       "    <tr>\n",
       "      <th>1</th>\n",
       "      <td>AS17411</td>\n",
       "      <td>AF</td>\n",
       "      <td>Io Global Services Pvt. Limited</td>\n",
       "      <td>13,568</td>\n",
       "      <td>business</td>\n",
       "    </tr>\n",
       "    <tr>\n",
       "      <th>2</th>\n",
       "      <td>AS55424</td>\n",
       "      <td>AF</td>\n",
       "      <td>Instatelecom Limited</td>\n",
       "      <td>13,312</td>\n",
       "      <td>business</td>\n",
       "    </tr>\n",
       "    <tr>\n",
       "      <th>3</th>\n",
       "      <td>AS38742</td>\n",
       "      <td>AF</td>\n",
       "      <td>AWCC</td>\n",
       "      <td>11,520</td>\n",
       "      <td>isp</td>\n",
       "    </tr>\n",
       "    <tr>\n",
       "      <th>4</th>\n",
       "      <td>AS131284</td>\n",
       "      <td>AF</td>\n",
       "      <td>Etisalat Afghan</td>\n",
       "      <td>10,240</td>\n",
       "      <td>isp</td>\n",
       "    </tr>\n",
       "  </tbody>\n",
       "</table>\n",
       "</div>"
      ],
      "text/plain": [
       "        ASN Country                                            Name  NumIPs  \\\n",
       "0   AS55330      AF  AFGHANTELECOM GOVERNMENT COMMUNICATION NETWORK  50,432   \n",
       "1   AS17411      AF                 Io Global Services Pvt. Limited  13,568   \n",
       "2   AS55424      AF                            Instatelecom Limited  13,312   \n",
       "3   AS38742      AF                                            AWCC  11,520   \n",
       "4  AS131284      AF                                 Etisalat Afghan  10,240   \n",
       "\n",
       "       type  \n",
       "0   hosting  \n",
       "1  business  \n",
       "2  business  \n",
       "3       isp  \n",
       "4       isp  "
      ]
     },
     "execution_count": 4,
     "metadata": {},
     "output_type": "execute_result"
    }
   ],
   "source": [
    "AS_df.head()"
   ]
  },
  {
   "cell_type": "markdown",
   "id": "f8024710",
   "metadata": {},
   "source": []
  },
  {
   "cell_type": "markdown",
   "id": "e92ff335",
   "metadata": {},
   "source": [
    "# Probe dataset"
   ]
  },
  {
   "cell_type": "code",
   "execution_count": 8,
   "id": "f0615cdc",
   "metadata": {},
   "outputs": [
    {
     "data": {
      "text/html": [
       "<div>\n",
       "<style scoped>\n",
       "    .dataframe tbody tr th:only-of-type {\n",
       "        vertical-align: middle;\n",
       "    }\n",
       "\n",
       "    .dataframe tbody tr th {\n",
       "        vertical-align: top;\n",
       "    }\n",
       "\n",
       "    .dataframe thead th {\n",
       "        text-align: right;\n",
       "    }\n",
       "</style>\n",
       "<table border=\"1\" class=\"dataframe\">\n",
       "  <thead>\n",
       "    <tr style=\"text-align: right;\">\n",
       "      <th></th>\n",
       "      <th>prb_id</th>\n",
       "      <th>ASN</th>\n",
       "    </tr>\n",
       "  </thead>\n",
       "  <tbody>\n",
       "    <tr>\n",
       "      <th>0</th>\n",
       "      <td>1</td>\n",
       "      <td>AS3265</td>\n",
       "    </tr>\n",
       "    <tr>\n",
       "      <th>1</th>\n",
       "      <td>2</td>\n",
       "      <td>AS1136</td>\n",
       "    </tr>\n",
       "    <tr>\n",
       "      <th>2</th>\n",
       "      <td>3</td>\n",
       "      <td>AS3265</td>\n",
       "    </tr>\n",
       "    <tr>\n",
       "      <th>3</th>\n",
       "      <td>6</td>\n",
       "      <td>AS6830</td>\n",
       "    </tr>\n",
       "    <tr>\n",
       "      <th>4</th>\n",
       "      <td>8</td>\n",
       "      <td>AS3265</td>\n",
       "    </tr>\n",
       "  </tbody>\n",
       "</table>\n",
       "</div>"
      ],
      "text/plain": [
       "  prb_id     ASN\n",
       "0      1  AS3265\n",
       "1      2  AS1136\n",
       "2      3  AS3265\n",
       "3      6  AS6830\n",
       "4      8  AS3265"
      ]
     },
     "execution_count": 8,
     "metadata": {},
     "output_type": "execute_result"
    }
   ],
   "source": [
    "import pickle\n",
    "\n",
    "with open('data/probe_dataset.pkl', 'rb') as file:\n",
    "    \n",
    "    AS_df = pickle.load(file)\n",
    "    \n",
    "    \n",
    "AS_df.shape\n",
    "\n",
    "AS_df.head()"
   ]
  },
  {
   "cell_type": "code",
   "execution_count": 9,
   "id": "b692a185",
   "metadata": {},
   "outputs": [
    {
     "data": {
      "text/plain": [
       "(11008, 2)"
      ]
     },
     "execution_count": 9,
     "metadata": {},
     "output_type": "execute_result"
    }
   ],
   "source": [
    "AS_df.shape"
   ]
  },
  {
   "cell_type": "markdown",
   "id": "54bc4230",
   "metadata": {},
   "source": []
  },
  {
   "cell_type": "markdown",
   "id": "0d0f7a14",
   "metadata": {},
   "source": [
    "# RIPE dataset"
   ]
  },
  {
   "cell_type": "code",
   "execution_count": 24,
   "id": "92da97de",
   "metadata": {},
   "outputs": [
    {
     "name": "stdout",
     "output_type": "stream",
     "text": [
      "{\"fw\":5020,\"mver\":\"2.2.1\",\"lts\":-1,\"dst_name\":\"192.203.230.10\",\"af\":4,\"dst_addr\":\"192.203.230.10\",\"src_addr\":\"172.17.0.2\",\"proto\":\"ICMP\",\"ttl\":58,\"size\":32,\"result\":[{\"rtt\":12.917961},{\"rtt\":12.819589},{\"rtt\":12.84091}],\"dup\":0,\"rcvd\":3,\"sent\":3,\"min\":12.819589,\"max\":12.917961,\"avg\":12.8594866667,\"msm_id\":1013,\"prb_id\":1001660,\"timestamp\":1646090397,\"msm_name\":\"Ping\",\"from\":\"83.243.73.91\",\"type\":\"ping\",\"step\":240}\n",
      "\n",
      "{\n",
      "    \"af\": 4,\n",
      "    \"avg\": 12.8594866667,\n",
      "    \"dst_addr\": \"192.203.230.10\",\n",
      "    \"dst_name\": \"192.203.230.10\",\n",
      "    \"dup\": 0,\n",
      "    \"from\": \"83.243.73.91\",\n",
      "    \"fw\": 5020,\n",
      "    \"lts\": -1,\n",
      "    \"max\": 12.917961,\n",
      "    \"min\": 12.819589,\n",
      "    \"msm_id\": 1013,\n",
      "    \"msm_name\": \"Ping\",\n",
      "    \"mver\": \"2.2.1\",\n",
      "    \"prb_id\": 1001660,\n",
      "    \"proto\": \"ICMP\",\n",
      "    \"rcvd\": 3,\n",
      "    \"result\": [\n",
      "        {\n",
      "            \"rtt\": 12.917961\n",
      "        },\n",
      "        {\n",
      "            \"rtt\": 12.819589\n",
      "        },\n",
      "        {\n",
      "            \"rtt\": 12.84091\n",
      "        }\n",
      "    ],\n",
      "    \"sent\": 3,\n",
      "    \"size\": 32,\n",
      "    \"src_addr\": \"172.17.0.2\",\n",
      "    \"step\": 240,\n",
      "    \"timestamp\": 1646090397,\n",
      "    \"ttl\": 58,\n",
      "    \"type\": \"ping\"\n",
      "}\n",
      "\n",
      "Estimated nr of lines = 27143366\n",
      "\n",
      "Decompressed file:\n",
      "Loading 100k lines took: 0.18 seconds\n",
      "Estimated loading time of entire decompression file: 49 seconds\n"
     ]
    }
   ],
   "source": [
    "# -*- coding: utf-8 -*-\n",
    "# Course: SEN163A\n",
    "# Assignment: 2\n",
    "# Date: 26 mrt 2020\n",
    "# Name: Jordy Sanchez\n",
    "# Description: Load RIPE data\n",
    "# The RIPE data is compressed in a bz2 file. You can open it directly in python\n",
    "# to save storage space, but at the expense of additional computing power \n",
    "# (for on-the-fly decompression).\n",
    "import time\n",
    "import bz2\n",
    "import os\n",
    "import sys\n",
    "import json\n",
    "\n",
    "# OPTION 1: open decompressed file\n",
    "#decompression of one file can take up to 5 minutes (7zip @ Intel i5 4210U)\n",
    "decomFilename = 'data/ping-2022-02-28T2300'\n",
    "decomFile     = open(decomFilename, 'rt') \n",
    "\n",
    "#read first line and print\n",
    "firstLine = decomFile.readline();\n",
    "print(firstLine)\n",
    "\n",
    "#the line appears to be json-formatted: pretty print json\n",
    "firstLineJson = json.loads(firstLine)\n",
    "print(json.dumps(firstLineJson, sort_keys=True, indent=4))\n",
    "\n",
    "#estimate total number of lines\n",
    "firstLine_sizeInBytes   = sys.getsizeof(firstLine) \n",
    "decomFile_sizeInBytes   = os.stat(decomFilename).st_size\n",
    "nrOfLines               = round(decomFile_sizeInBytes/firstLine_sizeInBytes)\n",
    "print(\"\\nEstimated nr of lines = \" + str(nrOfLines))\n",
    "\n",
    "#read first 100k lines to estimate total loading time\n",
    "count = 0;\n",
    "st    = time.time()\n",
    "for line in decomFile:\n",
    "    count = count + 1\n",
    "    if count>100000: break\n",
    "    \n",
    "#print time and estimate total time            \n",
    "dur         = round(time.time() - st,2)\n",
    "estTotTime  = round( (dur/100000)*nrOfLines )\n",
    "print(\"\\nDecompressed file:\" )\n",
    "print(\"Loading 100k lines took: \"  + str(dur) + \" seconds\")\n",
    "print(\"Estimated loading time of entire decompression file: \"  + \\\n",
    "      str(estTotTime) + \" seconds\" )\n",
    "\n",
    "#finally close decomFile\n",
    "decomFile.close()\n"
   ]
  },
  {
   "cell_type": "markdown",
   "id": "baaa24d1",
   "metadata": {},
   "source": [
    "**Result description**\n",
    "\n",
    "Contains ping data from a lot of probes. This data is stored daily and divided into 24 files for 24 hours. The data loaded here is 1 hour, only one line is shown. Description of the fields is found here: https://web.archive.org/web/20200127090442/https://atlas.ripe.net/docs/data_struct/#v5000_ping"
   ]
  },
  {
   "cell_type": "markdown",
   "id": "a9dac343",
   "metadata": {},
   "source": [
    "# IPv4 Data"
   ]
  },
  {
   "cell_type": "code",
   "execution_count": 12,
   "id": "bf1e10aa",
   "metadata": {},
   "outputs": [],
   "source": [
    "import pandas"
   ]
  },
  {
   "cell_type": "code",
   "execution_count": 13,
   "id": "ff11c96b",
   "metadata": {},
   "outputs": [],
   "source": [
    "ipv4_df = pandas.read_csv(\"data/IP2LOCATION-LITE-DB1.CSV\")"
   ]
  },
  {
   "cell_type": "code",
   "execution_count": 14,
   "id": "223e78b9",
   "metadata": {},
   "outputs": [
    {
     "data": {
      "text/plain": [
       "(212146, 4)"
      ]
     },
     "execution_count": 14,
     "metadata": {},
     "output_type": "execute_result"
    }
   ],
   "source": [
    "ipv4_df.shape"
   ]
  },
  {
   "cell_type": "code",
   "execution_count": 25,
   "id": "9a54b4b1",
   "metadata": {},
   "outputs": [
    {
     "data": {
      "text/html": [
       "<div>\n",
       "<style scoped>\n",
       "    .dataframe tbody tr th:only-of-type {\n",
       "        vertical-align: middle;\n",
       "    }\n",
       "\n",
       "    .dataframe tbody tr th {\n",
       "        vertical-align: top;\n",
       "    }\n",
       "\n",
       "    .dataframe thead th {\n",
       "        text-align: right;\n",
       "    }\n",
       "</style>\n",
       "<table border=\"1\" class=\"dataframe\">\n",
       "  <thead>\n",
       "    <tr style=\"text-align: right;\">\n",
       "      <th></th>\n",
       "      <th>0</th>\n",
       "      <th>16777215</th>\n",
       "      <th>-</th>\n",
       "      <th>-.1</th>\n",
       "    </tr>\n",
       "  </thead>\n",
       "  <tbody>\n",
       "    <tr>\n",
       "      <th>0</th>\n",
       "      <td>16777216</td>\n",
       "      <td>16777471</td>\n",
       "      <td>US</td>\n",
       "      <td>United States of America</td>\n",
       "    </tr>\n",
       "    <tr>\n",
       "      <th>1</th>\n",
       "      <td>16777472</td>\n",
       "      <td>16778239</td>\n",
       "      <td>CN</td>\n",
       "      <td>China</td>\n",
       "    </tr>\n",
       "    <tr>\n",
       "      <th>2</th>\n",
       "      <td>16778240</td>\n",
       "      <td>16779263</td>\n",
       "      <td>AU</td>\n",
       "      <td>Australia</td>\n",
       "    </tr>\n",
       "    <tr>\n",
       "      <th>3</th>\n",
       "      <td>16779264</td>\n",
       "      <td>16781311</td>\n",
       "      <td>CN</td>\n",
       "      <td>China</td>\n",
       "    </tr>\n",
       "    <tr>\n",
       "      <th>4</th>\n",
       "      <td>16781312</td>\n",
       "      <td>16785407</td>\n",
       "      <td>JP</td>\n",
       "      <td>Japan</td>\n",
       "    </tr>\n",
       "  </tbody>\n",
       "</table>\n",
       "</div>"
      ],
      "text/plain": [
       "          0  16777215   -                       -.1\n",
       "0  16777216  16777471  US  United States of America\n",
       "1  16777472  16778239  CN                     China\n",
       "2  16778240  16779263  AU                 Australia\n",
       "3  16779264  16781311  CN                     China\n",
       "4  16781312  16785407  JP                     Japan"
      ]
     },
     "execution_count": 25,
     "metadata": {},
     "output_type": "execute_result"
    }
   ],
   "source": [
    "ipv4_df.head()"
   ]
  },
  {
   "cell_type": "markdown",
   "id": "239c237f",
   "metadata": {},
   "source": [
    "**Result description**\n",
    "\n",
    "Data shows which IP adresses roughly correspond to which country. The first two columns are IP4 adresses (From and to) in an integer format instead of the usual xxx.xxx.xxx.xxx format"
   ]
  },
  {
   "cell_type": "code",
   "execution_count": null,
   "id": "3785f936",
   "metadata": {},
   "outputs": [],
   "source": []
  }
 ],
 "metadata": {
  "kernelspec": {
   "display_name": "Python 3 (ipykernel)",
   "language": "python",
   "name": "python3"
  },
  "language_info": {
   "codemirror_mode": {
    "name": "ipython",
    "version": 3
   },
   "file_extension": ".py",
   "mimetype": "text/x-python",
   "name": "python",
   "nbconvert_exporter": "python",
   "pygments_lexer": "ipython3",
   "version": "3.8.5"
  }
 },
 "nbformat": 4,
 "nbformat_minor": 5
}
