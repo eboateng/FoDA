{
 "cells": [
  {
   "cell_type": "markdown",
   "id": "4b65429f-ce86-43d6-ab07-f62a3dd58c82",
   "metadata": {
    "slideshow": {
     "slide_type": "slide"
    },
    "tags": []
   },
   "source": [
    "# SEN163A - Fundamentals of Data Analytics\n",
    "## Assignment 2 - Large Scale Internet Data Analysis\n",
    "### Dr. Ir. Jacopo De Stefani - [J.deStefani@tudelft.nl](mailto:J.deStefani@tudelft.nl)\n",
    "### Joao Pizani Flor, M.Sc. - [J.p.pizaniflor@tudelft.nl](mailto:J.p.pizaniflor@tudelft.nl)"
   ]
  },
  {
   "cell_type": "markdown",
   "id": "ee55a4c8-2cef-45c7-8734-aa19267e477e",
   "metadata": {
    "slideshow": {
     "slide_type": "slide"
    },
    "tags": []
   },
   "source": [
    "# Review\n",
    "\n",
    "- AS\n",
    "- BGP\n"
   ]
  },
  {
   "cell_type": "markdown",
   "id": "727c5042-9649-4cc2-8db1-089f6184079f",
   "metadata": {},
   "source": [
    "## AS\n",
    "\n",
    "### Definition\n",
    "\n",
    "An autonomous system number is a unique identifier that is globally available and allows its autonomous system to exchange routing information with other systems.\n",
    "\n",
    "### Overview\n",
    "\n",
    "An autonomous system (AS) is a group of IP prefixes with a clearly defined external routing policy. In order for multiple autonomous systems to interact, each needs to have a unique identifier. Autonomous system numbers can be public or private. Public ASNs are required for systems to exchange information over the Internet. A private ASN can be used instead if a system is communicating solely with a single provider via Border Gateway Protocol (BGP).\n",
    "Regional Internet registries\n",
    "\n",
    "The Internet Assigned Numbers Authority (IANA) is responsible for globally coordinating DNS Root, IP addressing, and other Internet protocol resources, including ASNs. IANA assigns ASNs to regional Internet registries (RIRs), which are organizations that manage Internet number resources in a particular region of the world.\n",
    "\n",
    "The five regional Internet registries are:\n",
    "\n",
    "- **African Network Information Center (AFRINIC)**\n",
    "- **American Registry for Internet Numbers (ARIN)**\n",
    "- **Asia-Pacific Network Information Centre (APNIC)**\n",
    "- **Latin American and Caribbean Network Information Centre (LACNIC)**\n",
    "- **Réseaux IP Européens Network Coordination Centre (RIPE NCC)**\n",
    "\n",
    "The five RIRs are united by an unincorporated organization called the Number Resource Organization. The NRO’s mission is to contribute to an open, stable, and secure Internet by coordinating joint RIR activities and projects, such as Resource Certification (RPKI) and Internet governance activities.\n",
    "\n",
    "### Types\n",
    "\n",
    "There are four types of autonomous systems that generally need an ASN. These include:\n",
    "\n",
    "- **Multihomed** – Connected to more than one autonomous system.\n",
    "- **Stub** – Only connected to one other autonomous system.\n",
    "- **Transit** – Provides connections through itself. For example, network A can connect to network C directly or by crossing over network B.\n",
    "- **Internet Exchange Point** – Autonomous system created by the physical infrastructure located at Internet exchange points.\n",
    "\n",
    "### Autonomous system number formats\n",
    "\n",
    "Until 2007, all autonomous system numbers were 2-byte, or 16-bit, numbers. This gave IANA 65,536 possible ASNs to distribute. This amount was always destined to run out, much like IPv4 addresses. Just like the creation of IPv6, 4-byte (32-bit) ASNs were created to remedy the issue. The new system provides 4,294,967,296 autonomous system numbers.\n",
    "\n",
    "With the switch to 4-byte, people grew concerned that number representation would become too difficult. To mitigate those concerns, two alternative ways to represent the number were created.\n",
    "\n",
    "The standard method for displaying the number is called `asplain`, which is a simple decimal representation.\n",
    "\n",
    "The `asdot+` method breaks the number into low and high-order 16-bit values and separates them by a dot. For example, 65525 would be displayed as 0.65525, 65537 would be displayed as 1.0, 65680 would be displayed as 1.144, and so on.\n",
    "\n",
    "The `asdot` method is a mixture of asplain and `asdot+`. Any number that is in the 2-byte range is displayed in `asplain` format, 65525 would be 65525; any number that is outside of that range is displayed in `asdot+` format, 65680 would be 1.144.\n",
    "\n",
    "**Quick reference:** https://blog.stackpath.com/autonomous-system-number/\n"
   ]
  },
  {
   "cell_type": "markdown",
   "id": "d0c238b8-8b52-4a6a-9f71-3602612f3f77",
   "metadata": {
    "slideshow": {
     "slide_type": "slide"
    },
    "tags": []
   },
   "source": [
    "## BGP\n",
    "\n",
    "![BGP](BGP.png)\n",
    "\n",
    "**Quick reference:** https://www.cloudflare.com/learning/security/glossary/what-is-bgp/"
   ]
  },
  {
   "cell_type": "markdown",
   "id": "2f6104db-e24e-4fb7-bc53-a8739a8d2730",
   "metadata": {},
   "source": [
    "# AS Data"
   ]
  },
  {
   "cell_type": "code",
   "execution_count": 4,
   "id": "d22e527b-f880-4a9e-9874-3d29eff9090e",
   "metadata": {},
   "outputs": [],
   "source": [
    "import pickle\n",
    "\n",
    "# Open the file in binary mode\n",
    "with open('data/AS_dataset.pkl', 'rb') as file:\n",
    "\t\n",
    "\t# Call load method to deserialze\n",
    "\tAS_df = pickle.load(file)\n"
   ]
  },
  {
   "cell_type": "code",
   "execution_count": 5,
   "id": "0db8f610-8f58-418b-92a1-b61b811820b4",
   "metadata": {},
   "outputs": [
    {
     "data": {
      "text/plain": [
       "(60122, 5)"
      ]
     },
     "execution_count": 5,
     "metadata": {},
     "output_type": "execute_result"
    }
   ],
   "source": [
    "AS_df.shape"
   ]
  },
  {
   "cell_type": "code",
   "execution_count": 6,
   "id": "cd94740a-c94e-4f41-b66c-ddcc67afc8fa",
   "metadata": {},
   "outputs": [
    {
     "data": {
      "text/html": [
       "<div>\n",
       "<style scoped>\n",
       "    .dataframe tbody tr th:only-of-type {\n",
       "        vertical-align: middle;\n",
       "    }\n",
       "\n",
       "    .dataframe tbody tr th {\n",
       "        vertical-align: top;\n",
       "    }\n",
       "\n",
       "    .dataframe thead th {\n",
       "        text-align: right;\n",
       "    }\n",
       "</style>\n",
       "<table border=\"1\" class=\"dataframe\">\n",
       "  <thead>\n",
       "    <tr style=\"text-align: right;\">\n",
       "      <th></th>\n",
       "      <th>ASN</th>\n",
       "      <th>Country</th>\n",
       "      <th>Name</th>\n",
       "      <th>NumIPs</th>\n",
       "      <th>type</th>\n",
       "    </tr>\n",
       "  </thead>\n",
       "  <tbody>\n",
       "    <tr>\n",
       "      <th>0</th>\n",
       "      <td>AS55330</td>\n",
       "      <td>AF</td>\n",
       "      <td>AFGHANTELECOM GOVERNMENT COMMUNICATION NETWORK</td>\n",
       "      <td>50,432</td>\n",
       "      <td>hosting</td>\n",
       "    </tr>\n",
       "    <tr>\n",
       "      <th>1</th>\n",
       "      <td>AS17411</td>\n",
       "      <td>AF</td>\n",
       "      <td>Io Global Services Pvt. Limited</td>\n",
       "      <td>13,568</td>\n",
       "      <td>business</td>\n",
       "    </tr>\n",
       "    <tr>\n",
       "      <th>2</th>\n",
       "      <td>AS55424</td>\n",
       "      <td>AF</td>\n",
       "      <td>Instatelecom Limited</td>\n",
       "      <td>13,312</td>\n",
       "      <td>business</td>\n",
       "    </tr>\n",
       "    <tr>\n",
       "      <th>3</th>\n",
       "      <td>AS38742</td>\n",
       "      <td>AF</td>\n",
       "      <td>AWCC</td>\n",
       "      <td>11,520</td>\n",
       "      <td>isp</td>\n",
       "    </tr>\n",
       "    <tr>\n",
       "      <th>4</th>\n",
       "      <td>AS131284</td>\n",
       "      <td>AF</td>\n",
       "      <td>Etisalat Afghan</td>\n",
       "      <td>10,240</td>\n",
       "      <td>isp</td>\n",
       "    </tr>\n",
       "  </tbody>\n",
       "</table>\n",
       "</div>"
      ],
      "text/plain": [
       "        ASN Country                                            Name  NumIPs  \\\n",
       "0   AS55330      AF  AFGHANTELECOM GOVERNMENT COMMUNICATION NETWORK  50,432   \n",
       "1   AS17411      AF                 Io Global Services Pvt. Limited  13,568   \n",
       "2   AS55424      AF                            Instatelecom Limited  13,312   \n",
       "3   AS38742      AF                                            AWCC  11,520   \n",
       "4  AS131284      AF                                 Etisalat Afghan  10,240   \n",
       "\n",
       "       type  \n",
       "0   hosting  \n",
       "1  business  \n",
       "2  business  \n",
       "3       isp  \n",
       "4       isp  "
      ]
     },
     "execution_count": 6,
     "metadata": {},
     "output_type": "execute_result"
    }
   ],
   "source": [
    "AS_df.head()"
   ]
  },
  {
   "cell_type": "markdown",
   "id": "6cdd3896-a899-4671-969e-2dc67ebb6eec",
   "metadata": {},
   "source": [
    "# Probe Data"
   ]
  },
  {
   "cell_type": "code",
   "execution_count": 7,
   "id": "cbbae1d0-55eb-4333-9c89-569d7dd0d3f1",
   "metadata": {},
   "outputs": [],
   "source": [
    "# Open the file in binary mode\n",
    "with open('data/probe_dataset.pkl', 'rb') as file:\n",
    "\t\n",
    "\t# Call load method to deserialze\n",
    "\tprobe_df = pickle.load(file)"
   ]
  },
  {
   "cell_type": "code",
   "execution_count": 8,
   "id": "46be4b33-4049-42c0-8f48-48e087241a40",
   "metadata": {},
   "outputs": [
    {
     "data": {
      "text/plain": [
       "(11008, 2)"
      ]
     },
     "execution_count": 8,
     "metadata": {},
     "output_type": "execute_result"
    }
   ],
   "source": [
    "probe_df.shape"
   ]
  },
  {
   "cell_type": "code",
   "execution_count": 9,
   "id": "2a742621-91f8-4917-a138-80f1f2cdf1c2",
   "metadata": {},
   "outputs": [
    {
     "data": {
      "text/html": [
       "<div>\n",
       "<style scoped>\n",
       "    .dataframe tbody tr th:only-of-type {\n",
       "        vertical-align: middle;\n",
       "    }\n",
       "\n",
       "    .dataframe tbody tr th {\n",
       "        vertical-align: top;\n",
       "    }\n",
       "\n",
       "    .dataframe thead th {\n",
       "        text-align: right;\n",
       "    }\n",
       "</style>\n",
       "<table border=\"1\" class=\"dataframe\">\n",
       "  <thead>\n",
       "    <tr style=\"text-align: right;\">\n",
       "      <th></th>\n",
       "      <th>prb_id</th>\n",
       "      <th>ASN</th>\n",
       "    </tr>\n",
       "  </thead>\n",
       "  <tbody>\n",
       "    <tr>\n",
       "      <th>0</th>\n",
       "      <td>1</td>\n",
       "      <td>AS3265</td>\n",
       "    </tr>\n",
       "    <tr>\n",
       "      <th>1</th>\n",
       "      <td>2</td>\n",
       "      <td>AS1136</td>\n",
       "    </tr>\n",
       "    <tr>\n",
       "      <th>2</th>\n",
       "      <td>3</td>\n",
       "      <td>AS3265</td>\n",
       "    </tr>\n",
       "    <tr>\n",
       "      <th>3</th>\n",
       "      <td>6</td>\n",
       "      <td>AS6830</td>\n",
       "    </tr>\n",
       "    <tr>\n",
       "      <th>4</th>\n",
       "      <td>8</td>\n",
       "      <td>AS3265</td>\n",
       "    </tr>\n",
       "  </tbody>\n",
       "</table>\n",
       "</div>"
      ],
      "text/plain": [
       "  prb_id     ASN\n",
       "0      1  AS3265\n",
       "1      2  AS1136\n",
       "2      3  AS3265\n",
       "3      6  AS6830\n",
       "4      8  AS3265"
      ]
     },
     "execution_count": 9,
     "metadata": {},
     "output_type": "execute_result"
    }
   ],
   "source": [
    "probe_df.head()"
   ]
  },
  {
   "cell_type": "markdown",
   "id": "9ebd5c86-f2c2-4b02-ace6-203d9bbcae8b",
   "metadata": {
    "tags": []
   },
   "source": [
    "# RIPE Data"
   ]
  },
  {
   "cell_type": "code",
   "execution_count": 16,
   "id": "321f703e-b802-4668-830e-d12f5f695ddb",
   "metadata": {},
   "outputs": [],
   "source": [
    "import bz2\n",
    "import time\n",
    "import json"
   ]
  },
  {
   "cell_type": "code",
   "execution_count": 17,
   "id": "895555c3-2a5d-4f29-95f2-f8e3b5215fcf",
   "metadata": {},
   "outputs": [
    {
     "name": "stdout",
     "output_type": "stream",
     "text": [
      "{\"fw\":5040,\"mver\":\"2.4.1\",\"lts\":221,\"dst_name\":\"185.184.236.30\",\"af\":4,\"dst_addr\":\"185.184.236.30\",\"src_addr\":\"45.77.211.82\",\"proto\":\"ICMP\",\"ttl\":54,\"size\":64,\"result\":[{\"rtt\":136.430751},{\"rtt\":136.515399},{\"rtt\":136.571458}],\"dup\":0,\"rcvd\":3,\"sent\":3,\"min\":136.430751,\"max\":136.571458,\"avg\":136.5058693333,\"msm_id\":22782578,\"prb_id\":6434,\"timestamp\":1644795355,\"msm_name\":\"Ping\",\"from\":\"45.77.211.82\",\"type\":\"ping\",\"group_id\":22782577,\"step\":240}\n",
      "\n",
      "{'fw': 5040, 'mver': '2.4.1', 'lts': 221, 'dst_name': '185.184.236.30', 'af': 4, 'dst_addr': '185.184.236.30', 'src_addr': '45.77.211.82', 'proto': 'ICMP', 'ttl': 54, 'size': 64, 'result': [{'rtt': 136.430751}, {'rtt': 136.515399}, {'rtt': 136.571458}], 'dup': 0, 'rcvd': 3, 'sent': 3, 'min': 136.430751, 'max': 136.571458, 'avg': 136.5058693333, 'msm_id': 22782578, 'prb_id': 6434, 'timestamp': 1644795355, 'msm_name': 'Ping', 'from': '45.77.211.82', 'type': 'ping', 'group_id': 22782577, 'step': 240}\n",
      "{\"fw\":5040,\"mver\":\"2.4.1\",\"lts\":222,\"dst_name\":\"83.243.44.55\",\"af\":4,\"dst_addr\":\"83.243.44.55\",\"src_addr\":\"45.77.211.82\",\"proto\":\"ICMP\",\"ttl\":55,\"size\":64,\"result\":[{\"rtt\":152.534185},{\"rtt\":152.662458},{\"rtt\":152.469238}],\"dup\":0,\"rcvd\":3,\"sent\":3,\"min\":152.469238,\"max\":152.662458,\"avg\":152.5552936667,\"msm_id\":17281193,\"prb_id\":6434,\"timestamp\":1644795356,\"msm_name\":\"Ping\",\"from\":\"45.77.211.82\",\"type\":\"ping\",\"group_id\":17281192,\"step\":240}\n",
      "\n",
      "{'fw': 5040, 'mver': '2.4.1', 'lts': 222, 'dst_name': '83.243.44.55', 'af': 4, 'dst_addr': '83.243.44.55', 'src_addr': '45.77.211.82', 'proto': 'ICMP', 'ttl': 55, 'size': 64, 'result': [{'rtt': 152.534185}, {'rtt': 152.662458}, {'rtt': 152.469238}], 'dup': 0, 'rcvd': 3, 'sent': 3, 'min': 152.469238, 'max': 152.662458, 'avg': 152.5552936667, 'msm_id': 17281193, 'prb_id': 6434, 'timestamp': 1644795356, 'msm_name': 'Ping', 'from': '45.77.211.82', 'type': 'ping', 'group_id': 17281192, 'step': 240}\n",
      "{\"fw\":5040,\"mver\":\"2.4.1\",\"lts\":223,\"dst_name\":\"103.102.166.20\",\"af\":4,\"dst_addr\":\"103.102.166.20\",\"src_addr\":\"45.77.211.82\",\"proto\":\"ICMP\",\"ttl\":56,\"size\":64,\"result\":[{\"rtt\":162.334303},{\"rtt\":162.604797},{\"rtt\":162.223265}],\"dup\":0,\"rcvd\":3,\"sent\":3,\"min\":162.223265,\"max\":162.604797,\"avg\":162.387455,\"msm_id\":11645085,\"prb_id\":6434,\"timestamp\":1644795357,\"msm_name\":\"Ping\",\"from\":\"45.77.211.82\",\"type\":\"ping\",\"group_id\":11645084,\"step\":240}\n",
      "\n",
      "{'fw': 5040, 'mver': '2.4.1', 'lts': 223, 'dst_name': '103.102.166.20', 'af': 4, 'dst_addr': '103.102.166.20', 'src_addr': '45.77.211.82', 'proto': 'ICMP', 'ttl': 56, 'size': 64, 'result': [{'rtt': 162.334303}, {'rtt': 162.604797}, {'rtt': 162.223265}], 'dup': 0, 'rcvd': 3, 'sent': 3, 'min': 162.223265, 'max': 162.604797, 'avg': 162.387455, 'msm_id': 11645085, 'prb_id': 6434, 'timestamp': 1644795357, 'msm_name': 'Ping', 'from': '45.77.211.82', 'type': 'ping', 'group_id': 11645084, 'step': 240}\n",
      "{\"fw\":5040,\"mver\":\"2.4.1\",\"lts\":226,\"dst_name\":\"2001:638:90d:bfff::10\",\"af\":6,\"dst_addr\":\"2001:638:90d:bfff::10\",\"src_addr\":\"2001:19f0:8001:946:5400:1ff:fec7:2166\",\"proto\":\"ICMP\",\"ttl\":49,\"size\":64,\"result\":[{\"rtt\":151.344201},{\"rtt\":151.209163},{\"rtt\":151.360688}],\"dup\":0,\"rcvd\":3,\"sent\":3,\"min\":151.209163,\"max\":151.360688,\"avg\":151.304684,\"msm_id\":11659199,\"prb_id\":6434,\"timestamp\":1644795360,\"msm_name\":\"Ping\",\"from\":\"2001:19f0:8001:946:5400:1ff:fec7:2166\",\"type\":\"ping\",\"group_id\":11659198,\"step\":240}\n",
      "\n",
      "{'fw': 5040, 'mver': '2.4.1', 'lts': 226, 'dst_name': '2001:638:90d:bfff::10', 'af': 6, 'dst_addr': '2001:638:90d:bfff::10', 'src_addr': '2001:19f0:8001:946:5400:1ff:fec7:2166', 'proto': 'ICMP', 'ttl': 49, 'size': 64, 'result': [{'rtt': 151.344201}, {'rtt': 151.209163}, {'rtt': 151.360688}], 'dup': 0, 'rcvd': 3, 'sent': 3, 'min': 151.209163, 'max': 151.360688, 'avg': 151.304684, 'msm_id': 11659199, 'prb_id': 6434, 'timestamp': 1644795360, 'msm_name': 'Ping', 'from': '2001:19f0:8001:946:5400:1ff:fec7:2166', 'type': 'ping', 'group_id': 11659198, 'step': 240}\n",
      "{\"fw\":5040,\"mver\":\"2.4.1\",\"lts\":227,\"dst_name\":\"192.136.136.221\",\"af\":4,\"dst_addr\":\"192.136.136.221\",\"src_addr\":\"45.77.211.82\",\"proto\":\"ICMP\",\"ttl\":53,\"size\":64,\"result\":[{\"rtt\":83.772919},{\"rtt\":83.964672},{\"rtt\":83.847144}],\"dup\":0,\"rcvd\":3,\"sent\":3,\"min\":83.772919,\"max\":83.964672,\"avg\":83.8615783333,\"msm_id\":11528424,\"prb_id\":6434,\"timestamp\":1644795361,\"msm_name\":\"Ping\",\"from\":\"45.77.211.82\",\"type\":\"ping\",\"group_id\":11528423,\"step\":240}\n",
      "\n",
      "{'fw': 5040, 'mver': '2.4.1', 'lts': 227, 'dst_name': '192.136.136.221', 'af': 4, 'dst_addr': '192.136.136.221', 'src_addr': '45.77.211.82', 'proto': 'ICMP', 'ttl': 53, 'size': 64, 'result': [{'rtt': 83.772919}, {'rtt': 83.964672}, {'rtt': 83.847144}], 'dup': 0, 'rcvd': 3, 'sent': 3, 'min': 83.772919, 'max': 83.964672, 'avg': 83.8615783333, 'msm_id': 11528424, 'prb_id': 6434, 'timestamp': 1644795361, 'msm_name': 'Ping', 'from': '45.77.211.82', 'type': 'ping', 'group_id': 11528423, 'step': 240}\n",
      "{\"fw\":5040,\"mver\":\"2.4.1\",\"lts\":55,\"dst_name\":\"2001:7c0:f00:3c03::2\",\"af\":6,\"dst_addr\":\"2001:7c0:f00:3c03::2\",\"src_addr\":\"2620:a8:c000:19::12\",\"proto\":\"ICMP\",\"ttl\":44,\"size\":64,\"result\":[{\"rtt\":100.484164},{\"rtt\":100.407539},{\"rtt\":102.108192}],\"dup\":0,\"rcvd\":3,\"sent\":3,\"min\":100.407539,\"max\":102.108192,\"avg\":100.999965,\"msm_id\":24449416,\"prb_id\":6428,\"timestamp\":1644795303,\"msm_name\":\"Ping\",\"from\":\"2620:a8:c000:19::12\",\"type\":\"ping\",\"group_id\":24449415,\"step\":240}\n",
      "\n",
      "{'fw': 5040, 'mver': '2.4.1', 'lts': 55, 'dst_name': '2001:7c0:f00:3c03::2', 'af': 6, 'dst_addr': '2001:7c0:f00:3c03::2', 'src_addr': '2620:a8:c000:19::12', 'proto': 'ICMP', 'ttl': 44, 'size': 64, 'result': [{'rtt': 100.484164}, {'rtt': 100.407539}, {'rtt': 102.108192}], 'dup': 0, 'rcvd': 3, 'sent': 3, 'min': 100.407539, 'max': 102.108192, 'avg': 100.999965, 'msm_id': 24449416, 'prb_id': 6428, 'timestamp': 1644795303, 'msm_name': 'Ping', 'from': '2620:a8:c000:19::12', 'type': 'ping', 'group_id': 24449415, 'step': 240}\n",
      "{\"fw\":5040,\"mver\":\"2.4.1\",\"lts\":57,\"dst_name\":\"2402:1f00:8102:100::68b\",\"af\":6,\"dst_addr\":\"2402:1f00:8102:100::68b\",\"src_addr\":\"2620:a8:c000:19::12\",\"proto\":\"ICMP\",\"ttl\":49,\"size\":64,\"result\":[{\"rtt\":209.195293},{\"rtt\":210.217522},{\"rtt\":210.691898}],\"dup\":0,\"rcvd\":3,\"sent\":3,\"min\":209.195293,\"max\":210.691898,\"avg\":210.0349043333,\"msm_id\":23873220,\"prb_id\":6428,\"timestamp\":1644795305,\"msm_name\":\"Ping\",\"from\":\"2620:a8:c000:19::12\",\"type\":\"ping\",\"group_id\":23873219,\"step\":240}\n",
      "\n",
      "{'fw': 5040, 'mver': '2.4.1', 'lts': 57, 'dst_name': '2402:1f00:8102:100::68b', 'af': 6, 'dst_addr': '2402:1f00:8102:100::68b', 'src_addr': '2620:a8:c000:19::12', 'proto': 'ICMP', 'ttl': 49, 'size': 64, 'result': [{'rtt': 209.195293}, {'rtt': 210.217522}, {'rtt': 210.691898}], 'dup': 0, 'rcvd': 3, 'sent': 3, 'min': 209.195293, 'max': 210.691898, 'avg': 210.0349043333, 'msm_id': 23873220, 'prb_id': 6428, 'timestamp': 1644795305, 'msm_name': 'Ping', 'from': '2620:a8:c000:19::12', 'type': 'ping', 'group_id': 23873219, 'step': 240}\n",
      "{\"fw\":5040,\"mver\":\"2.4.1\",\"lts\":60,\"dst_name\":\"95.47.236.146\",\"af\":4,\"dst_addr\":\"95.47.236.146\",\"src_addr\":\"208.73.138.12\",\"proto\":\"ICMP\",\"ttl\":51,\"size\":64,\"result\":[{\"rtt\":107.642138},{\"rtt\":107.904427},{\"rtt\":108.502353}],\"dup\":0,\"rcvd\":3,\"sent\":3,\"min\":107.642138,\"max\":108.502353,\"avg\":108.016306,\"msm_id\":26055382,\"prb_id\":6428,\"timestamp\":1644795308,\"msm_name\":\"Ping\",\"from\":\"208.73.138.12\",\"type\":\"ping\",\"group_id\":26055381,\"step\":240}\n",
      "\n",
      "{'fw': 5040, 'mver': '2.4.1', 'lts': 60, 'dst_name': '95.47.236.146', 'af': 4, 'dst_addr': '95.47.236.146', 'src_addr': '208.73.138.12', 'proto': 'ICMP', 'ttl': 51, 'size': 64, 'result': [{'rtt': 107.642138}, {'rtt': 107.904427}, {'rtt': 108.502353}], 'dup': 0, 'rcvd': 3, 'sent': 3, 'min': 107.642138, 'max': 108.502353, 'avg': 108.016306, 'msm_id': 26055382, 'prb_id': 6428, 'timestamp': 1644795308, 'msm_name': 'Ping', 'from': '208.73.138.12', 'type': 'ping', 'group_id': 26055381, 'step': 240}\n",
      "{\"fw\":5040,\"mver\":\"2.4.1\",\"lts\":60,\"dst_name\":\"141.98.136.74\",\"af\":4,\"dst_addr\":\"141.98.136.74\",\"src_addr\":\"208.73.138.12\",\"proto\":\"ICMP\",\"ttl\":56,\"size\":64,\"result\":[{\"rtt\":89.455582},{\"rtt\":90.175387},{\"rtt\":89.707478}],\"dup\":0,\"rcvd\":3,\"sent\":3,\"min\":89.455582,\"max\":90.175387,\"avg\":89.7794823333,\"msm_id\":25308213,\"prb_id\":6428,\"timestamp\":1644795308,\"msm_name\":\"Ping\",\"from\":\"208.73.138.12\",\"type\":\"ping\",\"group_id\":25308212,\"step\":240}\n",
      "\n",
      "{'fw': 5040, 'mver': '2.4.1', 'lts': 60, 'dst_name': '141.98.136.74', 'af': 4, 'dst_addr': '141.98.136.74', 'src_addr': '208.73.138.12', 'proto': 'ICMP', 'ttl': 56, 'size': 64, 'result': [{'rtt': 89.455582}, {'rtt': 90.175387}, {'rtt': 89.707478}], 'dup': 0, 'rcvd': 3, 'sent': 3, 'min': 89.455582, 'max': 90.175387, 'avg': 89.7794823333, 'msm_id': 25308213, 'prb_id': 6428, 'timestamp': 1644795308, 'msm_name': 'Ping', 'from': '208.73.138.12', 'type': 'ping', 'group_id': 25308212, 'step': 240}\n",
      "{\"fw\":5040,\"mver\":\"2.4.1\",\"lts\":60,\"dst_name\":\"2001:41d0:302:1100::306\",\"af\":6,\"dst_addr\":\"2001:41d0:302:1100::306\",\"src_addr\":\"2620:a8:c000:19::12\",\"proto\":\"ICMP\",\"ttl\":52,\"size\":64,\"result\":[{\"rtt\":85.147624},{\"rtt\":84.778145},{\"rtt\":86.213964}],\"dup\":0,\"rcvd\":3,\"sent\":3,\"min\":84.778145,\"max\":86.213964,\"avg\":85.379911,\"msm_id\":23723906,\"prb_id\":6428,\"timestamp\":1644795308,\"msm_name\":\"Ping\",\"from\":\"2620:a8:c000:19::12\",\"type\":\"ping\",\"group_id\":23723905,\"step\":240}\n",
      "\n",
      "{'fw': 5040, 'mver': '2.4.1', 'lts': 60, 'dst_name': '2001:41d0:302:1100::306', 'af': 6, 'dst_addr': '2001:41d0:302:1100::306', 'src_addr': '2620:a8:c000:19::12', 'proto': 'ICMP', 'ttl': 52, 'size': 64, 'result': [{'rtt': 85.147624}, {'rtt': 84.778145}, {'rtt': 86.213964}], 'dup': 0, 'rcvd': 3, 'sent': 3, 'min': 84.778145, 'max': 86.213964, 'avg': 85.379911, 'msm_id': 23723906, 'prb_id': 6428, 'timestamp': 1644795308, 'msm_name': 'Ping', 'from': '2620:a8:c000:19::12', 'type': 'ping', 'group_id': 23723905, 'step': 240}\n",
      "{\"fw\":5040,\"mver\":\"2.4.1\",\"lts\":61,\"dst_name\":\"35.186.175.121\",\"af\":4,\"dst_addr\":\"35.186.175.121\",\"src_addr\":\"208.73.138.12\",\"proto\":\"ICMP\",\"ttl\":59,\"size\":64,\"result\":[{\"rtt\":5.092763},{\"rtt\":4.98617},{\"rtt\":4.748121}],\"dup\":0,\"rcvd\":3,\"sent\":3,\"min\":4.748121,\"max\":5.092763,\"avg\":4.9423513333,\"msm_id\":23018142,\"prb_id\":6428,\"timestamp\":1644795309,\"msm_name\":\"Ping\",\"from\":\"208.73.138.12\",\"type\":\"ping\",\"group_id\":23018141,\"step\":240}\n",
      "\n",
      "{'fw': 5040, 'mver': '2.4.1', 'lts': 61, 'dst_name': '35.186.175.121', 'af': 4, 'dst_addr': '35.186.175.121', 'src_addr': '208.73.138.12', 'proto': 'ICMP', 'ttl': 59, 'size': 64, 'result': [{'rtt': 5.092763}, {'rtt': 4.98617}, {'rtt': 4.748121}], 'dup': 0, 'rcvd': 3, 'sent': 3, 'min': 4.748121, 'max': 5.092763, 'avg': 4.9423513333, 'msm_id': 23018142, 'prb_id': 6428, 'timestamp': 1644795309, 'msm_name': 'Ping', 'from': '208.73.138.12', 'type': 'ping', 'group_id': 23018141, 'step': 240}\n"
     ]
    }
   ],
   "source": [
    "bz2Filename = './data/ping-2022-02-13T2300.bz2'\n",
    "bz2File     = bz2.open(bz2Filename, 'rt') \n",
    "\n",
    "#read first 10 lines to estimate total loading time\n",
    "count = 0;\n",
    "st    = time.time()\n",
    "for line in bz2File:\n",
    "    print(line)\n",
    "    decoded_line = json.loads(line)\n",
    "    print(decoded_line)\n",
    "    count = count + 1\n",
    "    if count>10: break\n",
    "\n",
    "#print time and estimate total time            \n",
    "#dur         = round(time.time() - st,2)\n",
    "#estTotTime  = round( (dur/100000)*nrOfLines )\n",
    "#print(\"\\nbz2 file:\" )\n",
    "#print(\"Loading 100k lines took: \"  + str(dur) + \" seconds\")\n",
    "#print(\"Estimated loading time of entire bz2 file: \"  + str(estTotTime) + \\\n",
    "#      \" seconds\" )\n",
    "\n",
    "#finally close bz2File\n",
    "bz2File.close()"
   ]
  },
  {
   "cell_type": "markdown",
   "id": "0cdf702e",
   "metadata": {},
   "source": []
  },
  {
   "cell_type": "markdown",
   "id": "9bc6e4f8-16b4-409d-bf06-728796186811",
   "metadata": {},
   "source": [
    "# IPv4 data\n",
    "\n",
    "This site or product includes IP2Location LITE data available from <a href=\"https://lite.ip2location.com\">https://lite.ip2location.com</a>."
   ]
  },
  {
   "cell_type": "code",
   "execution_count": 18,
   "id": "a37ccacc-acc2-4984-b0ee-fba15705348b",
   "metadata": {},
   "outputs": [],
   "source": [
    "import pandas"
   ]
  },
  {
   "cell_type": "code",
   "execution_count": 19,
   "id": "4f67a111-195a-4d0b-8fe1-9149ae6ee476",
   "metadata": {},
   "outputs": [],
   "source": [
    "ipv4_df = pandas.read_csv(\"data/IP2LOCATION-LITE-DB1.CSV\")"
   ]
  },
  {
   "cell_type": "code",
   "execution_count": 20,
   "id": "88692482-488d-48ba-9a0e-71bcb4addd7d",
   "metadata": {},
   "outputs": [
    {
     "data": {
      "text/plain": [
       "(188932, 4)"
      ]
     },
     "execution_count": 20,
     "metadata": {},
     "output_type": "execute_result"
    }
   ],
   "source": [
    "ipv4_df.shape"
   ]
  },
  {
   "cell_type": "code",
   "execution_count": 21,
   "id": "1fbb87fa-23a4-4873-b76d-ce148b6c0997",
   "metadata": {},
   "outputs": [
    {
     "data": {
      "text/html": [
       "<div>\n",
       "<style scoped>\n",
       "    .dataframe tbody tr th:only-of-type {\n",
       "        vertical-align: middle;\n",
       "    }\n",
       "\n",
       "    .dataframe tbody tr th {\n",
       "        vertical-align: top;\n",
       "    }\n",
       "\n",
       "    .dataframe thead th {\n",
       "        text-align: right;\n",
       "    }\n",
       "</style>\n",
       "<table border=\"1\" class=\"dataframe\">\n",
       "  <thead>\n",
       "    <tr style=\"text-align: right;\">\n",
       "      <th></th>\n",
       "      <th>0</th>\n",
       "      <th>16777215</th>\n",
       "      <th>-</th>\n",
       "      <th>-.1</th>\n",
       "    </tr>\n",
       "  </thead>\n",
       "  <tbody>\n",
       "    <tr>\n",
       "      <th>0</th>\n",
       "      <td>16777216</td>\n",
       "      <td>16777471</td>\n",
       "      <td>AU</td>\n",
       "      <td>Australia</td>\n",
       "    </tr>\n",
       "    <tr>\n",
       "      <th>1</th>\n",
       "      <td>16777472</td>\n",
       "      <td>16778239</td>\n",
       "      <td>CN</td>\n",
       "      <td>China</td>\n",
       "    </tr>\n",
       "    <tr>\n",
       "      <th>2</th>\n",
       "      <td>16778240</td>\n",
       "      <td>16779263</td>\n",
       "      <td>AU</td>\n",
       "      <td>Australia</td>\n",
       "    </tr>\n",
       "    <tr>\n",
       "      <th>3</th>\n",
       "      <td>16779264</td>\n",
       "      <td>16781311</td>\n",
       "      <td>CN</td>\n",
       "      <td>China</td>\n",
       "    </tr>\n",
       "    <tr>\n",
       "      <th>4</th>\n",
       "      <td>16781312</td>\n",
       "      <td>16785407</td>\n",
       "      <td>JP</td>\n",
       "      <td>Japan</td>\n",
       "    </tr>\n",
       "  </tbody>\n",
       "</table>\n",
       "</div>"
      ],
      "text/plain": [
       "          0  16777215   -        -.1\n",
       "0  16777216  16777471  AU  Australia\n",
       "1  16777472  16778239  CN      China\n",
       "2  16778240  16779263  AU  Australia\n",
       "3  16779264  16781311  CN      China\n",
       "4  16781312  16785407  JP      Japan"
      ]
     },
     "execution_count": 21,
     "metadata": {},
     "output_type": "execute_result"
    }
   ],
   "source": [
    "ipv4_df.head()"
   ]
  },
  {
   "cell_type": "code",
   "execution_count": 24,
   "id": "e90d9d70-ac1c-4ed9-a1a7-e8e544abf1a0",
   "metadata": {},
   "outputs": [],
   "source": [
    "ipv4_df.rename(columns = {'0':'ip_from', '16777215':'ip_to',\n",
    "                              '-':'country_code','-.1':'country_name'}, inplace = True)"
   ]
  },
  {
   "cell_type": "code",
   "execution_count": 25,
   "id": "a9110a26-177e-41de-baff-111a34e3c0b1",
   "metadata": {},
   "outputs": [
    {
     "data": {
      "text/html": [
       "<div>\n",
       "<style scoped>\n",
       "    .dataframe tbody tr th:only-of-type {\n",
       "        vertical-align: middle;\n",
       "    }\n",
       "\n",
       "    .dataframe tbody tr th {\n",
       "        vertical-align: top;\n",
       "    }\n",
       "\n",
       "    .dataframe thead th {\n",
       "        text-align: right;\n",
       "    }\n",
       "</style>\n",
       "<table border=\"1\" class=\"dataframe\">\n",
       "  <thead>\n",
       "    <tr style=\"text-align: right;\">\n",
       "      <th></th>\n",
       "      <th>ip_from</th>\n",
       "      <th>ip_to</th>\n",
       "      <th>country_code</th>\n",
       "      <th>country_name</th>\n",
       "    </tr>\n",
       "  </thead>\n",
       "  <tbody>\n",
       "    <tr>\n",
       "      <th>0</th>\n",
       "      <td>16777216</td>\n",
       "      <td>16777471</td>\n",
       "      <td>AU</td>\n",
       "      <td>Australia</td>\n",
       "    </tr>\n",
       "    <tr>\n",
       "      <th>1</th>\n",
       "      <td>16777472</td>\n",
       "      <td>16778239</td>\n",
       "      <td>CN</td>\n",
       "      <td>China</td>\n",
       "    </tr>\n",
       "    <tr>\n",
       "      <th>2</th>\n",
       "      <td>16778240</td>\n",
       "      <td>16779263</td>\n",
       "      <td>AU</td>\n",
       "      <td>Australia</td>\n",
       "    </tr>\n",
       "    <tr>\n",
       "      <th>3</th>\n",
       "      <td>16779264</td>\n",
       "      <td>16781311</td>\n",
       "      <td>CN</td>\n",
       "      <td>China</td>\n",
       "    </tr>\n",
       "    <tr>\n",
       "      <th>4</th>\n",
       "      <td>16781312</td>\n",
       "      <td>16785407</td>\n",
       "      <td>JP</td>\n",
       "      <td>Japan</td>\n",
       "    </tr>\n",
       "  </tbody>\n",
       "</table>\n",
       "</div>"
      ],
      "text/plain": [
       "    ip_from     ip_to country_code country_name\n",
       "0  16777216  16777471           AU    Australia\n",
       "1  16777472  16778239           CN        China\n",
       "2  16778240  16779263           AU    Australia\n",
       "3  16779264  16781311           CN        China\n",
       "4  16781312  16785407           JP        Japan"
      ]
     },
     "execution_count": 25,
     "metadata": {},
     "output_type": "execute_result"
    }
   ],
   "source": [
    "ipv4_df.head()"
   ]
  }
 ],
 "metadata": {
  "kernelspec": {
   "display_name": "Python 3 (ipykernel)",
   "language": "python",
   "name": "python3"
  },
  "language_info": {
   "codemirror_mode": {
    "name": "ipython",
    "version": 3
   },
   "file_extension": ".py",
   "mimetype": "text/x-python",
   "name": "python",
   "nbconvert_exporter": "python",
   "pygments_lexer": "ipython3",
   "version": "3.8.5"
  }
 },
 "nbformat": 4,
 "nbformat_minor": 5
}
