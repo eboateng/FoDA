{
 "cells": [
  {
   "cell_type": "markdown",
   "id": "3bce53b7",
   "metadata": {},
   "source": [
    "# SEN163A - Fundamentals of Data Analytics\n",
    "# Assignment 2 - Large-scale Internet Data Analysis\n",
    "### Ir. Jacopo De Stefani - [J.deStefani@tudelft.nl](mailto:J.deStefani@tudelft.nl)\n",
    "### Joao Pizani Flor, M.Sc. - [J.p.pizaniflor@tudelft.nl](mailto:J.p.pizaniflor@tudelft.nl)\n",
    "\n",
    "### 05-03-2022\n",
    "## Group 2\n",
    "- Emmanuel M Boateng - '5617642'\n",
    "- Joost Oortwijn - '4593472'\n",
    "- Philip Busscher - ''4611993''\n",
    "- Floris Kool - ''4975243''\n"
   ]
  },
  {
   "cell_type": "markdown",
   "id": "4c14223a",
   "metadata": {},
   "source": [
    "# Introduction\n",
    "short description of the assignment"
   ]
  },
  {
   "cell_type": "markdown",
   "id": "aa652d22",
   "metadata": {},
   "source": [
    "# 1. Dataset description\n",
    "\n",
    "Short description of the 4 datasets used"
   ]
  },
  {
   "cell_type": "markdown",
   "id": "5417f273",
   "metadata": {},
   "source": [
    "## 1.1 Opening the data"
   ]
  },
  {
   "cell_type": "code",
   "execution_count": 2,
   "id": "9d2132d0",
   "metadata": {},
   "outputs": [],
   "source": [
    "import pickle\n",
    "import time\n",
    "import bz2\n",
    "import os\n",
    "import sys\n",
    "import json\n",
    "import pandas\n",
    "import io\n",
    "import datetime\n"
   ]
  },
  {
   "cell_type": "code",
   "execution_count": 2,
   "id": "ea1251d5",
   "metadata": {},
   "outputs": [
    {
     "data": {
      "text/html": [
       "<div>\n",
       "<style scoped>\n",
       "    .dataframe tbody tr th:only-of-type {\n",
       "        vertical-align: middle;\n",
       "    }\n",
       "\n",
       "    .dataframe tbody tr th {\n",
       "        vertical-align: top;\n",
       "    }\n",
       "\n",
       "    .dataframe thead th {\n",
       "        text-align: right;\n",
       "    }\n",
       "</style>\n",
       "<table border=\"1\" class=\"dataframe\">\n",
       "  <thead>\n",
       "    <tr style=\"text-align: right;\">\n",
       "      <th></th>\n",
       "      <th>ASN</th>\n",
       "      <th>Country</th>\n",
       "      <th>Name</th>\n",
       "      <th>NumIPs</th>\n",
       "      <th>type</th>\n",
       "    </tr>\n",
       "  </thead>\n",
       "  <tbody>\n",
       "    <tr>\n",
       "      <th>0</th>\n",
       "      <td>AS55330</td>\n",
       "      <td>AF</td>\n",
       "      <td>AFGHANTELECOM GOVERNMENT COMMUNICATION NETWORK</td>\n",
       "      <td>50,432</td>\n",
       "      <td>hosting</td>\n",
       "    </tr>\n",
       "    <tr>\n",
       "      <th>1</th>\n",
       "      <td>AS17411</td>\n",
       "      <td>AF</td>\n",
       "      <td>Io Global Services Pvt. Limited</td>\n",
       "      <td>13,568</td>\n",
       "      <td>business</td>\n",
       "    </tr>\n",
       "    <tr>\n",
       "      <th>2</th>\n",
       "      <td>AS55424</td>\n",
       "      <td>AF</td>\n",
       "      <td>Instatelecom Limited</td>\n",
       "      <td>13,312</td>\n",
       "      <td>business</td>\n",
       "    </tr>\n",
       "    <tr>\n",
       "      <th>3</th>\n",
       "      <td>AS38742</td>\n",
       "      <td>AF</td>\n",
       "      <td>AWCC</td>\n",
       "      <td>11,520</td>\n",
       "      <td>isp</td>\n",
       "    </tr>\n",
       "    <tr>\n",
       "      <th>4</th>\n",
       "      <td>AS131284</td>\n",
       "      <td>AF</td>\n",
       "      <td>Etisalat Afghan</td>\n",
       "      <td>10,240</td>\n",
       "      <td>isp</td>\n",
       "    </tr>\n",
       "  </tbody>\n",
       "</table>\n",
       "</div>"
      ],
      "text/plain": [
       "        ASN Country                                            Name  NumIPs  \\\n",
       "0   AS55330      AF  AFGHANTELECOM GOVERNMENT COMMUNICATION NETWORK  50,432   \n",
       "1   AS17411      AF                 Io Global Services Pvt. Limited  13,568   \n",
       "2   AS55424      AF                            Instatelecom Limited  13,312   \n",
       "3   AS38742      AF                                            AWCC  11,520   \n",
       "4  AS131284      AF                                 Etisalat Afghan  10,240   \n",
       "\n",
       "       type  \n",
       "0   hosting  \n",
       "1  business  \n",
       "2  business  \n",
       "3       isp  \n",
       "4       isp  "
      ]
     },
     "execution_count": 2,
     "metadata": {},
     "output_type": "execute_result"
    }
   ],
   "source": [
    "#AS Dataset\n",
    "\n",
    "AS_Filename = 'data/AS_dataset.pkl'\n",
    "\n",
    "with open(AS_Filename, 'rb') as file:\n",
    "    \n",
    "    AS_df = pickle.load(file)\n",
    "\n",
    "AS_df.head()\n"
   ]
  },
  {
   "cell_type": "code",
   "execution_count": 17,
   "id": "19f7b6ae",
   "metadata": {},
   "outputs": [
    {
     "data": {
      "text/html": [
       "<div>\n",
       "<style scoped>\n",
       "    .dataframe tbody tr th:only-of-type {\n",
       "        vertical-align: middle;\n",
       "    }\n",
       "\n",
       "    .dataframe tbody tr th {\n",
       "        vertical-align: top;\n",
       "    }\n",
       "\n",
       "    .dataframe thead th {\n",
       "        text-align: right;\n",
       "    }\n",
       "</style>\n",
       "<table border=\"1\" class=\"dataframe\">\n",
       "  <thead>\n",
       "    <tr style=\"text-align: right;\">\n",
       "      <th></th>\n",
       "      <th>prb_id</th>\n",
       "      <th>ASN</th>\n",
       "    </tr>\n",
       "  </thead>\n",
       "  <tbody>\n",
       "    <tr>\n",
       "      <th>0</th>\n",
       "      <td>1</td>\n",
       "      <td>AS3265</td>\n",
       "    </tr>\n",
       "    <tr>\n",
       "      <th>1</th>\n",
       "      <td>2</td>\n",
       "      <td>AS1136</td>\n",
       "    </tr>\n",
       "    <tr>\n",
       "      <th>2</th>\n",
       "      <td>3</td>\n",
       "      <td>AS3265</td>\n",
       "    </tr>\n",
       "    <tr>\n",
       "      <th>3</th>\n",
       "      <td>6</td>\n",
       "      <td>AS6830</td>\n",
       "    </tr>\n",
       "    <tr>\n",
       "      <th>4</th>\n",
       "      <td>8</td>\n",
       "      <td>AS3265</td>\n",
       "    </tr>\n",
       "  </tbody>\n",
       "</table>\n",
       "</div>"
      ],
      "text/plain": [
       "  prb_id     ASN\n",
       "0      1  AS3265\n",
       "1      2  AS1136\n",
       "2      3  AS3265\n",
       "3      6  AS6830\n",
       "4      8  AS3265"
      ]
     },
     "execution_count": 17,
     "metadata": {},
     "output_type": "execute_result"
    }
   ],
   "source": [
    "#Probe dataset\n",
    "\n",
    "Probe_Filename = 'data/probe_dataset.pkl'\n",
    "\n",
    "with open(Probe_Filename, 'rb') as file:\n",
    "    \n",
    "    P_df = pickle.load(file)\n",
    "\n",
    "P_df.head()"
   ]
  },
  {
   "cell_type": "code",
   "execution_count": null,
   "id": "1bb11fb5",
   "metadata": {},
   "outputs": [],
   "source": [
    "#Ripe dataset \n",
    "\n",
    "\n",
    "#Method needs to be decided"
   ]
  },
  {
   "cell_type": "code",
   "execution_count": 42,
   "id": "90f5c5c4-0730-46b1-81be-35cacd4fbc69",
   "metadata": {},
   "outputs": [
    {
     "name": "stdout",
     "output_type": "stream",
     "text": [
      "564\n"
     ]
    }
   ],
   "source": [
    "merged_df = P_df.merge(AS_df)\n",
    "\n",
    "merged_df.insert(2, 'AS', merged_df['ASN'].str.replace('AS',''))\n",
    "merged_df['AS'] = pandas.to_numeric(merged_df['AS'])\n",
    "merged_df['prb_id'] = pandas.to_numeric(merged_df['prb_id'])\n",
    "\n",
    "\n",
    "merged_df = merged_df.sort_values('AS')\n",
    "merged_df.head(3)\n",
    "\n",
    "print(merged_df.type.value_counts().hosting)\n",
    "#print(merged_df.loc[(merged_df['type']=='') | (merged_df['Country']==\"\")])\n",
    "\n",
    "#merged_df.info('NumIPs')\n",
    "#& (df['FT_Team'].str.startswith('S')),['Name','FT_Team']]\n",
    "EU_Countries = [\"AT\",\"BE\",\"HR\",\"CY\",\"CZ\",\"DK\",\"EE\",\"FI\",\"FR\",\"GR\",\"DE\",\"HU\",\n",
    "                \"IE\",\"IT\",\"LV\",\"LT\",\"LU\",\"MT\",\"NL\",\"PL\",\"PT\",\"RO\",\"SK\",\"SI\",\n",
    "                \"ES\",\"SE\"]\n",
    "\n",
    "EU_data = merged_df[merged_df['Country'].isin(EU_Countries)]\n"
   ]
  },
  {
   "cell_type": "markdown",
   "id": "85b31ac8-e525-4ce6-82c3-6865fbb0370d",
   "metadata": {},
   "source": [
    "the first three ASNs"
   ]
  },
  {
   "cell_type": "code",
   "execution_count": 10,
   "id": "066df344-43f2-47cf-911e-b5a85b39c4d8",
   "metadata": {},
   "outputs": [
    {
     "data": {
      "text/html": [
       "<div>\n",
       "<style scoped>\n",
       "    .dataframe tbody tr th:only-of-type {\n",
       "        vertical-align: middle;\n",
       "    }\n",
       "\n",
       "    .dataframe tbody tr th {\n",
       "        vertical-align: top;\n",
       "    }\n",
       "\n",
       "    .dataframe thead th {\n",
       "        text-align: right;\n",
       "    }\n",
       "</style>\n",
       "<table border=\"1\" class=\"dataframe\">\n",
       "  <thead>\n",
       "    <tr style=\"text-align: right;\">\n",
       "      <th></th>\n",
       "      <th>prb_id</th>\n",
       "      <th>ASN</th>\n",
       "      <th>Country</th>\n",
       "      <th>Name</th>\n",
       "      <th>NumIPs</th>\n",
       "      <th>type</th>\n",
       "    </tr>\n",
       "  </thead>\n",
       "  <tbody>\n",
       "    <tr>\n",
       "      <th>0</th>\n",
       "      <td>1</td>\n",
       "      <td>AS3265</td>\n",
       "      <td>NL</td>\n",
       "      <td>Xs4all Internet BV</td>\n",
       "      <td>1,116,928</td>\n",
       "      <td>isp</td>\n",
       "    </tr>\n",
       "    <tr>\n",
       "      <th>1</th>\n",
       "      <td>3</td>\n",
       "      <td>AS3265</td>\n",
       "      <td>NL</td>\n",
       "      <td>Xs4all Internet BV</td>\n",
       "      <td>1,116,928</td>\n",
       "      <td>isp</td>\n",
       "    </tr>\n",
       "    <tr>\n",
       "      <th>2</th>\n",
       "      <td>8</td>\n",
       "      <td>AS3265</td>\n",
       "      <td>NL</td>\n",
       "      <td>Xs4all Internet BV</td>\n",
       "      <td>1,116,928</td>\n",
       "      <td>isp</td>\n",
       "    </tr>\n",
       "  </tbody>\n",
       "</table>\n",
       "</div>"
      ],
      "text/plain": [
       "  prb_id     ASN Country                Name     NumIPs type\n",
       "0      1  AS3265      NL  Xs4all Internet BV  1,116,928  isp\n",
       "1      3  AS3265      NL  Xs4all Internet BV  1,116,928  isp\n",
       "2      8  AS3265      NL  Xs4all Internet BV  1,116,928  isp"
      ]
     },
     "execution_count": 10,
     "metadata": {},
     "output_type": "execute_result"
    }
   ],
   "source": [
    "merged_df.head(3)"
   ]
  },
  {
   "cell_type": "markdown",
   "id": "89cd23ce-99a0-4872-8cd3-5aaf8a4577ce",
   "metadata": {},
   "source": [
    "the last three ASNs"
   ]
  },
  {
   "cell_type": "code",
   "execution_count": 16,
   "id": "db435c8e-223c-49f0-a0a9-2f87a2324154",
   "metadata": {},
   "outputs": [
    {
     "data": {
      "text/html": [
       "<div>\n",
       "<style scoped>\n",
       "    .dataframe tbody tr th:only-of-type {\n",
       "        vertical-align: middle;\n",
       "    }\n",
       "\n",
       "    .dataframe tbody tr th {\n",
       "        vertical-align: top;\n",
       "    }\n",
       "\n",
       "    .dataframe thead th {\n",
       "        text-align: right;\n",
       "    }\n",
       "</style>\n",
       "<table border=\"1\" class=\"dataframe\">\n",
       "  <thead>\n",
       "    <tr style=\"text-align: right;\">\n",
       "      <th></th>\n",
       "      <th>prb_id</th>\n",
       "      <th>ASN</th>\n",
       "      <th>AS</th>\n",
       "      <th>Country</th>\n",
       "      <th>Name</th>\n",
       "      <th>NumIPs</th>\n",
       "      <th>type</th>\n",
       "    </tr>\n",
       "  </thead>\n",
       "  <tbody>\n",
       "    <tr>\n",
       "      <th>10229</th>\n",
       "      <td>50514</td>\n",
       "      <td>AS396515</td>\n",
       "      <td>396515</td>\n",
       "      <td>CA</td>\n",
       "      <td>YYCIX</td>\n",
       "      <td>256</td>\n",
       "      <td>business</td>\n",
       "    </tr>\n",
       "    <tr>\n",
       "      <th>10226</th>\n",
       "      <td>50477</td>\n",
       "      <td>AS397131</td>\n",
       "      <td>397131</td>\n",
       "      <td>CA</td>\n",
       "      <td>Everythink Innovations Limited</td>\n",
       "      <td>512</td>\n",
       "      <td>isp</td>\n",
       "    </tr>\n",
       "    <tr>\n",
       "      <th>7800</th>\n",
       "      <td>13330</td>\n",
       "      <td>AS397168</td>\n",
       "      <td>397168</td>\n",
       "      <td>CA</td>\n",
       "      <td>National Capital Freenet Inc</td>\n",
       "      <td>8,960</td>\n",
       "      <td>isp</td>\n",
       "    </tr>\n",
       "  </tbody>\n",
       "</table>\n",
       "</div>"
      ],
      "text/plain": [
       "      prb_id       ASN      AS Country                            Name NumIPs  \\\n",
       "10229  50514  AS396515  396515      CA                           YYCIX    256   \n",
       "10226  50477  AS397131  397131      CA  Everythink Innovations Limited    512   \n",
       "7800   13330  AS397168  397168      CA    National Capital Freenet Inc  8,960   \n",
       "\n",
       "           type  \n",
       "10229  business  \n",
       "10226       isp  \n",
       "7800        isp  "
      ]
     },
     "execution_count": 16,
     "metadata": {},
     "output_type": "execute_result"
    }
   ],
   "source": [
    "merged_df.tail(3)"
   ]
  },
  {
   "cell_type": "code",
   "execution_count": null,
   "id": "9db4ff69",
   "metadata": {},
   "outputs": [],
   "source": [
    "#IP 2 Location dataset\n",
    "\n",
    "IP_Filename = \"data/IP2LOCATION-LITE-DB1.CSV\"\n",
    "\n",
    "ipv4_df = pandas.read_csv(IP_Filename)\n",
    "\n",
    "ipv4_df.head()"
   ]
  },
  {
   "cell_type": "markdown",
   "id": "c22a36dc",
   "metadata": {},
   "source": [
    "More detailed description of data if needed (Can also be after opening each dataset)"
   ]
  },
  {
   "cell_type": "markdown",
   "id": "148358f4",
   "metadata": {},
   "source": [
    "## 1.2 Limitations in data\n",
    "\n",
    "Evaluate if there are limitations in the provided datasets (AS and probe data set). If you find limitations, describe these and conjecture possible reasons, supported with data.\n",
    "\n",
    "..."
   ]
  },
  {
   "cell_type": "code",
   "execution_count": null,
   "id": "732d59e8",
   "metadata": {},
   "outputs": [],
   "source": [
    "#Code needed to prove limitations"
   ]
  },
  {
   "cell_type": "code",
   "execution_count": 3,
   "id": "22aaef1e-8c31-4c32-8955-b79c9afc99d3",
   "metadata": {},
   "outputs": [
    {
     "name": "stdout",
     "output_type": "stream",
     "text": [
      "size of line 1 454\n"
     ]
    }
   ],
   "source": [
    "bz2Filename = 'data/ping-2022-03-01T2300.bz2'\n",
    "bz2File     = bz2.open(bz2Filename, 'rt') \n",
    "firstLine = bz2File.readline();\n",
    "firstLine_sizeInBytes   = sys.getsizeof(firstLine)\n",
    "print(\"size of line 1\",firstLine_sizeInBytes)"
   ]
  },
  {
   "cell_type": "markdown",
   "id": "37eeb0f5",
   "metadata": {},
   "source": [
    "Some list of limitations in text"
   ]
  },
  {
   "cell_type": "markdown",
   "id": "29f0f1dd",
   "metadata": {},
   "source": [
    "# 2 Analysis\n",
    "\n",
    "Short description of what is going to be analyzed"
   ]
  },
  {
   "cell_type": "markdown",
   "id": "96172fcb",
   "metadata": {},
   "source": [
    "## 2.1 AS\n",
    "\n",
    "With the AS and probe data set, find the number m of AS’s that can be used for hosting in the EU\n",
    "and have probes in the RIPE data set. Sort the ASN’s in ascending order and include the first and last\n",
    "three in your report (number, name and country).\n"
   ]
  },
  {
   "cell_type": "code",
   "execution_count": null,
   "id": "b928b305",
   "metadata": {},
   "outputs": [],
   "source": [
    "#Upper part should be removed because run in part 1\n",
    "import pickle\n",
    "import time\n",
    "import bz2\n",
    "import os\n",
    "import sys\n",
    "import json\n",
    "import pandas\n",
    "import io\n",
    "import datetime\n",
    "\n",
    "with open('data/AS_dataset.pkl', 'rb') as file:\n",
    "    AS_df = pickle.load(file)\n",
    "    \n",
    "with open('data/probe_dataset.pkl', 'rb') as file:    \n",
    "    P_df = pickle.load(file)\n",
    "    \n",
    "decomFilename = 'data/ping-2022-03-01T2300.bz2'\n",
    "#decomFile     = bz2.open(decomFilename, 'rt')   \n",
    "\n",
    "\n",
    "RIPEProbes = []\n",
    "index = 0\n",
    "\n",
    "rmv_list =['result','fw','mver','lts','af','proto','size','dup','rcvd','sent','min', 'ttl','max','msm_id','msm_name','step']\n",
    "#Create list of all probes that are in the RIPE dataset\n",
    "\n",
    "RIPE_df = pandas.DataFrame()  \n",
    "\n",
    "t0 = time.time()\n",
    "time.sleep(0.000001)\n",
    "with open(decomFilename, 'rb') as fi:\n",
    "    decomp = bz2.BZ2Decompressor()\n",
    "    residue = b''\n",
    "    total_lines = 0\n",
    "    for data in iter(lambda: fi.read(100 * 1024), b''):\n",
    "        raw = residue + decomp.decompress(data) # process the raw data and  concatenate residual of the previous block to the beginning of the current raw data block\n",
    "        residue = b''\n",
    "        # process_data(current_block) => do the processing of the current data block\n",
    "        current_block = raw.split(b'\\n')\n",
    "        if raw[-1] != b'\\n':\n",
    "            residue = current_block.pop() # last line could be incomplete\n",
    "        for items in current_block:\n",
    "            df_dict = json.loads(items.decode('utf-8'))\n",
    "            for items in rmv_list:\n",
    "                if items in df_dict:\n",
    "                    del df_dict[items]\n",
    "                    df = pandas.DataFrame([df_dict], columns=df_dict.keys())\n",
    "        RIPE_df = pandas.concat([RIPE_df, df], axis =0).reset_index(drop=True)\n",
    "        total_lines += len(current_block)\n",
    "    total_lines += 1\n",
    "    #print('Final: %i lines/sec' % (total_lines / (time.time() - t0)))\n",
    "#print(data)\n",
    "#print(\"*****\")\n",
    "#print(current_block)\n",
    "print(\"Total processing time: \",(time.time() - t0))\n",
    "print(\"total lines :\", total_lines)\n",
    "fi.close()\n",
    "RIPE_df.shape"
   ]
  },
  {
   "cell_type": "code",
   "execution_count": 27,
   "id": "e4fa599a-c11e-4e57-a086-f2fca25b28ca",
   "metadata": {},
   "outputs": [
    {
     "name": "stdout",
     "output_type": "stream",
     "text": [
      "52953\n",
      "4935140\n"
     ]
    }
   ],
   "source": [
    "\n",
    "decomFilename = 'data/ping-2022-03-01T2300.bz2'\n",
    "\n",
    "\n",
    "with open(decomFilename, 'rb') as fh:\n",
    "        count = 0\n",
    "        for _ in fh:\n",
    "            count += 1\n",
    "\n",
    "print(count)"
   ]
  },
  {
   "cell_type": "code",
   "execution_count": 20,
   "id": "a1982715-7ac4-494a-93d7-f8e0cd8ad9d0",
   "metadata": {},
   "outputs": [],
   "source": [
    "data =raw.splitlines()\n",
    "\n",
    "rmv_list =['result','fw','mver','ttr','lts','af','proto','size','dup','rcvd','sent','min', 'ttl','max','msm_id','msm_name','step']\n",
    "count = 0\n",
    "RIPE_df = pandas.DataFrame()  \n",
    "for items in data:\n",
    "    count = count +1\n",
    "    df_dict = json.loads(items.decode('utf-8'))\n",
    "    for items in rmv_list:\n",
    "        if items in df_dict:\n",
    "            del df_dict[items]\n",
    "            df = pandas.DataFrame([df_dict], columns=df_dict.keys())\n",
    "    RIPE_df = pandas.concat([RIPE_df, df], axis =0).reset_index(drop=True)\n"
   ]
  },
  {
   "cell_type": "code",
   "execution_count": 21,
   "id": "ee0eb403-a30f-41f8-91af-9e1c58d53385",
   "metadata": {},
   "outputs": [
    {
     "name": "stdout",
     "output_type": "stream",
     "text": [
      "Number of probes in Ripe: 1447\n",
      "Number of probes in Probe: 11008\n"
     ]
    }
   ],
   "source": [
    "RIPE_df.tail()\n",
    "#print(RIPE_df.groupby('prb_id').count())\n",
    "print(\"Number of probes in Ripe:\",RIPE_df['prb_id'].value_counts().sum())\n",
    "print(\"Number of probes in Probe:\", P_df['prb_id'].value_counts().sum())\n",
    "\n"
   ]
  },
  {
   "cell_type": "code",
   "execution_count": 64,
   "id": "e139c548-5846-4671-8024-47a8c923c99d",
   "metadata": {},
   "outputs": [
    {
     "ename": "NameError",
     "evalue": "name 'nrOfLines_half' is not defined",
     "output_type": "error",
     "traceback": [
      "\u001b[0;31m---------------------------------------------------------------------------\u001b[0m",
      "\u001b[0;31mNameError\u001b[0m                                 Traceback (most recent call last)",
      "\u001b[0;32m/var/folders/qd/wtyzdplx1712rf3p12f4blkm0000gn/T/ipykernel_9409/4278378334.py\u001b[0m in \u001b[0;36m<module>\u001b[0;34m\u001b[0m\n\u001b[1;32m      9\u001b[0m                     \u001b[0mjsonline\u001b[0m\u001b[0;34m.\u001b[0m\u001b[0mpop\u001b[0m\u001b[0;34m(\u001b[0m\u001b[0mitems\u001b[0m\u001b[0;34m)\u001b[0m\u001b[0;34m\u001b[0m\u001b[0;34m\u001b[0m\u001b[0m\n\u001b[1;32m     10\u001b[0m             \u001b[0mRIPEProbes\u001b[0m\u001b[0;34m.\u001b[0m\u001b[0mappend\u001b[0m\u001b[0;34m(\u001b[0m\u001b[0mjsonline\u001b[0m\u001b[0;34m)\u001b[0m\u001b[0;34m\u001b[0m\u001b[0;34m\u001b[0m\u001b[0m\n\u001b[0;32m---> 11\u001b[0;31m     \u001b[0;32mif\u001b[0m \u001b[0mindex\u001b[0m \u001b[0;34m==\u001b[0m \u001b[0mnrOfLines_half\u001b[0m\u001b[0;34m:\u001b[0m\u001b[0;34m\u001b[0m\u001b[0;34m\u001b[0m\u001b[0m\n\u001b[0m\u001b[1;32m     12\u001b[0m         \u001b[0;32mbreak\u001b[0m\u001b[0;34m\u001b[0m\u001b[0;34m\u001b[0m\u001b[0m\n\u001b[1;32m     13\u001b[0m \u001b[0;34m\u001b[0m\u001b[0m\n",
      "\u001b[0;31mNameError\u001b[0m: name 'nrOfLines_half' is not defined"
     ]
    }
   ],
   "source": [
    "for line in decomFile:\n",
    "    jsonline = json.loads(line)\n",
    "    index = index +1\n",
    "    d = datetime.datetime.utcfromtimestamp(jsonline[\"timestamp\"])\n",
    "    if d.minute <= 30:\n",
    "        if jsonline[\"prb_id\"] not in RIPEProbes:\n",
    "            for items in rmv_list:\n",
    "                if items in jsonline:\n",
    "                    jsonline.pop(items)\n",
    "            RIPEProbes.append(jsonline)\n",
    "    if index == nrOfLines_half:\n",
    "        break\n",
    "                          \n",
    "    #Read only first 1m lines\n",
    "    #index = index + 1\n",
    "    #if index > 200:#0000:\n",
    "    #    break\n",
    "                  \n",
    "print(\"Probes in first 1m lines of RIPE Dataset: \" +str(len(RIPEProbes)))            \n",
    "ripe_df = pandas.DataFrame(RIPEProbes)\n",
    "ripe_df.head()"
   ]
  },
  {
   "cell_type": "code",
   "execution_count": null,
   "id": "32c4ccbb",
   "metadata": {},
   "outputs": [],
   "source": [
    "index = 0\n",
    "ProbeASNs = []\n",
    "\n",
    "#Create list of all probes in both RIPE and probe datasets\n",
    "#Saves only the ASNs as these are used later\n",
    "#Probe IDs no longer used after this point\n",
    "for probe in P_df[\"prb_id\"]:\n",
    "    if probe in RIPEProbes:\n",
    "        ProbeASNs.append(P_df[\"ASN\"][index])\n",
    "        \n",
    "    index = index + 1\n",
    "    \n",
    "print(\"Probes in both RIPE and probe dataset: \" + str(len(ProbeASNs)))    "
   ]
  },
  {
   "cell_type": "code",
   "execution_count": null,
   "id": "ead64bb7",
   "metadata": {},
   "outputs": [],
   "source": [
    "HostProbeASNs = []\n",
    "\n",
    "index = 0\n",
    "\n",
    "for ASN in AS_df[\"ASN\"]:\n",
    "    \n",
    "    if ASN in ProbeASNs:\n",
    "        if AS_df[\"type\"][index] == \"hosting\":\n",
    "            HostProbeASNs.append(ASN)            \n",
    "    index = index + 1    \n",
    "    \n",
    "print(\"Amount of probes with an ASN with type hosting: \" + str(len(HostProbeASNs))) \n",
    "\n",
    "HostProbeASNs.sort()"
   ]
  },
  {
   "cell_type": "markdown",
   "id": "a6b61518",
   "metadata": {},
   "source": [
    "Description of results"
   ]
  },
  {
   "cell_type": "markdown",
   "id": "2ec5c14a",
   "metadata": {},
   "source": [
    "## 2.2 Hosting location\n",
    "For a single hour in the RIPE data set: find all valid entries where the probe has hosting type AS and\n",
    "the target IPv4 is from an EU country. Implement this in an efficient way."
   ]
  },
  {
   "cell_type": "code",
   "execution_count": null,
   "id": "1d6146fa",
   "metadata": {},
   "outputs": [],
   "source": [
    "HostProbes = []\n",
    "\n",
    "for ProbeASN in HostProbeASNs:\n",
    "    \n",
    "    index = 0\n",
    "    for ASN in P_df[\"ASN\"]:\n",
    "        if ASN == ProbeASN:\n",
    "            HostProbes.append(P_df[\"prb_id\"][index])\n",
    "            break\n",
    "        index = index + 1\n",
    "        \n",
    "print(len(HostProbes))"
   ]
  },
  {
   "cell_type": "code",
   "execution_count": null,
   "id": "7c3f64bc",
   "metadata": {},
   "outputs": [],
   "source": [
    "decomFilename = 'C:/Users/Kooltje/Downloads/FoDa Data/ping-2022-03-01T2300'\n",
    "decomFile     = open(decomFilename, 'rt')   \n",
    "\n",
    "HostIPs = []\n",
    "index = 0\n",
    "\n",
    "for line in decomFile:\n",
    "    jsonline = json.loads(line)\n",
    "    \n",
    "    \n",
    "    if jsonline[\"prb_id\"] in HostProbes:\n",
    "        try:\n",
    "            #Check for duplicates\n",
    "            if jsonline[\"dst_addr\"] not in HostIPs:\n",
    "                #Check if IP is of type 4\n",
    "                if jsonline[\"af\"] == 4:\n",
    "                    HostIPs.append(jsonline[\"dst_addr\"])\n",
    "        except KeyError as err:\n",
    "            pass\n",
    "    \n",
    "    #Read only first 1m lines\n",
    "    index = index + 1\n",
    "    if index > 1000000:\n",
    "        break\n",
    "                              \n",
    "print(\"Amount of IPs in the RIPE data connected to an AS of type Hosting: \" + str(len(HostIPs)))\n",
    "\n",
    "decomFile.close()"
   ]
  },
  {
   "cell_type": "code",
   "execution_count": null,
   "id": "c0355671-cbd9-4dee-b605-4aa3c88c5394",
   "metadata": {},
   "outputs": [],
   "source": [
    "#Emm\n",
    "\n",
    "decomFilename = 'data/ping-2022-03-01T2300.bz2'\n",
    "decomFile     = open(decomFilename, 'rb') \n",
    "bz2File     = bz2.open(decomFilename, 'rb') \n",
    "\n",
    "firstLine = decomFile.readline()\n",
    "\n",
    "firstLine_sizeInBytes   = sys.getsizeof(firstLine) \n",
    "decomFile_sizeInBytes   = os.stat(decomFilename).st_size\n",
    "nrOfLines               = round(decomFile_sizeInBytes/firstLine_sizeInBytes)\n",
    "print(\"\\nEstimated nr of lines = \" + str(nrOfLines))\n",
    "\n",
    "\n",
    "count = 0;\n",
    "st    = time.time()\n",
    "for line in bz2File:\n",
    "    count = count + 1\n",
    "    if count>100000: \n",
    "        break\n",
    "    \n",
    "#print time and estimate total time            \n",
    "dur         = round(time.time() - st,2)\n",
    "estTotTime  = round( (dur/100000)*nrOfLines )\n",
    "print(\"\\nDecompressed file:\" )\n",
    "print(\"Loading 100k lines took: \"  + str(dur) + \" seconds\")\n",
    "print(\"Estimated loading time of entire decompression file: \"  + str(estTotTime) + \" seconds\" )\n",
    "\n",
    "#---------------------\n",
    "#Do needed conversion\n",
    "#---------------------\n",
    "\n",
    "print('-------')\n",
    "datarow = []\n",
    "counter = 0\n",
    "encoding = 'utf-8'\n",
    "keys = ['af','avg', 'dst_addr','dst_name','from','prb_id','src_addr','timestamp','type']\n",
    "st    = time.time()\n",
    "\n",
    "for line in bz2File:\n",
    "    counter = counter +1\n",
    "    data = \n",
    "    rmv_list =['result','fw','mver','lts','af','proto','size','dup','rcvd','sent','min', 'ttl','max','msm_id','msm_name','step']\n",
    "    print(data)\n",
    "    for items in rmv_list:\n",
    "        if items in data:\n",
    "            data.pop(items)\n",
    "    datarow.append(data)\n",
    "    if counter == 1000000:\n",
    "        break\n",
    "    \n",
    "dur         = round(time.time() - st,2)\n",
    "#estTotTime  = round( (dur/100000)*nrOfLines )\n",
    "#print(\"\\nDecompressed file:\" )\n",
    "print(\"\\nLoading lines took: \"  + str(dur) + \" seconds\")\n",
    "#print(\"\\nEstimated loading time of entire decompression file: \"  + str(estTotTime) + \" seconds\" )\n",
    "        \n",
    "df = pandas.DataFrame(datarow)\n",
    "decomFile.close()\n"
   ]
  },
  {
   "cell_type": "code",
   "execution_count": null,
   "id": "4138c431-1260-43fd-a274-81ed6eeb6018",
   "metadata": {},
   "outputs": [
    {
     "ename": "IndentationError",
     "evalue": "unexpected indent (3729370962.py, line 11)",
     "output_type": "error",
     "traceback": [
      "\u001b[0;36m  File \u001b[0;32m\"/var/folders/qd/wtyzdplx1712rf3p12f4blkm0000gn/T/ipykernel_2967/3729370962.py\"\u001b[0;36m, line \u001b[0;32m11\u001b[0m\n\u001b[0;31m    for line in decomFile:\u001b[0m\n\u001b[0m    ^\u001b[0m\n\u001b[0;31mIndentationError\u001b[0m\u001b[0;31m:\u001b[0m unexpected indent\n"
     ]
    }
   ],
   "source": [
    "for line in decomFile:\n",
    "    data = json.loads(line)\n",
    "    print(type(data))\n",
    "    res_dict = data.pop('result')\n",
    "    datarow.append(res_dict)\n",
    "    #counter = counter +1\n",
    "    #if counter == 100000:\n",
    "    #    print(line)\n",
    "     #   break\n",
    "        \n",
    "        for line in decomFile:\n",
    "    counter = counter +1\n",
    "    if counter == 1:\n",
    "        print(line)\n",
    "        #dataform = str(response_json).strip(\"'<>() \").replace('\\'', '\\\"')\n",
    "        data = line.decode(encoding, errors= 'ignore')\n",
    "        firstLineJson = json.loads(data)\n",
    "        print(json.dumps(firstLineJson, sort_keys=True, indent=4))\n",
    "        break\n",
    "\n",
    "for line in bz2File:\n",
    "    counter = counter +1\n",
    "    data = json.loads(line)\n",
    "    rmv_list =['result','fw','mver','lts','af','proto','size','dup','rcvd','sent','min', 'ttl','max','msm_id','msm_name','step']\n",
    "    for items in rmv_list:\n",
    "        if items in data:\n",
    "            data.pop(items)\n",
    "    datarow.append(data)\n",
    "    #if counter == 1:\n",
    "    #    print(data)\n",
    "    #    break\n",
    "    \n",
    "dur         = round(time.time() - st,2)\n",
    "#estTotTime  = round( (dur/100000)*nrOfLines )\n",
    "#print(\"\\nDecompressed file:\" )\n",
    "print(\"\\nLoading lines took: \"  + str(dur) + \" seconds\")\n",
    "#print(\"\\nEstimated loading time of entire decompression file: \"  + str(estTotTime) + \" seconds\" )\n",
    "        \n",
    "df = pandas.DataFrame(datarow)\n",
    "decomFile.close()\n",
    "\n",
    "        "
   ]
  },
  {
   "cell_type": "code",
   "execution_count": null,
   "id": "37b6e92e-fe9e-43fb-9d96-681d1da61e0b",
   "metadata": {},
   "outputs": [],
   "source": [
    "df.shape"
   ]
  },
  {
   "cell_type": "code",
   "execution_count": null,
   "id": "82f62781-57d3-4d53-89e2-ca3a62d6901b",
   "metadata": {},
   "outputs": [],
   "source": [
    "sdata = b'{\"fw\":5020,\"mver\":\"2.2.1\",\"lts\":-1,\"dst_name\":\"192.5.5.241\",\"af\":4,\"dst_addr\":\"192.5.5.241\",\"src_addr\":\"172.17.0.2\",\"proto\":\"ICMP\",\"ttl\":58,\"size\":32,\"result\":[{\"rtt\":13.444936},{\"rtt\":3.762035},{\"rtt\":3.557907}],\"dup\":0,\"rcvd\":3,\"sent\":3,\"min\":3.557907,\"max\":13.444936,\"avg\":6.921626,\"msm_id\":1004,\"prb_id\":1001660,\"timestamp\":1646176375,\"msm_name\":\"Ping\",\"from\":\"83.243.73.91\",\"type\":\"ping\",\"step\":240}\\n'\n",
    "\n",
    "dict_str = sdata.decode(\"UTF-8\")\n",
    "my_data = ast.literal_eval(dict_str)\n",
    "type(my_data)\n",
    "print(my_data)"
   ]
  },
  {
   "cell_type": "code",
   "execution_count": null,
   "id": "4b46da52-b384-4a0d-b2a4-bbe7c0615420",
   "metadata": {},
   "outputs": [],
   "source": [
    "\n",
    "# Driver code\n",
    "dict_1 = {'John': 15, 'Rick': 10, 'Misa' : 12 }\n",
    "dict_2 = {'John': 18,'Rick': 20,'Misa' : 16 }\n",
    "\n",
    "case_list = [dict_1]\n",
    "\n",
    "case_list.append(dict_2)\n",
    "print(case_list)\n",
    "\n",
    "df1 = pandas.DataFrame(case_list)\n",
    "df1.head()\n"
   ]
  },
  {
   "cell_type": "code",
   "execution_count": null,
   "id": "79d276c9-9564-491a-8f75-3737c36ab698",
   "metadata": {},
   "outputs": [],
   "source": [
    "print(df.shape)\n",
    "df.head()"
   ]
  },
  {
   "cell_type": "code",
   "execution_count": null,
   "id": "d7fcc5db",
   "metadata": {},
   "outputs": [],
   "source": [
    "#Converting the xxx.xxx.xxx.xxx format of the host IPs to integer\n",
    "#Needed for when comparing to the IPv4 dataset\n",
    "\n",
    "HostIPs_Integer = []\n",
    "\n",
    "\n",
    "for IPString in HostIPs:\n",
    "    IP_Splitstring = IPString.split(\".\") \n",
    " \n",
    "    HostIPs_Integer.append(int(IP_Splitstring[0]) * 16581375 + int(IP_Splitstring[1]) * 65025 + int(IP_Splitstring[2]) * 255 + int(IP_Splitstring[3]))  \n",
    "\n",
    "print(len(HostIPs_Integer))\n",
    "\n"
   ]
  },
  {
   "cell_type": "code",
   "execution_count": null,
   "id": "925cfa1a",
   "metadata": {},
   "outputs": [],
   "source": [
    "#List of country codes that are an EU member\n",
    "\n",
    "EU_Countries = [\"AT\",\n",
    "    \"BE\",\n",
    "    \"HR\",\n",
    "    \"CY\",\n",
    "    \"CZ\",\n",
    "    \"DK\",\n",
    "    \"EE\",\n",
    "    \"FI\",\n",
    "    \"FR\",\n",
    "    \"GR\",\n",
    "    \"DE\",\n",
    "    \"HU\",\n",
    "    \"IE\",\n",
    "    \"IT\",\n",
    "    \"LV\",\n",
    "    \"LT\",\n",
    "    \"LU\",\n",
    "    \"MT\",\n",
    "    \"NL\",\n",
    "    \"PL\",\n",
    "    \"PT\",\n",
    "    \"RO\",\n",
    "    \"SK\",\n",
    "    \"SI\",\n",
    "    \"ES\",\n",
    "    \"SE\"]"
   ]
  },
  {
   "cell_type": "code",
   "execution_count": null,
   "id": "b8ad5879",
   "metadata": {},
   "outputs": [],
   "source": [
    "#Compare IPv4 with HostIPs_Integer\n",
    "\n",
    "ipv4_df = pandas.read_csv(\"data/IP2LOCATION-LITE-DB1.CSV\")\n",
    "ipv4_df.rename(columns = {'0':'ip_from', '16777215':'ip_to',\n",
    "                              '-':'country_code','-.1':'country_name'}, inplace = True)\n",
    "\n",
    "ipv4_df.head()\n",
    "\n",
    "HostIPs_EU = []\n",
    "index = 0\n",
    "ipv4index = 0\n",
    "\n",
    "#Sorting the IP list so we can check from low to high IPs\n",
    "HostIPs_Integer.sort\n",
    "\n",
    "for IP_to in ipv4_df[\"ip_to\"]:\n",
    "    \n",
    "    while HostIPs_Integer[index] < IP_to:\n",
    "        if ipv4_df[\"country_code\"][ipv4index] in EU_Countries:\n",
    "            HostIPs_EU.append(HostIPs_Integer[index])\n",
    "            print(HostIPs_Integer[index])\n",
    "            print(ipv4_df[\"country_code\"][ipv4index])\n",
    "        index = index + 1\n",
    "        if index >= len(HostIPs_Integer):\n",
    "            break;\n",
    "    ipv4index = ipv4index + 1  \n",
    "    if index >= len(HostIPs_Integer):\n",
    "        break;\n",
    "                  \n",
    "\n",
    "print(len(HostIPs_EU))\n"
   ]
  },
  {
   "cell_type": "code",
   "execution_count": null,
   "id": "3e762519",
   "metadata": {},
   "outputs": [],
   "source": [
    "ipv4_df.head()"
   ]
  },
  {
   "cell_type": "code",
   "execution_count": null,
   "id": "a2d032c8",
   "metadata": {},
   "outputs": [],
   "source": []
  },
  {
   "cell_type": "markdown",
   "id": "2191f3fa",
   "metadata": {},
   "source": [
    "Description of results"
   ]
  },
  {
   "cell_type": "markdown",
   "id": "ebd58bd1",
   "metadata": {},
   "source": [
    "## 2.3 Latency\n",
    "Move from using only an hour to the full day. It is advisable to store the raw results of each file. Then,\n",
    "using all processed files, calculate the average latency’s for each country-AS combination and store\n",
    "the results into one ncountries ×m matrix. If we could place one server in each country, what would the\n",
    "minimum average latency be for each country? (include in your report)\n"
   ]
  },
  {
   "cell_type": "code",
   "execution_count": null,
   "id": "bc88c47a",
   "metadata": {},
   "outputs": [],
   "source": [
    "#Code..."
   ]
  },
  {
   "cell_type": "markdown",
   "id": "199b3e60",
   "metadata": {},
   "source": [
    "Description of results"
   ]
  },
  {
   "cell_type": "markdown",
   "id": "30083e90",
   "metadata": {},
   "source": [
    "## 2.4 Optimal server locations\n",
    "Since we are only allowed to place four servers, determine the best four datacenters based on the total\n",
    "latency for all countries. Report your findings and your procedure to obtain them. Also include the\n",
    "average latency for each country.\n"
   ]
  },
  {
   "cell_type": "code",
   "execution_count": null,
   "id": "66eb2470",
   "metadata": {},
   "outputs": [],
   "source": [
    "#Code..."
   ]
  },
  {
   "cell_type": "markdown",
   "id": "9a903acb",
   "metadata": {},
   "source": [
    "0Description of results"
   ]
  },
  {
   "cell_type": "markdown",
   "id": "0713386f",
   "metadata": {},
   "source": [
    "# Conclusions\n",
    "\n",
    "... \n",
    "add code if needed"
   ]
  },
  {
   "cell_type": "code",
   "execution_count": null,
   "id": "de3ddae5",
   "metadata": {},
   "outputs": [],
   "source": []
  },
  {
   "cell_type": "code",
   "execution_count": null,
   "id": "4b213d9b",
   "metadata": {},
   "outputs": [],
   "source": []
  },
  {
   "cell_type": "code",
   "execution_count": null,
   "id": "be7a1ae5",
   "metadata": {},
   "outputs": [],
   "source": [
    "index = 0\n",
    "ProbeASNs = []\n",
    "\n",
    "#Create list of all probes in both RIPE and probe datasets\n",
    "#Saves only the ASNs as these are used later\n",
    "#Probe IDs no longer used after this point\n",
    "for probe in P_df[\"prb_id\"]:\n",
    "    if probe in RIPEProbes:\n",
    "        ProbeASNs.append(P_df[\"ASN\"][index])\n",
    "        \n",
    "    index = index + 1\n",
    "    \n",
    "print(\"Probes in both RIPE and probe dataset: \" + str(len(ProbeASNs)))    "
   ]
  },
  {
   "cell_type": "code",
   "execution_count": null,
   "id": "20864ea3",
   "metadata": {},
   "outputs": [],
   "source": [
    "HostProbes = []\n",
    "\n",
    "index = 0\n",
    "\n",
    "print(len(HostProbeASNs))\n",
    "\n",
    "for ASN in P_df[\"ASN\"]:\n",
    "    if ASN in HostProbeASNs:\n",
    "        if P_df[\"prb_id\"][index] not in HostProbes:\n",
    "            HostProbes.append(P_df[\"prb_id\"][index])\n",
    "    index = index + 1\n",
    "\n",
    "print(len(HostProbes))    "
   ]
  },
  {
   "cell_type": "code",
   "execution_count": null,
   "id": "9520643e",
   "metadata": {},
   "outputs": [],
   "source": [
    "0#Random stuff I didn't want to throw away yet\n",
    "#0Code for finding all host probes from EU in the dataset of one hour\n",
    "import time\n",
    "import bz2\n",
    "import os\n",
    "import sys\n",
    "import json\n",
    "\n",
    "# open decompressed file\n",
    "decomFilename = 'C:/Users/Kooltje/Downloads/FoDa Data/ping-2022-03-01T2300'\n",
    "decomFile     = open(decomFilename, 'rt') \n",
    "\n",
    "#read first line and print\n",
    "#firstLine = decomFile.readline();\n",
    "#print(firstLine)\n",
    "\n",
    "#the line appears to be json-formatted: pretty print json\n",
    "#firstLineJson = json.loads(firstLine)\n",
    "\n",
    "#read all lines of first file\n",
    "count = 0\n",
    "st    = time.time()\n",
    "for line in decomFile:\n",
    "    jsonline = json.loads(line)\n",
    "    #print(json.dumps(jsonline, sort_keys=True, indent=4))\n",
    "    count = count + 1\n",
    "    if count > 10000: \n",
    "          break\n",
    "\n",
    "#print the last line\n",
    "print(json.dumps(jsonline, sort_keys=True, indent=4))\n",
    "\n",
    "#print the read duration\n",
    "dur         = round(time.time() - st,2)\n",
    "print(\"Loading took: \" + str(dur) + \" seconds\")\n",
    "print(\"The file had \" + str(count) + \"lines\")\n",
    "\n",
    "#finally close decomFile\n",
    "decomFile.close()"
   ]
  }
 ],
 "metadata": {
  "kernelspec": {
   "display_name": "Python 3 (ipykernel)",
   "language": "python",
   "name": "python3"
  },
  "language_info": {
   "codemirror_mode": {
    "name": "ipython",
    "version": 3
   },
   "file_extension": ".py",
   "mimetype": "text/x-python",
   "name": "python",
   "nbconvert_exporter": "python",
   "pygments_lexer": "ipython3",
   "version": "3.9.6"
  }
 },
 "nbformat": 4,
 "nbformat_minor": 5
}
